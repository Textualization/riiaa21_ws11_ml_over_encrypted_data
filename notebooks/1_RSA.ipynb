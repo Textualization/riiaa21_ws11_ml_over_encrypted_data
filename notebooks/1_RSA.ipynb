{
  "nbformat": 4,
  "nbformat_minor": 0,
  "metadata": {
    "kernelspec": {
      "display_name": "Python 3",
      "language": "python",
      "name": "python3"
    },
    "language_info": {
      "codemirror_mode": {
        "name": "ipython",
        "version": 3
      },
      "file_extension": ".py",
      "mimetype": "text/x-python",
      "name": "python",
      "nbconvert_exporter": "python",
      "pygments_lexer": "ipython3",
      "version": "3.6.8"
    },
    "colab": {
      "name": "RSA.ipynb",
      "provenance": []
    }
  },
  "cells": [
    {
      "cell_type": "markdown",
      "metadata": {
        "id": "p9DkYedM2XcN"
      },
      "source": [
        "This notebook, adapted from https://github.com/Ranlot/public-key-encryption.\n",
        "\n",
        "Please visit the original notebook for further details on padding, signature, optimizations, etc."
        "\n",
        "<a href=\"https://colab.research.google.com/github/textualization/riiaa21_ws11_ml_over_encrypted_data/blob/main/notebooks/1_RSA.ipynb\" target=\"_parent\"><img src=\"https://colab.research.google.com/assets/colab-badge.svg\" alt=\"Open In Colab\"/></a>\n",
        "\n"
      ]
    },
    {
      "cell_type": "code",
      "metadata": {
        "colab": {
          "base_uri": "https://localhost:8080/"
        },
        "id": "CR0OnODd2ekm",
        "outputId": "977502c6-d402-49e3-cb95-5cb5dcaccc11"
      },
      "source": [
        "!pip install egcd"
      ],
      "execution_count": 1,
      "outputs": [
        {
          "output_type": "stream",
          "text": [
            "Collecting egcd\n",
            "  Downloading egcd-0.1.0-py3-none-any.whl (3.6 kB)\n",
            "Installing collected packages: egcd\n",
            "Successfully installed egcd-0.1.0\n"
          ],
          "name": "stdout"
        }
      ]
    },
    {
      "cell_type": "markdown",
      "metadata": {
        "id": "l2nwbEPo2JUp"
      },
      "source": [
        "## 0) Some essential background\n",
        "\n",
        "\n",
        "### Converting from base 10 to other bases\n",
        "\n",
        "We only need to be able to convert from base from base 10 to base 2.\n",
        "\n",
        "*(Incidentally, the ``converter`` below will also convert to other bases &#8804; 10)*\n"
      ]
    },
    {
      "cell_type": "code",
      "metadata": {
        "id": "1opeMerh2JUr"
      },
      "source": [
        "def eulidean_division(x, y):\n",
        "    return x // y, x % y\n",
        "\n",
        "def verif(a, base):\n",
        "    return sum([int(val) * base ** int(pos) for pos, val in enumerate(str(a)[::-1])])\n",
        "\n",
        "# positive integers and base <= 10 only\n",
        "# (we don't include special symbols for higher bases)\n",
        "def converter(a, base):\n",
        "    q, r = eulidean_division(a, base)\n",
        "    xs = [str(r), ]\n",
        "    while q > 0:\n",
        "        q, r = eulidean_division(q, base)\n",
        "        xs.append(str(r))\n",
        "    result = int(''.join(xs[::-1]))\n",
        "    assert verif(result, base) == a\n",
        "    return result"
      ],
      "execution_count": 2,
      "outputs": []
    },
    {
      "cell_type": "code",
      "metadata": {
        "id": "u2Mmeras2JUt",
        "colab": {
          "base_uri": "https://localhost:8080/"
        },
        "outputId": "113355fb-7c57-4c10-b18c-2a091e7266d7"
      },
      "source": [
        "print(converter(194759, 2))"
      ],
      "execution_count": 3,
      "outputs": [
        {
          "output_type": "stream",
          "text": [
            "101111100011000111\n"
          ],
          "name": "stdout"
        }
      ]
    },
    {
      "cell_type": "markdown",
      "metadata": {
        "id": "FFGiwYgi2JUv"
      },
      "source": [
        "### Euclid's extended algorithm\n",
        "\n",
        "Instead of implementing Euclid's extended algorithm ourselves, we decide to rely on the `egcd` library for functionality and focus on a few interesting outcomes of the theorem:\n",
        "- Bézout's identity\n",
        "- Modular inverses"
      ]
    },
    {
      "cell_type": "code",
      "metadata": {
        "id": "xfgG_BG_2JUw"
      },
      "source": [
        "from egcd import egcd \n",
        "\n",
        "def euclidAlg(fst, sec):\n",
        "    # egcd would not be difficult to implement but we focus on the resulting properties:\n",
        "    # a) Bézout's identity\n",
        "    # b) Modular inverses\n",
        "    \n",
        "    gcd, fst_inv, sec_inv = egcd(fst, sec)\n",
        "        \n",
        "    # a) Bézout's identity\n",
        "    assert gcd == (fst * fst_inv) + (sec * sec_inv)\n",
        "    \n",
        "    # b) Modular inverses\n",
        "    assert gcd == fst * fst_inv % sec\n",
        "    assert gcd == sec * sec_inv % fst\n",
        "    \n",
        "    return {'gcd' : gcd, 'fst_inv' : fst_inv % sec, 'sec_inv' : sec_inv % fst}"
      ],
      "execution_count": 4,
      "outputs": []
    },
    {
      "cell_type": "markdown",
      "metadata": {
        "id": "DE3XtTFS2JUy"
      },
      "source": [
        "In case that the input numbers $(a, b)$ are coprimes (a very common situation in this notebook), their greatest common divisor is $\\text{gcd}(a, b) = 1$ and we have the following identities:\n",
        "\n",
        "\\begin{equation}\n",
        "a \\cdot a^{-1}_{\\%b} + b \\cdot b^{-1}_{\\%a} = 1 \\quad\n",
        "\\text{where} \\quad  \n",
        "\\begin{pmatrix}\n",
        "a \\cdot a^{-1}_{\\%b} \\, \\equiv 1 \\,\\,\\text{mod}\\,\\,b \\\\\n",
        "b \\cdot b^{-1}_{\\%a} \\, \\equiv 1 \\,\\,\\text{mod}\\,\\,a\n",
        "\\end{pmatrix}\n",
        "\\end{equation}\n",
        "\n",
        "Note that $\\text{gcd}(a,b)$ and the modular inverses $a^{-1}_{\\%b}$ and $b^{-1}_{\\%a}$ are all computed efficiently and simultaneously with `egcd`. "
      ]
    },
    {
      "cell_type": "markdown",
      "metadata": {
        "id": "aPIzawUj2JUz"
      },
      "source": [
        "### Fast modular exponentiation\n",
        "\n",
        "We are following a classic *square and multiply* method.  \n",
        "\n",
        "(Numbers never exceed the modulus and the complexity only grows linearly with the number of bits of the modulus.)"
      ]
    },
    {
      "cell_type": "code",
      "metadata": {
        "id": "3GPCp35f2JU1"
      },
      "source": [
        "def multiplyList(xs, m) :\n",
        "    result = 1\n",
        "    for x in xs:\n",
        "        result = result * x % m\n",
        "    return result % m\n",
        "\n",
        "def FasterModularExponentiation(b, e, m):\n",
        "    def helper(kmax):\n",
        "        d = {}\n",
        "        s = b % m\n",
        "        d[0] = s\n",
        "        for _ in range(kmax):\n",
        "            s = (s * s) % m\n",
        "            d[_ + 1] = s\n",
        "        return d\n",
        "\n",
        "    e2 = converter(e, 2)\n",
        "    necessaryBits = [_[0] for _ in enumerate(reversed(str(e2))) if _[1] == '1']\n",
        "    d = helper(max(necessaryBits))\n",
        "    allVals = [d[_] for _ in necessaryBits]\n",
        "\n",
        "    return multiplyList(allVals, m)"
      ],
      "execution_count": 5,
      "outputs": []
    },
    {
      "cell_type": "code",
      "metadata": {
        "id": "4tc2ILgK2JU4",
        "colab": {
          "base_uri": "https://localhost:8080/"
        },
        "outputId": "d900802c-0961-44e4-ef6f-f1d9ef38db35"
      },
      "source": [
        "FasterModularExponentiation(14, 9, 138)"
      ],
      "execution_count": 6,
      "outputs": [
        {
          "output_type": "execute_result",
          "data": {
            "text/plain": [
              "44"
            ]
          },
          "metadata": {},
          "execution_count": 6
        }
      ]
    },
    {
      "cell_type": "markdown",
      "metadata": {
        "id": "JWoH-QXB2JU6"
      },
      "source": [
        "Quick check with small integers"
      ]
    },
    {
      "cell_type": "code",
      "metadata": {
        "id": "AlYoQv7s2JU8",
        "colab": {
          "base_uri": "https://localhost:8080/"
        },
        "outputId": "71ab5668-4809-48cb-9db2-b0c6a70da370"
      },
      "source": [
        "14 ** 9 % 138"
      ],
      "execution_count": 7,
      "outputs": [
        {
          "output_type": "execute_result",
          "data": {
            "text/plain": [
              "44"
            ]
          },
          "metadata": {},
          "execution_count": 7
        }
      ]
    },
    {
      "cell_type": "markdown",
      "metadata": {
        "id": "otzns_7y2JU9"
      },
      "source": [
        "# 1) Real-world SSH keys\n",
        "\n",
        "We start by using **ssh-keygen** to generate a pair of public / private keys into directory _ssh_key_example_.  By default the private key **ssh_key** (default name when generating the key) is in PEM (Privacy-Enhanced Mail) format but the public key is not.  Given the private key, one can generate a PEM public key by running:\n",
        "\n",
        "```openssl rsa -in ssh_key -pubout -out ssh_key.pub.pem```\n",
        "\n",
        "This way the contents of both keys can be parsed with openssl.\n",
        "\n",
        "## 1.1) Public Key\n",
        "\n",
        "The public key is composed of 2 integers:\n",
        "\n",
        "---\n",
        "- the modulus denoted as $n$,\n",
        "- and the public exponent $e$\n",
        "---\n",
        "\n",
        "Both are represented below in hexadecimal representation.\n"
      ]
    },
    {
      "cell_type": "code",
      "metadata": {
        "colab": {
          "base_uri": "https://localhost:8080/"
        },
        "id": "pFrXqsHf20Nu",
        "outputId": "eae1df98-3d3f-4403-fe46-c16c14efdde8"
      },
      "source": [
        "!rm -f /content/key\n",
        "!ssh-keygen -t rsa -f /content/key -P \"\""
      ],
      "execution_count": 8,
      "outputs": [
        {
          "output_type": "stream",
          "text": [
            "Generating public/private rsa key pair.\n",
            "Your identification has been saved in /content/key.\n",
            "Your public key has been saved in /content/key.pub.\n",
            "The key fingerprint is:\n",
            "SHA256:od91l2FlS34g58FydgYIekLOW/vQN2flpWvxR35EBhc root@0dc48ca22c1e\n",
            "The key's randomart image is:\n",
            "+---[RSA 2048]----+\n",
            "|        . ...o*E=|\n",
            "|       + .  o+**=|\n",
            "|        * o  +.B*|\n",
            "|       . * o  .=*|\n",
            "|      . S o o *.B|\n",
            "|       . . + o % |\n",
            "|        . . . o =|\n",
            "|             .  o|\n",
            "|                 |\n",
            "+----[SHA256]-----+\n"
          ],
          "name": "stdout"
        }
      ]
    },
    {
      "cell_type": "code",
      "metadata": {
        "colab": {
          "base_uri": "https://localhost:8080/"
        },
        "id": "OtDhlX203fEj",
        "outputId": "716056f7-1f55-4ce5-8fac-576ac35bc0ed"
      },
      "source": [
        "!openssl rsa -in /content/key -pubout -out /content/key.pub.pem"
      ],
      "execution_count": 9,
      "outputs": [
        {
          "output_type": "stream",
          "text": [
            "writing RSA key\n"
          ],
          "name": "stdout"
        }
      ]
    },
    {
      "cell_type": "code",
      "metadata": {
        "colab": {
          "base_uri": "https://localhost:8080/"
        },
        "id": "3gTjoGQK31Qx",
        "outputId": "98f84142-4675-462c-d203-c96a6fa97636"
      },
      "source": [
        "!openssl asn1parse -inform pem -in /content/key.pub.pem > /content/pub.parsed.txt\n",
        "!cat /content/pub.parsed.txt\n",
        "parse1 = open(\"/content/pub.parsed.txt\").read().split(\"\\n\")"
      ],
      "execution_count": 10,
      "outputs": [
        {
          "output_type": "stream",
          "text": [
            "    0:d=0  hl=4 l= 290 cons: SEQUENCE          \n",
            "    4:d=1  hl=2 l=  13 cons: SEQUENCE          \n",
            "    6:d=2  hl=2 l=   9 prim: OBJECT            :rsaEncryption\n",
            "   17:d=2  hl=2 l=   0 prim: NULL              \n",
            "   19:d=1  hl=4 l= 271 prim: BIT STRING        \n"
          ],
          "name": "stdout"
        }
      ]
    },
    {
      "cell_type": "code",
      "metadata": {
        "colab": {
          "base_uri": "https://localhost:8080/"
        },
        "id": "ktLwWTOh4gXE",
        "outputId": "06e92b34-af7d-4239-8043-cbec087cad39"
      },
      "source": [
        "pos = list(map(lambda x:\"BIT STRING\" in x,parse1)).index(True)\n",
        "pos = int(parse1[pos].split(':')[0])\n",
        "pos"
      ],
      "execution_count": 11,
      "outputs": [
        {
          "output_type": "execute_result",
          "data": {
            "text/plain": [
              "19"
            ]
          },
          "metadata": {},
          "execution_count": 11
        }
      ]
    },
    {
      "cell_type": "code",
      "metadata": {
        "colab": {
          "base_uri": "https://localhost:8080/"
        },
        "id": "ZpQ6VLRu5P_X",
        "outputId": "66baccf9-ab1c-4c0b-8494-0331c5c44706"
      },
      "source": [
        "!openssl asn1parse -inform pem -in /content/key.pub.pem -strparse 19 > /content/pub.parsed2.txt\n",
        "!cat /content/pub.parsed2.txt\n",
        "parse2 = open(\"/content/pub.parsed2.txt\").read().split(\"\\n\")"
      ],
      "execution_count": 12,
      "outputs": [
        {
          "output_type": "stream",
          "text": [
            "    0:d=0  hl=4 l= 266 cons: SEQUENCE          \n",
            "    4:d=1  hl=4 l= 257 prim: INTEGER           :A6CBF0F07A48DD042CA0B56D23362DDA8D9F01FA17542561203DE176C1AC5ED96303D16A30954819F31379D965685B9DB73163B2AD5FFF15C99D41DC35D6419003190022E2BF51191B5B0528EE7327F121140C21ABF581F00CCF5863CAFA0A30E86968DBEBFCA14CD980A2D068D25EFBCBE0C072587EED57E1350E7BA70350ED6D04A223464A6A9F966506AB172DD76D2EDD2C2705635A60E8C5C61012494E732807991E89AF7DA80797ECC48C415D504F60A73A40E33DCD0CBF8E1FFE0172318655807DDBEA5B471538B57CF9BF77BE9D01977E72E50DBFFA876F63E01A84E2CEB2D9CA7D90EFF62D2559B08C9A0413CADEC799802897BC7F479D213EBFCBF7\n",
            "  265:d=1  hl=2 l=   3 prim: INTEGER           :010001\n"
          ],
          "name": "stdout"
        }
      ]
    },
    {
      "cell_type": "code",
      "metadata": {
        "id": "mJqKZf4u5dSx"
      },
      "source": [
        "pem_public_n=int(parse2[1].split(\"prim: INTEGER\")[1].split(\":\")[1], 16)"
      ],
      "execution_count": 13,
      "outputs": []
    },
    {
      "cell_type": "code",
      "metadata": {
        "id": "pxM4Yhyu2JU-",
        "colab": {
          "base_uri": "https://localhost:8080/"
        },
        "outputId": "72bc127d-102f-4354-8326-894e9c37cc87"
      },
      "source": [
        "print('public modulus =', pem_public_n)\n",
        "\n",
        "pem_public_e = int('010001', 16)\n",
        "\n",
        "print('\\npublic exponent =', pem_public_e)"
      ],
      "execution_count": 14,
      "outputs": [
        {
          "output_type": "stream",
          "text": [
            "public modulus = 21056125763184531250636432086869825371508649622346528920523671421066493886813999309319360945457326397269793732830180972170488306546493649906889672685272234921063382356852689929347415819816523201100915807564073879323858061976882647302487427112067758233501767581642382321418769007473896629050586983435412286727936233601728910364370618824671554660600745146706391469618289405274614185906816838931305863238288789108333045835552449417688865294196188979036202892873484217052555336705127518158701577623411903967339691039898084646268436386798888640976747754013635422846609196198524140406233217244321808893074474553922472102903\n",
            "\n",
            "public exponent = 65537\n"
          ],
          "name": "stdout"
        }
      ]
    },
    {
      "cell_type": "markdown",
      "metadata": {
        "id": "MIICmLca2JVA"
      },
      "source": [
        "By convention, the public exponent is fixed to a 65537.  This value is rather small when compared to the modulus and the notebook will have a section to below to discuss the order of magnitudes of the different numbers.  We will check later (when we have access to the private key) that this value is indeed coprime to $\\phi(n)$ as should be for RSA to work)"
      ]
    },
    {
      "cell_type": "markdown",
      "metadata": {
        "id": "pfTQcF3j2JVB"
      },
      "source": [
        "## 1.2) Private key\n",
        "\n",
        "Obviously, the private key contains more information which is composed of the following 5 integers:\n",
        "\n",
        "---\n",
        "*(repeated from public key)*\n",
        "- the modulus $n$\n",
        "- the public exponent $e$\n",
        "---\n",
        "- the private exponent $d$ used for decrytion\n",
        "- the first random prime $p$\n",
        "- the second random prime $q$\n",
        "---\n",
        "*(to be used for optimized decryption via Chinese remainder theorem)*\n",
        "- the first optizmized exponent $d_p$\n",
        "- the second optizmized exponent $d_q$\n",
        "- modular inverse $q^{-1}_{\\%p}$\n"
      ]
    },
    {
      "cell_type": "code",
      "metadata": {
        "colab": {
          "base_uri": "https://localhost:8080/"
        },
        "id": "Ko6j8aO951IL",
        "outputId": "82874902-9d5f-43b3-af9d-291e0ecbe263"
      },
      "source": [
        "!openssl asn1parse -inform pem -in /content/key  > /content/parsed.txt\n",
        "!cat /content/parsed.txt\n",
        "parse3 = open(\"/content/parsed.txt\").read().split(\"\\n\")"
      ],
      "execution_count": 15,
      "outputs": [
        {
          "output_type": "stream",
          "text": [
            "    0:d=0  hl=4 l=1188 cons: SEQUENCE          \n",
            "    4:d=1  hl=2 l=   1 prim: INTEGER           :00\n",
            "    7:d=1  hl=4 l= 257 prim: INTEGER           :A6CBF0F07A48DD042CA0B56D23362DDA8D9F01FA17542561203DE176C1AC5ED96303D16A30954819F31379D965685B9DB73163B2AD5FFF15C99D41DC35D6419003190022E2BF51191B5B0528EE7327F121140C21ABF581F00CCF5863CAFA0A30E86968DBEBFCA14CD980A2D068D25EFBCBE0C072587EED57E1350E7BA70350ED6D04A223464A6A9F966506AB172DD76D2EDD2C2705635A60E8C5C61012494E732807991E89AF7DA80797ECC48C415D504F60A73A40E33DCD0CBF8E1FFE0172318655807DDBEA5B471538B57CF9BF77BE9D01977E72E50DBFFA876F63E01A84E2CEB2D9CA7D90EFF62D2559B08C9A0413CADEC799802897BC7F479D213EBFCBF7\n",
            "  268:d=1  hl=2 l=   3 prim: INTEGER           :010001\n",
            "  273:d=1  hl=4 l= 256 prim: INTEGER           :659E04090E070C17B9F4A2F37DAB495E483FA25DB20EC2C31C7876BEFA1940A3E20DF66C6272E03D66F8EB98458EC19A217C8687D9D68D3AC1DCFBBDE452C718ACBA7379CD78CF38A390DD60E57CE4CDA3E069CFADCAE1C1D49C11F6A2379933D8B4377D1C9589D39F031EAE27DE5A9DBEC50B99DE4E5DDCD74892AD44BFE171F8A8FA823C2DE3E87F1A50641445B07D27A4CFAEC46E820A453195647F79ED13AAE356776DC5CB250B0F2DC94AFF2885ACAF5800B17049E64CA6A1DE3C2E2E1D82F824CB7621058C96EE59DA6A931062D53C083EAEF0F4681E4B7265A6EB5616B359C78859C3C7B81C7CDCB10979E8EB084BE1AAEF4D7871B864005D7CD698A9\n",
            "  533:d=1  hl=3 l= 129 prim: INTEGER           :D6F0DB47D379560B086B50535BB75222FB4119F945BD6AAE18F131F3E9AC2C573B9FF20375BD562158E0EE9ED55C6F661B1CB8B1985C5377D42B382FDCF6312026FEFEAD7EE27E90ABDA83E9E7B799FB1BEAFE46D1D9EFA1AC21DCBF9E0C7AD39A90D77949F6D61F07DEDAAA58CB6346296993DD8FE379701FE96CAFC5AD052D\n",
            "  665:d=1  hl=3 l= 129 prim: INTEGER           :C6A8B68EAB9DFF703D17D1869A9E07F61934DC1944D7D5E7D76DDF461AD6B8374D38B78226A0D0EAFABB038E472105DD174582D46F74E22C668D40FC44204A0057A70A2114AF3405EECF03ECB752414CB2A6CEB2F9E7D005FD12D34BEDABA6D4E7D7E59E1A03139D875AF7B4B7092874BB280E85949136CBD4F0EA8A2D095433\n",
            "  797:d=1  hl=3 l= 129 prim: INTEGER           :D260223036030FBD72BB1E7EC84930C27E6B64D1BF79BAFDB5F9F56B87EDF5E457BEA030D4BFC19A98146859DBF9422B8D23DA7E30E344EB07265A3336B15CB9DC913E926F9B9E47597D6219C1ABC9B1A6CCA59E896D270775A41B1D0DC3A7408F8B6EEB0F02E2E6B25C6467D0CB195AA5D3E95F35A36ECBD8E02E7A081FE5ED\n",
            "  929:d=1  hl=3 l= 128 prim: INTEGER           :1CC5CACB1728271B067E30A6A2364948E795B45B24916E35CA09EBD0A78A79DBE89F5254D36B6F56D941C4DE128741E627BCB59A371A62B7B392B9DACFB32D84A72D56563C3CB3F838025BBB29420C9B2334EDB31666F0C62D4550BD2A8B35FA9829B8E4113868DAE403D4E4A3ADFBE20C495CF113F7844C39673B510FFCCDE9\n",
            " 1060:d=1  hl=3 l= 129 prim: INTEGER           :AEA1310ECEA62C16C4A5437033F0DA7C65AE4906DAF9248465C1587319A480B72333324B0B23DDA7670F2160E00DA3103C70884CC3626469BCDC4AF8C60509BAA1BCF518C0C9D0C180F52968C37561FD9E66DC814AF281A63AADFCAA85E80CEF52598DD45DAE34A24F621221E00F60C14A37EB971BAC31A004CF86FD3275DF8A\n"
          ],
          "name": "stdout"
        }
      ]
    },
    {
      "cell_type": "code",
      "metadata": {
        "id": "4oBif34c6LdN"
      },
      "source": [
        "def get_num(idx):\n",
        "  return int(parse3[idx].split(\"prim: INTEGER\")[1].split(\":\")[1], 16)"
      ],
      "execution_count": 16,
      "outputs": []
    },
    {
      "cell_type": "markdown",
      "metadata": {
        "id": "BK1Ih3np2JVC"
      },
      "source": [
        "We start by verifying that $n$ are $e$ are indeed identical between the public and private keys:"
      ]
    },
    {
      "cell_type": "code",
      "metadata": {
        "id": "KihtkwYD2JVC"
      },
      "source": [
        "pem_private_n = get_num(2)\n",
        "\n",
        "pem_private_e = int('010001', 16)"
      ],
      "execution_count": 17,
      "outputs": []
    },
    {
      "cell_type": "code",
      "metadata": {
        "id": "nxylRskm2JVE"
      },
      "source": [
        "assert pem_private_n == pem_public_n\n",
        "assert pem_private_e == pem_public_e"
      ],
      "execution_count": 18,
      "outputs": []
    },
    {
      "cell_type": "markdown",
      "metadata": {
        "id": "NuumS-072JVQ"
      },
      "source": [
        "The following three consist of the private exponent $d$ and the two underlying primes $p, q$ that divide the factorize the (public) modulus"
      ]
    },
    {
      "cell_type": "code",
      "metadata": {
        "id": "HlQEDd2w2JVS",
        "colab": {
          "base_uri": "https://localhost:8080/"
        },
        "outputId": "1e4d1756-16fa-4f99-e845-12d32ee1d5fe"
      },
      "source": [
        "pem_private_d = get_num(4)\n",
        "\n",
        "pem_private_p = get_num(5)\n",
        "\n",
        "pem_private_q = get_num(6)\n",
        "\n",
        "print('p =', pem_private_p)\n",
        "print('\\nq =', pem_private_q)\n",
        "print('\\nd =', pem_private_d)"
      ],
      "execution_count": 19,
      "outputs": [
        {
          "output_type": "stream",
          "text": [
            "p = 150936594990839686570615656508358321076786118499844450867747287690125767073078158525868597141884979601931943503448598358181989178653233322176922914703249253576133622320344816053252712029375268605326576607433338780782985861422256367829503498024499183067715272466371044413890197337851651255496673028190583457069\n",
            "\n",
            "q = 139503118938534578340594550488248174497373959484196603186484466626436127469156407926706861316234451468660565568012170074714171208353111334920583887505389234253311364720785287643078283871883359759498931996165259143686779024415481662099214400205754016354478001294825586382075133669272240967271435580771358299187\n",
            "\n",
            "d = 12827989278524631570626681476607893519816681469573368634660552494452323136836024694801320238480166487080443938091622071133116966224908860030706073840805415623133461515816368628546535108989034009038501387744492085078103679456657971204760906088217791217007569376569501181733786870949391499581958076927929358563478853358532921522851455023542543225735332133586787387921725587527688997624451476162446692275475257615894325516576720733018269509275202011719277946991398682129043546867180749305568918571500279765347571022996621852407884966032559629633866183253171521959605330350110250335065167673109864944921529412155562432681\n"
          ],
          "name": "stdout"
        }
      ]
    },
    {
      "cell_type": "markdown",
      "metadata": {
        "id": "n_VbgYCi2JVU"
      },
      "source": [
        "We can check that the modulus $n = pq$ is indeed the product of the private random primes.  In addition, we also check that the public exponent $e$ is coprime to Euler's totient function $\\varphi(n)$. Since $p$ and $q$ are primes, we have $$\\varphi(n) = \\varphi(p)\\cdot\\varphi(q) = (p-1)\\cdot(q-1)$$."
      ]
    },
    {
      "cell_type": "code",
      "metadata": {
        "id": "rz04gRke2JVU"
      },
      "source": [
        "assert pem_public_n == pem_private_p * pem_private_q\n",
        "assert 1 == euclidAlg(pem_private_e, (pem_private_p - 1) * (pem_private_q - 1))['gcd']"
      ],
      "execution_count": 20,
      "outputs": []
    },
    {
      "cell_type": "markdown",
      "metadata": {
        "id": "CkqnLkaq2JVU"
      },
      "source": [
        "Therefore we can verify that the private exponent is indeed the inverse of the public exponent modulo $\\varphi(n)$\n",
        "\n",
        "\\begin{equation}\n",
        "e \\cdot d \\equiv 1 \\,\\, \\text{mod} \\,\\, \\varphi(n)\n",
        "\\end{equation}"
      ]
    },
    {
      "cell_type": "code",
      "metadata": {
        "id": "y41nu-Eb2JVV"
      },
      "source": [
        "assert 1 == pem_public_e * pem_private_d % ((pem_private_p - 1) * (pem_private_q - 1))"
      ],
      "execution_count": 21,
      "outputs": []
    },
    {
      "cell_type": "markdown",
      "metadata": {
        "id": "lio6Zoct2JVW"
      },
      "source": [
        "The other numbers contained in the private key are not strictly necessary for decryption.  They will come in handy when using the Chinese remainder theorem to optimize the decryption part (discussed further below in the notebook)."
      ]
    },
    {
      "cell_type": "code",
      "metadata": {
        "id": "23-gcLqs2JVW"
      },
      "source": [
        "pem_crt_exponent_p = get_num(7)\n",
        "\n",
        "pem_crt_exponent_q = get_num(8)\n",
        "\n",
        "pem_crt_qInv = get_num(9)"
      ],
      "execution_count": 22,
      "outputs": []
    },
    {
      "cell_type": "code",
      "metadata": {
        "id": "LVr6kv3d2JVX"
      },
      "source": [
        "from math import log10, log, floor\n",
        "\n",
        "def approx10(x): # take a power an exponent in base 2 and approximate in base 10\n",
        "    b10exp = floor(log10(x))\n",
        "    prefactor = round(x / 10 ** b10exp, 3)\n",
        "    return '%s x 10^{%s}' % (prefactor, b10exp)"
      ],
      "execution_count": 23,
      "outputs": []
    },
    {
      "cell_type": "markdown",
      "metadata": {
        "id": "14Iixrq22JV3"
      },
      "source": [
        "## 3.2) Encryption\n",
        "\n",
        "The cipher is determined by the remainder of the division of the plaintext $m$ raised to the public exponent $e$ by the public modulus $n$\n",
        "\n",
        "\\begin{equation}\n",
        "c = m^e \\,\\,\\text{mod}\\,\\, n\n",
        "\\end{equation}\n",
        "\n",
        "We use the square and multiply modular exponentation function implemented earlier in the notebook"
      ]
    },
    {
      "cell_type": "code",
      "metadata": {
        "id": "r6ZOJPsR2JV5",
        "colab": {
          "base_uri": "https://localhost:8080/"
        },
        "outputId": "4a8973b7-060d-40cd-c219-75f1c20c168f"
      },
      "source": [
        "def encrypt(msgInt):\n",
        "  return FasterModularExponentiation(msgInt, pem_public_e, pem_public_n)\n",
        "\n",
        "encrypted = encrypt(42)\n",
        "encrypted"
      ],
      "execution_count": 24,
      "outputs": [
        {
          "output_type": "execute_result",
          "data": {
            "text/plain": [
              "10244889826791178601967170593137833146373781594314374305545664060473445919370557590248195662973342115476745221006179212832894238962364718606200396913076025662401525736926844273625750724727489303968651179119547110712257283423532077209112153433371389788474774247698208546675789429415050194571394127684040819340969375333967560069136152988640244532928098738191210559598872320642045912265080887533226675064485594287106255141785489735986620768412549312895168377145238315564814025530699546073699398607763860917038039445342489828958402402520729781753232030910765905432279137205929716459983562037466865325469826739194041736427"
            ]
          },
          "metadata": {},
          "execution_count": 24
        }
      ]
    },
    {
      "cell_type": "markdown",
      "metadata": {
        "id": "ZkPfiYDn2JV8"
      },
      "source": [
        "\n",
        "## 3.3) Decryption\n",
        "\n",
        "Similar to the encryption, we will show first how to decode the cipher using the Pycrypto library and then verify that our custom modular exponentiation function reproduces the same result.  The message can be recovered by evaluating the remainder of the division of the cipher $c$ raise to the private exponent $d$ with the public modulus $n$:\n",
        "\n",
        "\\begin{equation}\n",
        "c^d \\,\\,\\text{mod}\\,\\, n \\equiv m \\,\\,\\text{mod}\\,\\,n\n",
        "\\end{equation}\n",
        "\n",
        "The proof of why this is true is given in the accompanying PDF document.  Note that the private exponent $d$ is very large (on the order to the modulus $n$) since it is defined as the modular inverse of the public exponent $e$ which is itself quite small:\n",
        "\n",
        "\\begin{equation}\n",
        "e \\cdot d \\equiv 1 \\,\\,\\text{mod}\\,\\, \\phi(n)\n",
        "\\end{equation}\n",
        "\n",
        "\n",
        "#### The private exponent $d$\n",
        "\n",
        "One of the strenghts of RSA is that it is not feasible to evaluate Euler's totient function $\\phi(n)$ without having previous knowledge of $p$ and $q$.  In other words, calculating $\\phi(n)$ is as hard as factorizing $n$ into its prime factors.  However, if we do know the values of $p, q$ it is very easy to calculate $\\phi(n)$ as\n",
        "\n",
        "\\begin{align}\n",
        "\\phi(n) &= \\phi(p) \\cdot \\phi(q) \\\\\n",
        "&= (p-1) \\cdot (q-1)\n",
        "\\end{align}"
      ]
    },
    {
      "cell_type": "code",
      "metadata": {
        "id": "OyD9eFkd2JV8"
      },
      "source": [
        "phiN = (pem_private_p - 1) * (pem_private_q - 1)"
      ],
      "execution_count": 25,
      "outputs": []
    },
    {
      "cell_type": "markdown",
      "metadata": {
        "id": "kZGzZT0g2JV8"
      },
      "source": [
        "First of all, we shoud verify that $e$ and $\\phi(n)$ are co-primes (actually it was already checked earlier but we can do it again...).  This is a necessary condition for the modular inverse of $e$ to exist (and be unique)."
      ]
    },
    {
      "cell_type": "code",
      "metadata": {
        "id": "s2VfOiDl2JV9"
      },
      "source": [
        "egcd_e_phiN = euclidAlg(pem_public_e, phiN)\n",
        "\n",
        "assert egcd_e_phiN['gcd'] == 1"
      ],
      "execution_count": 27,
      "outputs": []
    },
    {
      "cell_type": "markdown",
      "metadata": {
        "id": "752U10uV2JV9"
      },
      "source": [
        "In this case, $d$ is also calculated using Euclid's extended theorem."
      ]
    },
    {
      "cell_type": "code",
      "metadata": {
        "id": "xTM3XJRg2JV-",
        "colab": {
          "base_uri": "https://localhost:8080/"
        },
        "outputId": "1a3f1faf-b64f-44df-a63f-ea7dbee70f39"
      },
      "source": [
        "my_private_d = egcd_e_phiN['fst_inv']\n",
        "\n",
        "print('e = %d' % pem_public_e)\n",
        "print('\\nd = ', my_private_d)\n",
        "print('\\nd ~ %s' % (approx10(my_private_d)))\n",
        "print('\\nd / n ~ %s' % approx10(my_private_d / pem_public_n))"
      ],
      "execution_count": 29,
      "outputs": [
        {
          "output_type": "stream",
          "text": [
            "e = 65537\n",
            "\n",
            "d =  12827989278524631570626681476607893519816681469573368634660552494452323136836024694801320238480166487080443938091622071133116966224908860030706073840805415623133461515816368628546535108989034009038501387744492085078103679456657971204760906088217791217007569376569501181733786870949391499581958076927929358563478853358532921522851455023542543225735332133586787387921725587527688997624451476162446692275475257615894325516576720733018269509275202011719277946991398682129043546867180749305568918571500279765347571022996621852407884966032559629633866183253171521959605330350110250335065167673109864944921529412155562432681\n",
            "\n",
            "d ~ 1.283 x 10^{616}\n",
            "\n",
            "d / n ~ 6.092 x 10^{-1}\n"
          ],
          "name": "stdout"
        }
      ]
    },
    {
      "cell_type": "markdown",
      "metadata": {
        "id": "Z87q8BOr2JWA"
      },
      "source": [
        "With $e = 65537$, we have a private exponent $d \\approx 8.5 \\cdot 10^{615} \\approx 0.35 \\, n$. Because this decryption exponent is so big, it is more efficient to optimize the decryption using the Chinese remainder theorem than to perform a straightforward exponentiation directly on $c$.  \n",
        "\n",
        "We will show in a section below how to do this optimization, but for now in the sake of simplicity, let us go ahead and calculate $c^d \\,\\,\\text{mod}\\,\\,n$ directly."
      ]
    },
    {
      "cell_type": "markdown",
      "metadata": {
        "id": "SZMNAD0U2JWB"
      },
      "source": [
        "### with custom modular exponentiation"
      ]
    },
    {
      "cell_type": "code",
      "metadata": {
        "id": "LvyTzgiI2JWC",
        "colab": {
          "base_uri": "https://localhost:8080/"
        },
        "outputId": "ed0d31b3-d43f-47fe-dbaf-044209cfc852"
      },
      "source": [
        "def decrypt(my_cipher):\n",
        "  return FasterModularExponentiation(my_cipher, my_private_d, pem_public_n)\n",
        "\n",
        "decrypted = decrypt(encrypted)\n",
        "decrypted"
      ],
      "execution_count": 32,
      "outputs": [
        {
          "output_type": "execute_result",
          "data": {
            "text/plain": [
              "42"
            ]
          },
          "metadata": {},
          "execution_count": 32
        }
      ]
    },
    {
      "cell_type": "markdown",
      "metadata": {
        "id": "yR1JIPky2JWD"
      },
      "source": [
        "Verify that the initial message is indeed recovered by all methods"
      ]
    },
    {
      "cell_type": "code",
      "metadata": {
        "id": "DOUFE0gr2JWE"
      },
      "source": [
        "assert 42 == decrypted"
      ],
      "execution_count": 33,
      "outputs": []
    },
    {
      "cell_type": "markdown",
      "metadata": {
        "id": "z-snmBlh2JWE"
      },
      "source": [
        "### Sanity check\n",
        "\n",
        "As a sanity check, let us change the private exponent $d$ into a fake $d_\\text{fake} = d - 1$ almost identical to the real one.  Notice that we are talking about a difference of 1 to numbers on the order of $10^{615}$ and yet, as expected, the decryption completely fails to recover the original message."
      ]
    },
    {
      "cell_type": "code",
      "metadata": {
        "id": "lcJ3cebM2JWG",
        "colab": {
          "base_uri": "https://localhost:8080/"
        },
        "outputId": "78802ab5-d729-4c0b-dc17-090fd3ccd81e"
      },
      "source": [
        "FasterModularExponentiation(encrypted, my_private_d - 1, pem_public_n)"
      ],
      "execution_count": 45,
      "outputs": [
        {
          "output_type": "execute_result",
          "data": {
            "text/plain": [
              "7496426861534769303241933179210215187122339758951029923001250549109703832006383954977020773138024010719517201976141416087710572134505480268028706631239249095477360480294000118087657662188328093478749864426421497238120538416467789539752003899509870916368443700557442172377850160981004929918941101574622916646095379188508826578778813930161258886282469234962147536177722020633155862519620399748517247817951077598230288456424919189388748115426558093381056108199258458186815207218035841819307780488980806989018254231908948349305329340053311204140514120157170437431888335631201063940325480222121028687353845800907991590127"
            ]
          },
          "metadata": {},
          "execution_count": 45
        }
      ]
    },
    {
      "cell_type": "markdown",
      "metadata": {
        "id": "mXw0586M2JWb"
      },
      "source": [
        "# 5) Partial homomorphic encryption in \"textbook\" RSA\n",
        "\n",
        "In this section, we show how unpadded RSA is a partially homomorphic encryption scheme.  \n",
        "\n",
        "Let us consider two integers $x_1$ and $x_2$ on which we wish to perform some computation.  Instead of doing the computation locally, we want to perform it on some unsecure data processor (cloud for example...) without revealing to the remote server anything about our data other than the list of instructions to execute.\n"
      ]
    },
    {
      "cell_type": "markdown",
      "metadata": {
        "id": "WuvRFjc92JWb"
      },
      "source": [
        "Denoting by $\\mathcal{E}$ the \"textbook\" RSA encryption function, the secret numbers $x_1$ and $x_2$ are encrypted into ciphers $c_1$ and $c_2$"
      ]
    },
    {
      "cell_type": "markdown",
      "metadata": {
        "id": "4XW23nab2JWc"
      },
      "source": [
        "\\begin{align}\n",
        "c_1 &= \\mathcal{E}(x_1) \\\\\n",
        "c_2 &= \\mathcal{E}(x_2) \n",
        "\\end{align}"
      ]
    },
    {
      "cell_type": "code",
      "metadata": {
        "id": "PdySl2Ga2JWc"
      },
      "source": [
        "x1 = 585\n",
        "x2 = 117"
      ],
      "execution_count": 46,
      "outputs": []
    },
    {
      "cell_type": "code",
      "metadata": {
        "id": "raU2KxDA2JWc"
      },
      "source": [
        "c1 = encrypt(x1)\n",
        "c2 = encrypt(x2)"
      ],
      "execution_count": 47,
      "outputs": []
    },
    {
      "cell_type": "code",
      "metadata": {
        "id": "fdSxWsPG2JWd",
        "colab": {
          "base_uri": "https://localhost:8080/"
        },
        "outputId": "cc2e9f57-0157-4170-fb8f-d1744975d628"
      },
      "source": [
        "print('x1 =', x1)\n",
        "print('c1 =',hex(c1))\n",
        "\n",
        "print('\\nx2 =', x2)\n",
        "print('c2 =', hex(c2))"
      ],
      "execution_count": 48,
      "outputs": [
        {
          "output_type": "stream",
          "text": [
            "x1 = 585\n",
            "c1 = 0x560a2f20fdd0442f003f9fe8331adf868f4d615d1092c67642eba00c72e08b2d9ffa3dfb0664e078212683de4e2ed8151638e74231a77af8808bb8f2182b4aefb53c1917ecc8a46bff9ce77ddfd848a2df05275898355828564d63805dd59cb269216420d6f8c8bb865b88922433d12ef4c7fab70568dc32db3622c16eb16ec79dbfee69e7814e6c68b2bd75658e7b3db057f593543e653578ba7cb9fbd78c171b960bac2a4c557ab01b79f84e42dbf7d74c26cff902a26d48d4f2ce7b78940cce9359ddfabd3d0f544169d33f564dbd81da339d13f5e9017fd6e049acd71b2f0150563d0b9b750038a12a051cd1bf768884a193cdec714c017bf98d0fcec2ef\n",
            "\n",
            "x2 = 117\n",
            "c2 = 0x6634ecac34865ca20b0a5174335681175fcab113ad49179eb72db8f6a542b3bb7f8ca45bdb241160912f444f3b71dc7e7fc227a0c96c6dbe74b8b08fa7f7ca41b4d3770ad65e78fc2f7246496f27d2a6362d6a226a86b6d4a055653074e92b638f00dd17d30aa44756d40d094f52ca262519f015278937ace8ad83ecb16b53ff1f1de8ab9a3c2d9c816c93acb97337e32fac0758a83adae9bfea5de86cefe4fc6770d46a52a3f373beedabad059804d196d63f501f3b270ca788ccc243295cdaf2b72abdea76c835988532ecba4b0f88216e999dd0be6fb2ed7f1946eebe2dd3371587435ebd9d9e55736209e8355c7ee015705cb05d4a6a0294492d0e988e4b\n"
          ],
          "name": "stdout"
        }
      ]
    },
    {
      "cell_type": "markdown",
      "metadata": {
        "id": "LjWuQhWx2JWd"
      },
      "source": [
        "The encrypted ciphers $c_2$ and $c_2$ can now be sent to an untrusted environment tasked with excecuting arithmetic instructions on the ciphers."
      ]
    },
    {
      "cell_type": "markdown",
      "metadata": {
        "id": "RrV380wj2JWe"
      },
      "source": [
        "## 5.1) Multiplication"
      ]
    },
    {
      "cell_type": "code",
      "metadata": {
        "id": "4Z2l-Hf12JWf",
        "colab": {
          "base_uri": "https://localhost:8080/"
        },
        "outputId": "85dd3e7d-dd08-4679-a8c0-eff6794065ff"
      },
      "source": [
        "c1Mulc2 = c1 * c2\n",
        "\n",
        "print('c1Mulc2 = ', hex(c1Mulc2))"
      ],
      "execution_count": 49,
      "outputs": [
        {
          "output_type": "stream",
          "text": [
            "c1Mulc2 =  0x2259d863fbc5d7a8985949330d9d6fc6ff7f0afb60888e8289e23ef10b044f46a83ed22343d4af24c730988ba63e874f19c3616a3c7d23b167f78b1ad0c39be6b60138a02583aa2b871326e34034c3ede8230db0b3925bc36f734946b01ba9fd2f5d18778b7fd8884be9b74da207909bc44fd3228be9a94680e45c15a12eac4b72039ea0e7715d612d3cbb4f31f028c8fd2711ed20cd7b0d340512ae4cbf99f63082701affa9aba3262c255d362f03c7c79f63cb1b1547935dbad9ec8fe281db764742273ec46f740e4ceec6cf8e053b436a56b7733ccbaca8db9dbabbb5f306a71a1d53975529ef6bd1ada89b9a8febfa11db7413ce6b1a4819ed40d40f2c1435aa88140eceb43f0748ee4f72f2e1fbd55baed59c0140bb251daf946217ccbc45e475cc6fea60073a6ac003d8cce07fce99e73dbdccaff0b076fea1c50641938f09158fca8f35eb5757ead8f7f34a86c469d8183325f0f92c78339cae839ec161e6b9c253b9c4e7708f7a68f8cc01983fc67f9a97e0833c2093a8c8a0ac4a758fb347b8086a98dc954f21780cc268ee1ec7dc0761dff6b8742c90111cd0989ad08ada83880508612622469acacc5ac5c368e9385099c373f2c9d9a472fefe2adc1c9998489dbb9d0a3773390f47759e44021b1067fe4cc7b2919d7c9d0da3097e4a3f45fb38f5c68ca5382d11a9b297a4198c8355bca8ab63777788219bae05\n"
          ],
          "name": "stdout"
        }
      ]
    },
    {
      "cell_type": "markdown",
      "metadata": {
        "id": "r7RR_0OO2JWf"
      },
      "source": [
        "Send the result of $c_1 \\cdot c_2$ back to the data owner who is the only one able to decrypt"
      ]
    },
    {
      "cell_type": "code",
      "metadata": {
        "id": "zLTZ9WlB2JWg",
        "colab": {
          "base_uri": "https://localhost:8080/"
        },
        "outputId": "0946938b-0041-465b-e423-81a159b3efb3"
      },
      "source": [
        "decrypt(c1Mulc2)"
      ],
      "execution_count": 50,
      "outputs": [
        {
          "output_type": "execute_result",
          "data": {
            "text/plain": [
              "68445"
            ]
          },
          "metadata": {},
          "execution_count": 50
        }
      ]
    },
    {
      "cell_type": "markdown",
      "metadata": {
        "id": "DIfsClaa2JWh"
      },
      "source": [
        "which turns out to be exactly $x_1 \\cdot x_2$ even though these numbers were never communicated to anyone"
      ]
    },
    {
      "cell_type": "code",
      "metadata": {
        "id": "apGsNYpz2JWh",
        "colab": {
          "base_uri": "https://localhost:8080/"
        },
        "outputId": "c2004f23-c520-41d2-82d8-09067ed3699a"
      },
      "source": [
        "print(x1 * x2)"
      ],
      "execution_count": 51,
      "outputs": [
        {
          "output_type": "stream",
          "text": [
            "68445\n"
          ],
          "name": "stdout"
        }
      ]
    },
    {
      "cell_type": "markdown",
      "metadata": {
        "id": "QXaHhYqb2JWj"
      },
      "source": [
        "**Why does this happen?**\n",
        "\n",
        "For a more in-depth derivation, we refer to the accomapnying PDF document.  In a nutshell, it is easy to show that RSA encryption, denoted as $\\mathcal{E}$ satisfies the multiplicative property: \n",
        "\n",
        "$$c_1 \\cdot c_2 = \\mathcal{E}(x_1) \\cdot \\mathcal{E}(x_2) = \\mathcal{E}(x_1 \\cdot x_2)$$\n",
        "\n",
        "so that the decryption function $\\mathcal{D}$ applied to the product $c_1\\cdot c_2$ of the ciphers yields the product $x_1 \\cdot x_2$ of the original two numbers.\n",
        "\n",
        "$$\\mathcal{D} (c_1 \\cdot c_2) = \\mathcal{D} (\\mathcal{E}(x_1 \\cdot x_2)) = x_1 \\cdot x_2 $$\n",
        "\n",
        "Notice that the untrusted environment never learned anything about $x_1, x_2$ or even about the result of $x_1 \\cdot x_2$ since all it ever was exposed to were the encrypted ciphers $c_1, c_2$ and $c_1 \\cdot c_2$.  Nevertheless, thanks to multiplicatice homomorphicity of RSA, it was able to perform a useful computation."
      ]
    },
    {
      "cell_type": "markdown",
      "metadata": {
        "id": "X7NIa0Mq2JWm"
      },
      "source": [
        "## 5.3) Addition / subtraction\n",
        "\n",
        "Unfortunately, these operations are not homomorphic under RSA and one needs to resort to different encryption schemes..."
      ]
    },
    {
      "cell_type": "code",
      "metadata": {
        "id": "a-vvMRep2JWo",
        "colab": {
          "base_uri": "https://localhost:8080/"
        },
        "outputId": "38d9e134-2405-46b0-d919-e0ba0a33c837"
      },
      "source": [
        "decrypt(c1 + c2)"
      ],
      "execution_count": 52,
      "outputs": [
        {
          "output_type": "execute_result",
          "data": {
            "text/plain": [
              "11825524486064027357062870229409598339350957789792476575872609330210877749119841949739343045602941486331102984258722737311882210767570202701406858573372359112917543392462899573449241944920772980720439087883330238780150993086556318890486328793456199038004624626040258918145003566159198163943573185998270593716280343384709420337567547548058262954643671575886345846054371920045113602134798599835700771257300466911871177224959826983660908627159989176199405569393467637850533948098095599221437327674089371111634392914004149374808736602347629146218355152157703550304277676150091464856057305795267295176799783965766237673347"
            ]
          },
          "metadata": {},
          "execution_count": 52
        }
      ]
    },
    {
      "cell_type": "markdown",
      "metadata": {
        "id": "acBHhuXG2JWp"
      },
      "source": [
        "which is clearly very different from"
      ]
    },
    {
      "cell_type": "code",
      "metadata": {
        "id": "DGTkYSbx2JWq",
        "colab": {
          "base_uri": "https://localhost:8080/"
        },
        "outputId": "c893a827-40d6-4312-b4e7-7cd0aec9a6d8"
      },
      "source": [
        "x1 + x2"
      ],
      "execution_count": 53,
      "outputs": [
        {
          "output_type": "execute_result",
          "data": {
            "text/plain": [
              "702"
            ]
          },
          "metadata": {},
          "execution_count": 53
        }
      ]
    }
  ]
}