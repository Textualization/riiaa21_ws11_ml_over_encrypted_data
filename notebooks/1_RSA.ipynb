{
  "nbformat": 4,
  "nbformat_minor": 0,
  "metadata": {
    "kernelspec": {
      "display_name": "Python 3",
      "language": "python",
      "name": "python3"
    },
    "language_info": {
      "codemirror_mode": {
        "name": "ipython",
        "version": 3
      },
      "file_extension": ".py",
      "mimetype": "text/x-python",
      "name": "python",
      "nbconvert_exporter": "python",
      "pygments_lexer": "ipython3",
      "version": "3.6.8"
    },
    "colab": {
      "name": "RSA.ipynb",
      "provenance": []
    }
  },
  "cells": [
    {
      "cell_type": "markdown",
      "metadata": {
        "id": "p9DkYedM2XcN"
      },
      "source": [
        "This notebook, adapted from https://github.com/Ranlot/public-key-encryption.\n",
        "\n",
        "Please visit the original notebook for further details on padding, signature, optimizations, etc.\n",
        "\n",
        "---\n",
        "\n",
        "<center><a href=\"https://colab.research.google.com/github/Textualization/riiaa21_ws11_ml_over_encrypted_data/blob/main/notebooks/1_RSA.ipynb\" target=\"_parent\"><img src=\"https://colab.research.google.com/assets/colab-badge.svg\" alt=\"Open In Colab\"/></a></center>\n",
        "\n"
      ]
    },
    {
      "cell_type": "code",
      "metadata": {
        "colab": {
          "base_uri": "https://localhost:8080/"
        },
        "id": "CR0OnODd2ekm",
        "outputId": "6ba2fad3-7144-4b1e-cfc1-b2b9a63ec605"
      },
      "source": [
        "!pip install egcd"
      ],
      "execution_count": 1,
      "outputs": [
        {
          "output_type": "stream",
          "text": [
            "Collecting egcd\n",
            "  Downloading egcd-0.1.0-py3-none-any.whl (3.6 kB)\n",
            "Installing collected packages: egcd\n",
            "Successfully installed egcd-0.1.0\n"
          ],
          "name": "stdout"
        }
      ]
    },
    {
      "cell_type": "markdown",
      "metadata": {
        "id": "l2nwbEPo2JUp"
      },
      "source": [
        "## 0) Some essential background\n",
        "\n",
        "\n",
        "### Converting from base 10 to other bases\n",
        "\n",
        "We only need to be able to convert from base from base 10 to base 2.\n",
        "\n",
        "*(Incidentally, the ``converter`` below will also convert to other bases &#8804; 10)*\n"
      ]
    },
    {
      "cell_type": "code",
      "metadata": {
        "id": "1opeMerh2JUr"
      },
      "source": [
        "def eulidean_division(x, y):\n",
        "    return x // y, x % y\n",
        "\n",
        "def verif(a, base):\n",
        "    return sum([int(val) * base ** int(pos) for pos, val in enumerate(str(a)[::-1])])\n",
        "\n",
        "# positive integers and base <= 10 only\n",
        "# (we don't include special symbols for higher bases)\n",
        "def converter(a, base):\n",
        "    q, r = eulidean_division(a, base)\n",
        "    xs = [str(r), ]\n",
        "    while q > 0:\n",
        "        q, r = eulidean_division(q, base)\n",
        "        xs.append(str(r))\n",
        "    result = int(''.join(xs[::-1]))\n",
        "    assert verif(result, base) == a\n",
        "    return result"
      ],
      "execution_count": 2,
      "outputs": []
    },
    {
      "cell_type": "code",
      "metadata": {
        "id": "u2Mmeras2JUt",
        "colab": {
          "base_uri": "https://localhost:8080/"
        },
        "outputId": "7486993a-3245-42c1-8e46-672794e6b1e7"
      },
      "source": [
        "print(converter(194759, 2))"
      ],
      "execution_count": 3,
      "outputs": [
        {
          "output_type": "stream",
          "text": [
            "101111100011000111\n"
          ],
          "name": "stdout"
        }
      ]
    },
    {
      "cell_type": "markdown",
      "metadata": {
        "id": "FFGiwYgi2JUv"
      },
      "source": [
        "### Euclid's extended algorithm\n",
        "\n",
        "Instead of implementing Euclid's extended algorithm ourselves, we decide to rely on the `egcd` library for functionality and focus on a few interesting outcomes of the theorem:\n",
        "- Bézout's identity\n",
        "- Modular inverses"
      ]
    },
    {
      "cell_type": "code",
      "metadata": {
        "id": "xfgG_BG_2JUw"
      },
      "source": [
        "from egcd import egcd \n",
        "\n",
        "def euclidAlg(fst, sec):\n",
        "    # egcd would not be difficult to implement but we focus on the resulting properties:\n",
        "    # a) Bézout's identity\n",
        "    # b) Modular inverses\n",
        "    \n",
        "    gcd, fst_inv, sec_inv = egcd(fst, sec)\n",
        "        \n",
        "    # a) Bézout's identity\n",
        "    assert gcd == (fst * fst_inv) + (sec * sec_inv)\n",
        "    \n",
        "    # b) Modular inverses\n",
        "    assert gcd == fst * fst_inv % sec\n",
        "    assert gcd == sec * sec_inv % fst\n",
        "    \n",
        "    return {'gcd' : gcd, 'fst_inv' : fst_inv % sec, 'sec_inv' : sec_inv % fst}"
      ],
      "execution_count": 4,
      "outputs": []
    },
    {
      "cell_type": "markdown",
      "metadata": {
        "id": "DE3XtTFS2JUy"
      },
      "source": [
        "In case that the input numbers $(a, b)$ are coprimes (a very common situation in this notebook), their greatest common divisor is $\\text{gcd}(a, b) = 1$ and we have the following identities:\n",
        "\n",
        "\\begin{equation}\n",
        "a \\cdot a^{-1}_{\\%b} + b \\cdot b^{-1}_{\\%a} = 1 \\quad\n",
        "\\text{where} \\quad  \n",
        "\\begin{pmatrix}\n",
        "a \\cdot a^{-1}_{\\%b} \\, \\equiv 1 \\,\\,\\text{mod}\\,\\,b \\\\\n",
        "b \\cdot b^{-1}_{\\%a} \\, \\equiv 1 \\,\\,\\text{mod}\\,\\,a\n",
        "\\end{pmatrix}\n",
        "\\end{equation}\n",
        "\n",
        "Note that $\\text{gcd}(a,b)$ and the modular inverses $a^{-1}_{\\%b}$ and $b^{-1}_{\\%a}$ are all computed efficiently and simultaneously with `egcd`. "
      ]
    },
    {
      "cell_type": "markdown",
      "metadata": {
        "id": "aPIzawUj2JUz"
      },
      "source": [
        "### Fast modular exponentiation\n",
        "\n",
        "We are following a classic *square and multiply* method.  \n",
        "\n",
        "(Numbers never exceed the modulus and the complexity only grows linearly with the number of bits of the modulus.)"
      ]
    },
    {
      "cell_type": "code",
      "metadata": {
        "id": "3GPCp35f2JU1"
      },
      "source": [
        "def multiplyList(xs, m) :\n",
        "    result = 1\n",
        "    for x in xs:\n",
        "        result = result * x % m\n",
        "    return result % m\n",
        "\n",
        "def FasterModularExponentiation(b, e, m):\n",
        "    def helper(kmax):\n",
        "        d = {}\n",
        "        s = b % m\n",
        "        d[0] = s\n",
        "        for _ in range(kmax):\n",
        "            s = (s * s) % m\n",
        "            d[_ + 1] = s\n",
        "        return d\n",
        "\n",
        "    e2 = converter(e, 2)\n",
        "    necessaryBits = [_[0] for _ in enumerate(reversed(str(e2))) if _[1] == '1']\n",
        "    d = helper(max(necessaryBits))\n",
        "    allVals = [d[_] for _ in necessaryBits]\n",
        "\n",
        "    return multiplyList(allVals, m)"
      ],
      "execution_count": 5,
      "outputs": []
    },
    {
      "cell_type": "code",
      "metadata": {
        "id": "4tc2ILgK2JU4",
        "colab": {
          "base_uri": "https://localhost:8080/"
        },
        "outputId": "79bc747f-dfd5-48fa-b4f1-dc99125f47e9"
      },
      "source": [
        "FasterModularExponentiation(14, 9, 138)"
      ],
      "execution_count": 6,
      "outputs": [
        {
          "output_type": "execute_result",
          "data": {
            "text/plain": [
              "44"
            ]
          },
          "metadata": {},
          "execution_count": 6
        }
      ]
    },
    {
      "cell_type": "markdown",
      "metadata": {
        "id": "JWoH-QXB2JU6"
      },
      "source": [
        "Quick check with small integers"
      ]
    },
    {
      "cell_type": "code",
      "metadata": {
        "id": "AlYoQv7s2JU8",
        "colab": {
          "base_uri": "https://localhost:8080/"
        },
        "outputId": "49cfdd44-016f-4340-8b75-aaf6977b3382"
      },
      "source": [
        "14 ** 9 % 138"
      ],
      "execution_count": 7,
      "outputs": [
        {
          "output_type": "execute_result",
          "data": {
            "text/plain": [
              "44"
            ]
          },
          "metadata": {},
          "execution_count": 7
        }
      ]
    },
    {
      "cell_type": "markdown",
      "metadata": {
        "id": "otzns_7y2JU9"
      },
      "source": [
        "# 1) Real-world SSH keys\n",
        "\n",
        "We start by using **ssh-keygen** to generate a pair of public / private keys into directory _ssh_key_example_.  By default the private key **ssh_key** (default name when generating the key) is in PEM (Privacy-Enhanced Mail) format but the public key is not.  Given the private key, one can generate a PEM public key by running:\n",
        "\n",
        "```openssl rsa -in ssh_key -pubout -out ssh_key.pub.pem```\n",
        "\n",
        "This way the contents of both keys can be parsed with openssl.\n",
        "\n",
        "## 1.1) Public Key\n",
        "\n",
        "The public key is composed of 2 integers:\n",
        "\n",
        "---\n",
        "- the modulus denoted as $n$,\n",
        "- and the public exponent $e$\n",
        "---\n",
        "\n",
        "Both are represented below in hexadecimal representation.\n"
      ]
    },
    {
      "cell_type": "code",
      "metadata": {
        "colab": {
          "base_uri": "https://localhost:8080/"
        },
        "id": "pFrXqsHf20Nu",
        "outputId": "75e6d67f-1f08-4d09-f0fc-22bee5292da1"
      },
      "source": [
        "!rm -f /content/key\n",
        "!ssh-keygen -t rsa -f /content/key -P \"\""
      ],
      "execution_count": 8,
      "outputs": [
        {
          "output_type": "stream",
          "text": [
            "Generating public/private rsa key pair.\n",
            "Your identification has been saved in /content/key.\n",
            "Your public key has been saved in /content/key.pub.\n",
            "The key fingerprint is:\n",
            "SHA256:0gh6Pmvi2pFRYspzMC6vGXFT3b64YjrzDJZntc93K4s root@34623e0a3edd\n",
            "The key's randomart image is:\n",
            "+---[RSA 2048]----+\n",
            "|                 |\n",
            "|     . .         |\n",
            "| oo + . .        |\n",
            "|ooo= . +         |\n",
            "|++=.. + S        |\n",
            "|.+oB . + .       |\n",
            "|. B = o .        |\n",
            "| *+*+o + .o .    |\n",
            "|+o+O+.. E..+..   |\n",
            "+----[SHA256]-----+\n"
          ],
          "name": "stdout"
        }
      ]
    },
    {
      "cell_type": "code",
      "metadata": {
        "colab": {
          "base_uri": "https://localhost:8080/"
        },
        "id": "OtDhlX203fEj",
        "outputId": "76d93c84-c202-450b-fedc-fde85c935ec1"
      },
      "source": [
        "!openssl rsa -in /content/key -pubout -out /content/key.pub.pem"
      ],
      "execution_count": 9,
      "outputs": [
        {
          "output_type": "stream",
          "text": [
            "writing RSA key\n"
          ],
          "name": "stdout"
        }
      ]
    },
    {
      "cell_type": "code",
      "metadata": {
        "colab": {
          "base_uri": "https://localhost:8080/"
        },
        "id": "3gTjoGQK31Qx",
        "outputId": "d8642b2c-c1cb-4250-cddb-d987c869eccc"
      },
      "source": [
        "!openssl asn1parse -inform pem -in /content/key.pub.pem > /content/pub.parsed.txt\n",
        "!cat /content/pub.parsed.txt\n",
        "parse1 = open(\"/content/pub.parsed.txt\").read().split(\"\\n\")"
      ],
      "execution_count": 10,
      "outputs": [
        {
          "output_type": "stream",
          "text": [
            "    0:d=0  hl=4 l= 290 cons: SEQUENCE          \n",
            "    4:d=1  hl=2 l=  13 cons: SEQUENCE          \n",
            "    6:d=2  hl=2 l=   9 prim: OBJECT            :rsaEncryption\n",
            "   17:d=2  hl=2 l=   0 prim: NULL              \n",
            "   19:d=1  hl=4 l= 271 prim: BIT STRING        \n"
          ],
          "name": "stdout"
        }
      ]
    },
    {
      "cell_type": "code",
      "metadata": {
        "colab": {
          "base_uri": "https://localhost:8080/"
        },
        "id": "ktLwWTOh4gXE",
        "outputId": "3bd21dab-2fb0-49d2-967c-6422bdb3f50c"
      },
      "source": [
        "pos = list(map(lambda x:\"BIT STRING\" in x,parse1)).index(True)\n",
        "pos = int(parse1[pos].split(':')[0])\n",
        "pos"
      ],
      "execution_count": 11,
      "outputs": [
        {
          "output_type": "execute_result",
          "data": {
            "text/plain": [
              "19"
            ]
          },
          "metadata": {},
          "execution_count": 11
        }
      ]
    },
    {
      "cell_type": "code",
      "metadata": {
        "colab": {
          "base_uri": "https://localhost:8080/"
        },
        "id": "ZpQ6VLRu5P_X",
        "outputId": "73c28eb8-f385-405c-a95d-371892d82684"
      },
      "source": [
        "!openssl asn1parse -inform pem -in /content/key.pub.pem -strparse 19 > /content/pub.parsed2.txt\n",
        "!cat /content/pub.parsed2.txt\n",
        "parse2 = open(\"/content/pub.parsed2.txt\").read().split(\"\\n\")"
      ],
      "execution_count": 12,
      "outputs": [
        {
          "output_type": "stream",
          "text": [
            "    0:d=0  hl=4 l= 266 cons: SEQUENCE          \n",
            "    4:d=1  hl=4 l= 257 prim: INTEGER           :AC05FFB7102213DC13A9014E8C4C703918EF623DEF82846479E0347A9A7EB6A363BFE81ADD1D74A03E76F902FDBCA939509CC3ECA36FE1AD2FCEA9B7B60BE6CA17C1D724923D2E7E1A4A0B4AFA20E228BC31F5C1321BD20264173BAC8CBDA50096B202007FD6AA36B1F2E74BE501B10530E7250BDE0F571FABEA0A0B8C570319BA649759F018B8580FA0C3357D54254C3B176EE3CA1AA8A0069F9E856570896023C0618D9B7DF27EB6F3E1833E2F53B54943428AF357E53EC3C3D465BB4355B3F55273F086087E81E59F4462B26AE3880DDA53E4D6EB7B2A5D4C8DD117FE3535DE5C5EBD020A19EF5E9E176195C7810517C8AF7080DE6DB105972D451CDFE3D7\n",
            "  265:d=1  hl=2 l=   3 prim: INTEGER           :010001\n"
          ],
          "name": "stdout"
        }
      ]
    },
    {
      "cell_type": "code",
      "metadata": {
        "id": "mJqKZf4u5dSx"
      },
      "source": [
        "pem_public_n=int(parse2[1].split(\"prim: INTEGER\")[1].split(\":\")[1], 16)"
      ],
      "execution_count": 13,
      "outputs": []
    },
    {
      "cell_type": "code",
      "metadata": {
        "id": "pxM4Yhyu2JU-",
        "colab": {
          "base_uri": "https://localhost:8080/"
        },
        "outputId": "a05e0108-9b37-4d57-9201-c70f7e2f1515"
      },
      "source": [
        "print('public modulus =', pem_public_n)\n",
        "\n",
        "pem_public_e = int('010001', 16)\n",
        "\n",
        "print('\\npublic exponent =', pem_public_e)"
      ],
      "execution_count": 14,
      "outputs": [
        {
          "output_type": "stream",
          "text": [
            "public modulus = 21715946615628491221009512461320695768691930240655262567642852775269874524952838801307460819361241199497284042094032492568400727118059350118809392263393249193312246209889263901269288602246028518954198572754811716659463454672169496714083685227354347329973296586052841448153403869846816025106020217229912034421687048309643280215864953850002189120360940423581286340390442257193874461861266089925757001227755993890918134849037904375930990506725962705012312684286066780950953908462774308020999399973254693148261831369634571958185545210380221985747142484611094910664415384197008231021017205087647922542776238167216976028631\n",
            "\n",
            "public exponent = 65537\n"
          ],
          "name": "stdout"
        }
      ]
    },
    {
      "cell_type": "markdown",
      "metadata": {
        "id": "MIICmLca2JVA"
      },
      "source": [
        "By convention, the public exponent is fixed to a 65537.  This value is rather small when compared to the modulus and the notebook will have a section to below to discuss the order of magnitudes of the different numbers.  We will check later (when we have access to the private key) that this value is indeed coprime to $\\phi(n)$ as should be for RSA to work)"
      ]
    },
    {
      "cell_type": "markdown",
      "metadata": {
        "id": "pfTQcF3j2JVB"
      },
      "source": [
        "## 1.2) Private key\n",
        "\n",
        "Obviously, the private key contains more information which is composed of the following 5 integers:\n",
        "\n",
        "---\n",
        "*(repeated from public key)*\n",
        "- the modulus $n$\n",
        "- the public exponent $e$\n",
        "---\n",
        "- the private exponent $d$ used for decrytion\n",
        "- the first random prime $p$\n",
        "- the second random prime $q$\n",
        "---\n",
        "*(to be used for optimized decryption via Chinese remainder theorem)*\n",
        "- the first optizmized exponent $d_p$\n",
        "- the second optizmized exponent $d_q$\n",
        "- modular inverse $q^{-1}_{\\%p}$\n"
      ]
    },
    {
      "cell_type": "code",
      "metadata": {
        "colab": {
          "base_uri": "https://localhost:8080/"
        },
        "id": "Ko6j8aO951IL",
        "outputId": "d6560b1f-c69d-4475-9965-76265d071233"
      },
      "source": [
        "!openssl asn1parse -inform pem -in /content/key  > /content/parsed.txt\n",
        "!cat /content/parsed.txt\n",
        "parse3 = open(\"/content/parsed.txt\").read().split(\"\\n\")"
      ],
      "execution_count": 15,
      "outputs": [
        {
          "output_type": "stream",
          "text": [
            "    0:d=0  hl=4 l=1189 cons: SEQUENCE          \n",
            "    4:d=1  hl=2 l=   1 prim: INTEGER           :00\n",
            "    7:d=1  hl=4 l= 257 prim: INTEGER           :AC05FFB7102213DC13A9014E8C4C703918EF623DEF82846479E0347A9A7EB6A363BFE81ADD1D74A03E76F902FDBCA939509CC3ECA36FE1AD2FCEA9B7B60BE6CA17C1D724923D2E7E1A4A0B4AFA20E228BC31F5C1321BD20264173BAC8CBDA50096B202007FD6AA36B1F2E74BE501B10530E7250BDE0F571FABEA0A0B8C570319BA649759F018B8580FA0C3357D54254C3B176EE3CA1AA8A0069F9E856570896023C0618D9B7DF27EB6F3E1833E2F53B54943428AF357E53EC3C3D465BB4355B3F55273F086087E81E59F4462B26AE3880DDA53E4D6EB7B2A5D4C8DD117FE3535DE5C5EBD020A19EF5E9E176195C7810517C8AF7080DE6DB105972D451CDFE3D7\n",
            "  268:d=1  hl=2 l=   3 prim: INTEGER           :010001\n",
            "  273:d=1  hl=4 l= 257 prim: INTEGER           :832BABDAB65595D929B0A44B75D5CF78EA57970CED3613A7DDFB25691BA765B2DF1BF56B8E91A85D8C6401EAD2FA69FB4749D267FE1410FC9348BDC754EC6C564B9946691F8DC186EC9AEB5387B94D5A8C6E781B920EFEAB4E111D32ACBAEB37B0B119AFB1CB494D9D913FE7723F40F15961D7B0DDE9CAA05EE17E396210F34E08DFCB86E9CFC01543BAF0D8CBE176A4669AFC0A11D98CF350C9A1BE9D6B24CC2EE0C06B50AF68168C43BA4D3AED4E76FD6825833DA41ECFEF632C0A8FE4008520FB22740C3BE97BE8BE5F7A3AAF6E4DAFC411F536C48FBDDFB5AF6961AAAA023E47821CE750981F9C8EE85DE179EAA126D12E6C72E5C8DB589968C0F841A9E9\n",
            "  534:d=1  hl=3 l= 129 prim: INTEGER           :E3E72B579924C8FF988B8B5F4AF9244ADEB05B83F42746E4B7C0AA02D524342B953EDE9F503F681846BEB4717E02285778A84D020BB478CE5D257BA506EE0FBB5E87E27761D560F549B453BEE8D75BA079F84EA7E48DBEB73055C130D1261ACADE3978C9AECF36F61D5CF874F007F6C6143650E546604FE0543CE670E1493BB5\n",
            "  666:d=1  hl=3 l= 129 prim: INTEGER           :C13B37E590378527D9DFD74F4CDFED41FBBE8B2A3371719E38ECDDA6A5C8C77249A4116F83E20E2C5D654014840C3BAE532DC5DC3F0FC87C11CA4460311D9CC3F1E5F90B5B647EC67054F06BEAED5FBF2360C10598BE9843FCCEA42E76BDE593BD8BF823AA9DE30F478061D96C2A0AB2FC688E59F61110745114ED90199490DB\n",
            "  798:d=1  hl=3 l= 128 prim: INTEGER           :3219947E9A4CEADEBD6317CD6806E3028E77C876768AD7DBD9C541DA838E84E57BD6A94BEE7131E9FC4B5A1184F8E6736C33DB51F2CEC6ABDEF029813AC7C4AF94F55C44903E3F254D019653668E49373AF8EA19A075C49232CEF73C4B0E0C5FC28071DC2C50A32D718109A1734EDCE1E879944902B2937CA62809249171EEED\n",
            "  929:d=1  hl=3 l= 129 prim: INTEGER           :A2664ACC3D30EC5059E4AEE88F0B8433F888641DCBAE84771E10B518E22CA4B38100CB4695E8DF509A0E06953785B0830A9565BD7DA29E34E81EBEE8B95ED1EA3CDBB33BC04BEDE0897859B7D972370E458583B4587397354CBBBF70ED8B1BEFD75653EE65EEDC6E73018B3B5894DCF920FA1EE9ACCD1AAF279617330CCCB811\n",
            " 1061:d=1  hl=3 l= 129 prim: INTEGER           :93B782227C856C372A58A2DC040FE66BF551E0B7555C43379BC866874AAC136F65A363187169B5AD49B3EE05F90311221BB5F629ECE2810D189368736F59B805BF9D1DE8B67869C73B606409CFE822A4188DCBABECFC81886587E41882D6E301040B8F9A0136DAF2B61C05A61376A722D6E887B06603AD06289D3A3D99A4A4D8\n"
          ],
          "name": "stdout"
        }
      ]
    },
    {
      "cell_type": "code",
      "metadata": {
        "id": "4oBif34c6LdN"
      },
      "source": [
        "def get_num(idx):\n",
        "  return int(parse3[idx].split(\"prim: INTEGER\")[1].split(\":\")[1], 16)"
      ],
      "execution_count": 16,
      "outputs": []
    },
    {
      "cell_type": "markdown",
      "metadata": {
        "id": "BK1Ih3np2JVC"
      },
      "source": [
        "We start by verifying that $n$ are $e$ are indeed identical between the public and private keys:"
      ]
    },
    {
      "cell_type": "code",
      "metadata": {
        "id": "KihtkwYD2JVC"
      },
      "source": [
        "pem_private_n = get_num(2)\n",
        "\n",
        "pem_private_e = int('010001', 16)"
      ],
      "execution_count": 17,
      "outputs": []
    },
    {
      "cell_type": "code",
      "metadata": {
        "id": "nxylRskm2JVE"
      },
      "source": [
        "assert pem_private_n == pem_public_n\n",
        "assert pem_private_e == pem_public_e"
      ],
      "execution_count": 18,
      "outputs": []
    },
    {
      "cell_type": "markdown",
      "metadata": {
        "id": "NuumS-072JVQ"
      },
      "source": [
        "The following three consist of the private exponent $d$ and the two underlying primes $p, q$ that divide the factorize the (public) modulus"
      ]
    },
    {
      "cell_type": "code",
      "metadata": {
        "id": "HlQEDd2w2JVS",
        "colab": {
          "base_uri": "https://localhost:8080/"
        },
        "outputId": "d8e5eefa-5150-4314-93ae-a30bc21d6d86"
      },
      "source": [
        "pem_private_d = get_num(4)\n",
        "\n",
        "pem_private_p = get_num(5)\n",
        "\n",
        "pem_private_q = get_num(6)\n",
        "\n",
        "print('p =', pem_private_p)\n",
        "print('\\nq =', pem_private_q)\n",
        "print('\\nd =', pem_private_d)"
      ],
      "execution_count": 19,
      "outputs": [
        {
          "output_type": "stream",
          "text": [
            "p = 160038932688010088722468117741559201514057148941636814865407349974194912683371030331089472288639400841032028049966386630027212959171134582891014430468358627532986382306617730015951038412994350432613310018087860139388241653554724639583880623489757337226547046708135617931412786417113140237742295346612561066933\n",
            "\n",
            "q = 135691648593801338496124726421389725381418198695874442886431013880758336178782551214060895482570994207158621895232615059797657058361105813036976369463753708111954813559883070358857908757688718198859425068521773904309523571127061836524451089257560862421221619697907612589475660713626725774221462586450358079707\n",
            "\n",
            "d = 16558753074184088252246950062248487566547779573618954732331603243031591919609811456394673841126986381166024923868426778020365435345999662839117777127096919937400138545352948486170104815906141312200713570597924926631114747704843466428016296166540714392186940969144432087043502930983336698698798362995413187911259110438979624941254933831954534845782530269010456264471961676027677644341435362944658060236567941940699461420259418098673743979835480491201471192255064551250093432512528434282971077374657243877161016045159302720611224639902771224242493411391252476915862587975767794833345048161810371378218290045949321521641\n"
          ],
          "name": "stdout"
        }
      ]
    },
    {
      "cell_type": "markdown",
      "metadata": {
        "id": "n_VbgYCi2JVU"
      },
      "source": [
        "We can check that the modulus $n = pq$ is indeed the product of the private random primes.  In addition, we also check that the public exponent $e$ is coprime to Euler's totient function $\\varphi(n)$. Since $p$ and $q$ are primes, we have $$\\varphi(n) = \\varphi(p)\\cdot\\varphi(q) = (p-1)\\cdot(q-1)$$."
      ]
    },
    {
      "cell_type": "code",
      "metadata": {
        "id": "rz04gRke2JVU"
      },
      "source": [
        "assert pem_public_n == pem_private_p * pem_private_q\n",
        "assert 1 == euclidAlg(pem_private_e, (pem_private_p - 1) * (pem_private_q - 1))['gcd']"
      ],
      "execution_count": 20,
      "outputs": []
    },
    {
      "cell_type": "markdown",
      "metadata": {
        "id": "CkqnLkaq2JVU"
      },
      "source": [
        "Therefore we can verify that the private exponent is indeed the inverse of the public exponent modulo $\\varphi(n)$\n",
        "\n",
        "\\begin{equation}\n",
        "e \\cdot d \\equiv 1 \\,\\, \\text{mod} \\,\\, \\varphi(n)\n",
        "\\end{equation}"
      ]
    },
    {
      "cell_type": "code",
      "metadata": {
        "id": "y41nu-Eb2JVV"
      },
      "source": [
        "assert 1 == pem_public_e * pem_private_d % ((pem_private_p - 1) * (pem_private_q - 1))"
      ],
      "execution_count": 21,
      "outputs": []
    },
    {
      "cell_type": "markdown",
      "metadata": {
        "id": "lio6Zoct2JVW"
      },
      "source": [
        "The other numbers contained in the private key are not strictly necessary for decryption.  They will come in handy when using the Chinese remainder theorem to optimize the decryption part (discussed further below in the notebook)."
      ]
    },
    {
      "cell_type": "code",
      "metadata": {
        "id": "23-gcLqs2JVW"
      },
      "source": [
        "pem_crt_exponent_p = get_num(7)\n",
        "\n",
        "pem_crt_exponent_q = get_num(8)\n",
        "\n",
        "pem_crt_qInv = get_num(9)"
      ],
      "execution_count": 22,
      "outputs": []
    },
    {
      "cell_type": "code",
      "metadata": {
        "id": "LVr6kv3d2JVX"
      },
      "source": [
        "from math import log10, log, floor\n",
        "\n",
        "def approx10(x): # take a power an exponent in base 2 and approximate in base 10\n",
        "    b10exp = floor(log10(x))\n",
        "    prefactor = round(x / 10 ** b10exp, 3)\n",
        "    return '%s x 10^{%s}' % (prefactor, b10exp)"
      ],
      "execution_count": 23,
      "outputs": []
    },
    {
      "cell_type": "markdown",
      "metadata": {
        "id": "14Iixrq22JV3"
      },
      "source": [
        "## 3.2) Encryption\n",
        "\n",
        "The cipher is determined by the remainder of the division of the plaintext $m$ raised to the public exponent $e$ by the public modulus $n$\n",
        "\n",
        "\\begin{equation}\n",
        "c = m^e \\,\\,\\text{mod}\\,\\, n\n",
        "\\end{equation}\n",
        "\n",
        "We use the square and multiply modular exponentation function implemented earlier in the notebook"
      ]
    },
    {
      "cell_type": "code",
      "metadata": {
        "id": "r6ZOJPsR2JV5",
        "colab": {
          "base_uri": "https://localhost:8080/"
        },
        "outputId": "64c142be-6b35-4d36-ffdd-3063a0f5424f"
      },
      "source": [
        "def encrypt(msgInt):\n",
        "  return FasterModularExponentiation(msgInt, pem_public_e, pem_public_n)\n",
        "\n",
        "encrypted = encrypt(42)\n",
        "encrypted"
      ],
      "execution_count": 24,
      "outputs": [
        {
          "output_type": "execute_result",
          "data": {
            "text/plain": [
              "8190426316951588871705024152037450723259184493868029297644553600410982488480687435175286875855091785133848843322930728180168916619668151111547153409115560011136420993534596343159441057226211741903871094581272843149476972764367163674852849883562432505938689823203896680462805225938911380775160514773190901640403024394868135040259562079226225802879793344446474129388751968495931444496868505660548040843911005313961219866191066606528847851697173445993685438390464414267585026983206269649148345123944823959556601439505017228902651580852900462240680442380234265883739870613156255736847699501930738727870957806061321179841"
            ]
          },
          "metadata": {},
          "execution_count": 24
        }
      ]
    },
    {
      "cell_type": "markdown",
      "metadata": {
        "id": "ZkPfiYDn2JV8"
      },
      "source": [
        "\n",
        "## 3.3) Decryption\n",
        "\n",
        "Similar to the encryption, we will show first how to decode the cipher using the Pycrypto library and then verify that our custom modular exponentiation function reproduces the same result.  The message can be recovered by evaluating the remainder of the division of the cipher $c$ raise to the private exponent $d$ with the public modulus $n$:\n",
        "\n",
        "\\begin{equation}\n",
        "c^d \\,\\,\\text{mod}\\,\\, n \\equiv m \\,\\,\\text{mod}\\,\\,n\n",
        "\\end{equation}\n",
        "\n",
        "The proof of why this is true is given in the accompanying PDF document.  Note that the private exponent $d$ is very large (on the order to the modulus $n$) since it is defined as the modular inverse of the public exponent $e$ which is itself quite small:\n",
        "\n",
        "\\begin{equation}\n",
        "e \\cdot d \\equiv 1 \\,\\,\\text{mod}\\,\\, \\phi(n)\n",
        "\\end{equation}\n",
        "\n",
        "\n",
        "#### The private exponent $d$\n",
        "\n",
        "One of the strenghts of RSA is that it is not feasible to evaluate Euler's totient function $\\phi(n)$ without having previous knowledge of $p$ and $q$.  In other words, calculating $\\phi(n)$ is as hard as factorizing $n$ into its prime factors.  However, if we do know the values of $p, q$ it is very easy to calculate $\\phi(n)$ as\n",
        "\n",
        "\\begin{align}\n",
        "\\phi(n) &= \\phi(p) \\cdot \\phi(q) \\\\\n",
        "&= (p-1) \\cdot (q-1)\n",
        "\\end{align}"
      ]
    },
    {
      "cell_type": "code",
      "metadata": {
        "id": "OyD9eFkd2JV8"
      },
      "source": [
        "phiN = (pem_private_p - 1) * (pem_private_q - 1)"
      ],
      "execution_count": 25,
      "outputs": []
    },
    {
      "cell_type": "markdown",
      "metadata": {
        "id": "kZGzZT0g2JV8"
      },
      "source": [
        "First of all, we shoud verify that $e$ and $\\phi(n)$ are co-primes (actually it was already checked earlier but we can do it again...).  This is a necessary condition for the modular inverse of $e$ to exist (and be unique)."
      ]
    },
    {
      "cell_type": "code",
      "metadata": {
        "id": "s2VfOiDl2JV9"
      },
      "source": [
        "egcd_e_phiN = euclidAlg(pem_public_e, phiN)\n",
        "\n",
        "assert egcd_e_phiN['gcd'] == 1"
      ],
      "execution_count": 26,
      "outputs": []
    },
    {
      "cell_type": "markdown",
      "metadata": {
        "id": "752U10uV2JV9"
      },
      "source": [
        "In this case, $d$ is also calculated using Euclid's extended theorem."
      ]
    },
    {
      "cell_type": "code",
      "metadata": {
        "id": "xTM3XJRg2JV-",
        "colab": {
          "base_uri": "https://localhost:8080/"
        },
        "outputId": "deba6f82-52b3-4a53-e18a-9af340d1502e"
      },
      "source": [
        "my_private_d = egcd_e_phiN['fst_inv']\n",
        "\n",
        "print('e = %d' % pem_public_e)\n",
        "print('\\nd = ', my_private_d)\n",
        "print('\\nd ~ %s' % (approx10(my_private_d)))\n",
        "print('\\nd / n ~ %s' % approx10(my_private_d / pem_public_n))"
      ],
      "execution_count": 27,
      "outputs": [
        {
          "output_type": "stream",
          "text": [
            "e = 65537\n",
            "\n",
            "d =  16558753074184088252246950062248487566547779573618954732331603243031591919609811456394673841126986381166024923868426778020365435345999662839117777127096919937400138545352948486170104815906141312200713570597924926631114747704843466428016296166540714392186940969144432087043502930983336698698798362995413187911259110438979624941254933831954534845782530269010456264471961676027677644341435362944658060236567941940699461420259418098673743979835480491201471192255064551250093432512528434282971077374657243877161016045159302720611224639902771224242493411391252476915862587975767794833345048161810371378218290045949321521641\n",
            "\n",
            "d ~ 1.656 x 10^{616}\n",
            "\n",
            "d / n ~ 7.625 x 10^{-1}\n"
          ],
          "name": "stdout"
        }
      ]
    },
    {
      "cell_type": "markdown",
      "metadata": {
        "id": "Z87q8BOr2JWA"
      },
      "source": [
        "With $e = 65537$, we have a private exponent $d \\approx 8.5 \\cdot 10^{615} \\approx 0.35 \\, n$. Because this decryption exponent is so big, it is more efficient to optimize the decryption using the Chinese remainder theorem than to perform a straightforward exponentiation directly on $c$.  \n",
        "\n",
        "We will show in a section below how to do this optimization, but for now in the sake of simplicity, let us go ahead and calculate $c^d \\,\\,\\text{mod}\\,\\,n$ directly."
      ]
    },
    {
      "cell_type": "code",
      "metadata": {
        "id": "LvyTzgiI2JWC",
        "colab": {
          "base_uri": "https://localhost:8080/"
        },
        "outputId": "d75f1e91-e02a-4c09-81a4-92856eb580bf"
      },
      "source": [
        "def decrypt(my_cipher):\n",
        "  return FasterModularExponentiation(my_cipher, my_private_d, pem_public_n)\n",
        "\n",
        "decrypted = decrypt(encrypted)\n",
        "decrypted"
      ],
      "execution_count": 28,
      "outputs": [
        {
          "output_type": "execute_result",
          "data": {
            "text/plain": [
              "42"
            ]
          },
          "metadata": {},
          "execution_count": 28
        }
      ]
    },
    {
      "cell_type": "markdown",
      "metadata": {
        "id": "yR1JIPky2JWD"
      },
      "source": [
        "Verify that the initial message is indeed recovered by all methods"
      ]
    },
    {
      "cell_type": "code",
      "metadata": {
        "id": "DOUFE0gr2JWE"
      },
      "source": [
        "assert 42 == decrypted"
      ],
      "execution_count": 29,
      "outputs": []
    },
    {
      "cell_type": "markdown",
      "metadata": {
        "id": "z-snmBlh2JWE"
      },
      "source": [
        "### Sanity check\n",
        "\n",
        "As a sanity check, let us change the private exponent $d$ into a fake $d_\\text{fake} = d - 1$ almost identical to the real one.  Notice that we are talking about a difference of 1 to numbers on the order of $10^{615}$ and yet, as expected, the decryption completely fails to recover the original message."
      ]
    },
    {
      "cell_type": "code",
      "metadata": {
        "id": "lcJ3cebM2JWG",
        "colab": {
          "base_uri": "https://localhost:8080/"
        },
        "outputId": "7f4b47f9-f20c-4212-d8be-d7f0545b28f4"
      },
      "source": [
        "FasterModularExponentiation(encrypted, my_private_d - 1, pem_public_n)"
      ],
      "execution_count": 30,
      "outputs": [
        {
          "output_type": "execute_result",
          "data": {
            "text/plain": [
              "9072473313442528896626598910250559962116229715338150829343351273789281330311576958671482180886926560447076708926452579595787856408595403828903755035645514371686478339042677622177480207661767397439816016168050647234598146899608822472289180759956241976386976326267109020128109276790350036394836636533728011047048278733594438695330813768713920086315689677833818870974148525692906056798179422856719577551014994238154391314457255619108441579104485170305400014888024815209056351321566987259849777744218606988733321750218294364091857068783667458858807347920931844133941467915100895140231771397352783421640378931953471157597"
            ]
          },
          "metadata": {},
          "execution_count": 30
        }
      ]
    },
    {
      "cell_type": "markdown",
      "metadata": {
        "id": "mXw0586M2JWb"
      },
      "source": [
        "# 5) Partial homomorphic encryption in \"textbook\" RSA\n",
        "\n",
        "In this section, we show how unpadded RSA is a partially homomorphic encryption scheme.  \n",
        "\n",
        "Let us consider two integers $x_1$ and $x_2$ on which we wish to perform some computation.  Instead of doing the computation locally, we want to perform it on some unsecure data processor (cloud for example...) without revealing to the remote server anything about our data other than the list of instructions to execute.\n"
      ]
    },
    {
      "cell_type": "markdown",
      "metadata": {
        "id": "WuvRFjc92JWb"
      },
      "source": [
        "Denoting by $\\mathcal{E}$ the \"textbook\" RSA encryption function, the secret numbers $x_1$ and $x_2$ are encrypted into ciphers $c_1$ and $c_2$"
      ]
    },
    {
      "cell_type": "markdown",
      "metadata": {
        "id": "4XW23nab2JWc"
      },
      "source": [
        "\\begin{align}\n",
        "c_1 &= \\mathcal{E}(x_1) \\\\\n",
        "c_2 &= \\mathcal{E}(x_2) \n",
        "\\end{align}"
      ]
    },
    {
      "cell_type": "code",
      "metadata": {
        "id": "PdySl2Ga2JWc"
      },
      "source": [
        "x1 = 585\n",
        "x2 = 117"
      ],
      "execution_count": 31,
      "outputs": []
    },
    {
      "cell_type": "code",
      "metadata": {
        "id": "raU2KxDA2JWc"
      },
      "source": [
        "c1 = encrypt(x1)\n",
        "c2 = encrypt(x2)"
      ],
      "execution_count": 32,
      "outputs": []
    },
    {
      "cell_type": "code",
      "metadata": {
        "id": "fdSxWsPG2JWd",
        "colab": {
          "base_uri": "https://localhost:8080/"
        },
        "outputId": "facc9368-bb42-42dc-b710-f9cacc8c4951"
      },
      "source": [
        "print('x1 =', x1)\n",
        "print('c1 =',hex(c1))\n",
        "\n",
        "print('\\nx2 =', x2)\n",
        "print('c2 =', hex(c2))"
      ],
      "execution_count": 33,
      "outputs": [
        {
          "output_type": "stream",
          "text": [
            "x1 = 585\n",
            "c1 = 0x280e718a78828d2fc9514ed998fbbe50da9ad10a999c881a9c07e4bf805f6ae3f994ce3a8efc92923de3a6d45a537d06b0912e435b74fc401aa220c5d681d72bac3140cf166ab8eff39966b280abc4db45dac366d9d4f30f5495f08a1411ef6cc11af4844a67cd53f6dffb1c505d3c0ef1e51d862d9b28a23029aceed8c9b15f448bd06066070523213d19036ebbae25142e3a1b33036f94cac78e78e66309d5ee19b220abccff63e26601cb29ebebce4ba17996b71fd63a54160ddfbc17f4fba8aa3db0a26c70036635a2409e95355e434f3b69cfdb8ec45e838538d8206e6fed00afddfd998c7dc054c219bb61de538d88539467875075784cdb0e42baa1\n",
            "\n",
            "x2 = 117\n",
            "c2 = 0x2adbed6afb3d3b34e148e70dcacaafa1379306e110bd51f0e5ec24dcf4bb11079dcb28243a0ec6d32078baedaa0e5dbfe5d46c33f6b4a583b9175a2b0da9976fc0adb218b138bbdb7eb29262214c9c3f0b4d97a0758cd0508c0ca09fb58bc3060fc613ac93de9fceaa76dbd17d08fc7837cffa98038531eb84c47440489df10372b956e636b2d514670c8b104287ee98a6b8e2044dda5014f62db1ab8d8805160403c510c6b1d660c9ad5983dd8e1718774ce38884b4baa0a598dfe34c66b493c8996743d264572da15d329093cb5622548cadcd46ff1e51f9316b17b311e4250f8e18aea4fa75547896f23b6d15dc04656b9162b56c06ec6db7db96961a5dd3\n"
          ],
          "name": "stdout"
        }
      ]
    },
    {
      "cell_type": "markdown",
      "metadata": {
        "id": "LjWuQhWx2JWd"
      },
      "source": [
        "The encrypted ciphers $c_2$ and $c_2$ can now be sent to an untrusted environment tasked with excecuting arithmetic instructions on the ciphers."
      ]
    },
    {
      "cell_type": "markdown",
      "metadata": {
        "id": "RrV380wj2JWe"
      },
      "source": [
        "## 5.1) Multiplication"
      ]
    },
    {
      "cell_type": "code",
      "metadata": {
        "id": "4Z2l-Hf12JWf",
        "colab": {
          "base_uri": "https://localhost:8080/"
        },
        "outputId": "449a34cc-3b7b-4120-a31a-d948ee5eaf9d"
      },
      "source": [
        "c1Mulc2 = c1 * c2\n",
        "\n",
        "print('c1Mulc2 = ', hex(c1Mulc2))"
      ],
      "execution_count": 34,
      "outputs": [
        {
          "output_type": "stream",
          "text": [
            "c1Mulc2 =  0x6b4c821f5a275c6ce2d0e19ac851d25d4262889c9fd8d1c49b9261284c83cc6a1cb57b5e6945f268c169bc778b3f54b79a55d6262b1e8b860f6f3622a44c18ec289b3afbdeaa3cba38ba4c026c2dc0da61298f585486a7c4ee1873f56d846839a3df056bbc110972b36ec7332f8159aee44d58b50472bfcc3a3ca6430708f01857b499186064e7879b6cbd41541b13641d4dfd98e58fac584f530a5082a1e68c053a651baf97d2332b14cd7dc4e413c182919fdec088c8f60dc2a0b3579223267e5822c27d74db974f904d53856e1aed4e776a5fa6658fd583c5dcb636171dd1576cd4011ba53477eeefa004e08851d451a274ba5e2a9f6f8bc77f0761f6570ba31ed5454ec00d2d08ff54e0e65a0d91322c51afc2dd9c58abc75a14db07ee4191096ba970ff84d5e9e6bfd89911c8099a98c607861d47505006d568c40d82bd281562360f2c4bf1fdb09c7011bb11bd00390da08251f6418ea65f603270edb90e9e6a28e8277faac8c3f118ef07a24a3b8564b512ae2032962df84eade310a11eacf5e2f250b02465e3d78372adc5709f3258788bf0746a2dfc27824efcc89d63f92ccbcd8096a3e98badd3efe33ef9ea19123c7bada3cededce96a122261a7bd99e3d42ddba2d87d5b85794cc1204d2a6d702101caf1491ef42d44516efb114578ee2cd75ef8956ec34db08b163cd5195f80b33086115858e3249264fb3\n"
          ],
          "name": "stdout"
        }
      ]
    },
    {
      "cell_type": "markdown",
      "metadata": {
        "id": "r7RR_0OO2JWf"
      },
      "source": [
        "Send the result of $c_1 \\cdot c_2$ back to the data owner who is the only one able to decrypt"
      ]
    },
    {
      "cell_type": "code",
      "metadata": {
        "id": "zLTZ9WlB2JWg",
        "colab": {
          "base_uri": "https://localhost:8080/"
        },
        "outputId": "7c6154f1-b123-4c19-8e11-5df66c14a2a4"
      },
      "source": [
        "decrypt(c1Mulc2)"
      ],
      "execution_count": 35,
      "outputs": [
        {
          "output_type": "execute_result",
          "data": {
            "text/plain": [
              "68445"
            ]
          },
          "metadata": {},
          "execution_count": 35
        }
      ]
    },
    {
      "cell_type": "markdown",
      "metadata": {
        "id": "DIfsClaa2JWh"
      },
      "source": [
        "which turns out to be exactly $x_1 \\cdot x_2$ even though these numbers were never communicated to anyone"
      ]
    },
    {
      "cell_type": "code",
      "metadata": {
        "id": "apGsNYpz2JWh",
        "colab": {
          "base_uri": "https://localhost:8080/"
        },
        "outputId": "943b49e7-c291-427d-fe55-cfbc0880d7f3"
      },
      "source": [
        "print(x1 * x2)"
      ],
      "execution_count": 36,
      "outputs": [
        {
          "output_type": "stream",
          "text": [
            "68445\n"
          ],
          "name": "stdout"
        }
      ]
    },
    {
      "cell_type": "markdown",
      "metadata": {
        "id": "QXaHhYqb2JWj"
      },
      "source": [
        "**Why does this happen?**\n",
        "\n",
        "For a more in-depth derivation, we refer to the accomapnying PDF document.  In a nutshell, it is easy to show that RSA encryption, denoted as $\\mathcal{E}$ satisfies the multiplicative property: \n",
        "\n",
        "$$c_1 \\cdot c_2 = \\mathcal{E}(x_1) \\cdot \\mathcal{E}(x_2) = \\mathcal{E}(x_1 \\cdot x_2)$$\n",
        "\n",
        "so that the decryption function $\\mathcal{D}$ applied to the product $c_1\\cdot c_2$ of the ciphers yields the product $x_1 \\cdot x_2$ of the original two numbers.\n",
        "\n",
        "$$\\mathcal{D} (c_1 \\cdot c_2) = \\mathcal{D} (\\mathcal{E}(x_1 \\cdot x_2)) = x_1 \\cdot x_2 $$\n",
        "\n",
        "Notice that the untrusted environment never learned anything about $x_1, x_2$ or even about the result of $x_1 \\cdot x_2$ since all it ever was exposed to were the encrypted ciphers $c_1, c_2$ and $c_1 \\cdot c_2$.  Nevertheless, thanks to multiplicatice homomorphicity of RSA, it was able to perform a useful computation."
      ]
    },
    {
      "cell_type": "markdown",
      "metadata": {
        "id": "X7NIa0Mq2JWm"
      },
      "source": [
        "## 5.3) Addition / subtraction\n",
        "\n",
        "Unfortunately, these operations are not homomorphic under RSA and one needs to resort to different encryption schemes..."
      ]
    },
    {
      "cell_type": "code",
      "metadata": {
        "id": "a-vvMRep2JWo",
        "colab": {
          "base_uri": "https://localhost:8080/"
        },
        "outputId": "21b66763-4d0b-47ea-e01b-d8ddf3160cad"
      },
      "source": [
        "decrypt(c1 + c2)"
      ],
      "execution_count": 37,
      "outputs": [
        {
          "output_type": "execute_result",
          "data": {
            "text/plain": [
              "14146764356220182575751589768617352070529994166518578352199532999300738418264655227932311990157388947860973793544007829723498018651106304759976624570294689550856070445676517244900050907662209409819671096211975723156244816124885337325089989886616018427653519705677093766905619293698616872037022597416632065856689930434710011031466248365894560594216454732438292048158620392514100725686598565969263334875589572777986489031469697888657915272170433305507289077239318140145050197406405118048566081084496076949316153131486070036528306896987528800481786075800004816249507139041864021580656208659657959113332993255824833038728"
            ]
          },
          "metadata": {},
          "execution_count": 37
        }
      ]
    },
    {
      "cell_type": "markdown",
      "metadata": {
        "id": "acBHhuXG2JWp"
      },
      "source": [
        "which is clearly very different from"
      ]
    },
    {
      "cell_type": "code",
      "metadata": {
        "id": "DGTkYSbx2JWq",
        "colab": {
          "base_uri": "https://localhost:8080/"
        },
        "outputId": "40a871e5-da41-4f0e-86df-2c040e880aac"
      },
      "source": [
        "x1 + x2"
      ],
      "execution_count": 38,
      "outputs": [
        {
          "output_type": "execute_result",
          "data": {
            "text/plain": [
              "702"
            ]
          },
          "metadata": {},
          "execution_count": 38
        }
      ]
    }
  ]
}