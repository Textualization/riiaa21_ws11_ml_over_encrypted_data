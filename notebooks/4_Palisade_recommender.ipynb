{
  "nbformat": 4,
  "nbformat_minor": 0,
  "metadata": {
    "colab": {
      "name": "Palisade-recommender.ipynb",
      "provenance": [],
      "collapsed_sections": []
    },
    "kernelspec": {
      "name": "python3",
      "display_name": "Python 3"
    },
    "language_info": {
      "name": "python"
    }
  },
  "cells": [
    {
      "cell_type": "markdown",
      "metadata": {
        "id": "5WXajS9CLzsl"
      },
      "source": [
        "Copyright (C) 2021 Textualization Software Ltd. Distributed under the terms of the [Apache Software License 2.0](http://www.apache.org/licenses/LICENSE-2.0).\n",
        "---\n",
        "\n",
        "<a href=\"https://colab.research.google.com/github/Textualization/riiaa21_ws11_ml_over_encrypted_data/blob/main/notebooks/4_Palisade_recommender.ipynb\" target=\"_parent\"><img src=\"https://colab.research.google.com/assets/colab-badge.svg\" alt=\"Open In Colab\"/></a>\n",
        "\n"
      ]
    },
    {
      "cell_type": "code",
      "metadata": {
        "colab": {
          "base_uri": "https://localhost:8080/"
        },
        "id": "YxREGIVGUzxg",
        "outputId": "1d3f032f-114d-4fa3-d939-e289e2f5937d"
      },
      "source": [
        "!rm -rf riiaa21_ws11_ml_over_encrypted_data\n",
        "!git clone https://github.com/Textualization/riiaa21_ws11_ml_over_encrypted_data"
      ],
      "execution_count": 1,
      "outputs": [
        {
          "output_type": "stream",
          "text": [
            "Cloning into 'riiaa21_ws11_ml_over_encrypted_data'...\n",
            "remote: Enumerating objects: 79, done.\u001b[K\n",
            "remote: Counting objects: 100% (79/79), done.\u001b[K\n",
            "remote: Compressing objects: 100% (55/55), done.\u001b[K\n",
            "remote: Total 79 (delta 38), reused 62 (delta 23), pack-reused 0\u001b[K\n",
            "Unpacking objects: 100% (79/79), done.\n"
          ],
          "name": "stdout"
        }
      ]
    },
    {
      "cell_type": "code",
      "metadata": {
        "id": "tE3paQGhVCkW"
      },
      "source": [
        "!cp /content/riiaa21_ws11_ml_over_encrypted_data/dependencies/palisade-install.tar.gz /content; cd /content; tar -xzf palisade-install.tar.gz\n",
        "!cd /content/riiaa21_ws11_ml_over_encrypted_data/data; tar -xzf synthetic-invoices.tar.gz"
      ],
      "execution_count": 2,
      "outputs": []
    },
    {
      "cell_type": "code",
      "metadata": {
        "id": "UT8SU6NYZ8Z9"
      },
      "source": [
        "!mkdir -p /content/riiaa21_ws11_ml_over_encrypted_data/build/lib\n",
        "!cd /content/riiaa21_ws11_ml_over_encrypted_data; c++ -fopenmp -fPIC -std=gnu++11 `python3.7-config --cflags` `python3.7-config --includes` -I/content/palisade-install/include/palisade{,/core,/pke,/third-party/inclue} -o build/lib/ckks_wrapper.o -c src/ckks_wrapper.cpp \n",
        "!cd /content/riiaa21_ws11_ml_over_encrypted_data; c++ -fopenmp -fPIC -std=gnu++11 `python3.7-config --cflags` `python3.7-config --includes` -I/content/palisade-install/include/palisade{,/core,/pke,/third-party/inclue} -o build/lib/pycrypto.o -c src/pycrypto.cpp \n",
        "!cd /content/riiaa21_ws11_ml_over_encrypted_data; /usr/bin/c++ -fPIC  -Wall -Werror -O3  `python3.7-config --ldflags` -DPALISADE_VERSION=1.11.4 -Wno-parentheses -fopenmp -shared -Wl,-soname,pycrypto.so.1 -lpython3.7m -o build/lib/pycrypto.so.1 build/lib/ckks_wrapper.o build/lib/pycrypto.o   -L/content/palisade-install/lib  -Wl,-rpath,/content/palisade-install/lib:  /content/palisade-install/lib/libPALISADEcore.so.1 /content/palisade-install/lib/libPALISADEbinfhe.so.1 /content/palisade-install/lib/libPALISADEpke.so.1  /usr/lib/x86_64-linux-gnu/libpython3.7m.so /usr/lib/x86_64-linux-gnu/libboost_python3-py36.so \n",
        "!cd /content/riiaa21_ws11_ml_over_encrypted_data/build/lib; ln -s pycrypto.so.1 pycrypto.so"
      ],
      "execution_count": 3,
      "outputs": []
    },
    {
      "cell_type": "code",
      "metadata": {
        "id": "b41NXFY9VFbq"
      },
      "source": [
        "import sys\n",
        "sys.path.append('/content/riiaa21_ws11_ml_over_encrypted_data/build/lib')\n",
        "\n",
        "import pycrypto"
      ],
      "execution_count": 4,
      "outputs": []
    },
    {
      "cell_type": "code",
      "metadata": {
        "id": "UgtsP4kCVI8S"
      },
      "source": [
        "import os\n",
        "import os.path\n",
        "import random\n",
        "import math\n",
        "\n",
        "import xml.etree.ElementTree as ET\n",
        "\n",
        "import numpy as np\n",
        "import timeit"
      ],
      "execution_count": 5,
      "outputs": []
    },
    {
      "cell_type": "code",
      "metadata": {
        "id": "L0UKAvs_Vh_5",
        "colab": {
          "base_uri": "https://localhost:8080/"
        },
        "outputId": "478be09f-3656-404b-8b22-d86161beb754"
      },
      "source": [
        "DATA_DIR='/content/riiaa21_ws11_ml_over_encrypted_data/data/invoices'\n",
        "\n",
        "matrix           = list() # rows = [ rfc, pref dict id->count ]\n",
        "clients          = dict() # rfc -> [ row in matrix, name ]\n",
        "clients_by_row   = list() # row -> [ rfc, name ]\n",
        "products         = dict() # id -> [ col in matrix, name ]\n",
        "products_by_col  = list() # col -> [ id, name ]\n",
        "\n",
        "for invoice in os.listdir(DATA_DIR):\n",
        "    if '.xml' not in invoice:\n",
        "        continue\n",
        "    tree = ET.parse(os.path.join(DATA_DIR, invoice))\n",
        "    root = tree.getroot()\n",
        "    rfc = root[1].attrib['Rfc'] # Receptor\n",
        "    if rfc not in clients:\n",
        "        # new row\n",
        "        # FOR PRESENTATION\n",
        "        if len(matrix) > 200:\n",
        "          break\n",
        "        clients[rfc] = [ len(matrix), root[1].attrib['Nombre'] ]\n",
        "        matrix.append( [ rfc, dict() ] )\n",
        "        clients_by_row.append( [ rfc, root[1].attrib['Nombre'] ] )\n",
        "    row = clients[rfc][0]\n",
        "\n",
        "    for concept in root[2]:\n",
        "        _id = concept.attrib['NoIdentificacion']\n",
        "        name = concept.attrib['Descripcion']\n",
        "\n",
        "        if _id not in products:\n",
        "            # new col\n",
        "            products[_id] = [ len(products), name ]\n",
        "            products_by_col.append( [ _id, name ] )\n",
        "        col = products[_id][0]\n",
        "\n",
        "        matrix[row][1][col] = matrix[row][1].get(col, 0) + 1\n",
        "\n",
        "print(\"Loaded \", len(clients), \" clients and \", len(products), \" products\")"
      ],
      "execution_count": 6,
      "outputs": [
        {
          "output_type": "stream",
          "text": [
            "Loaded  201  clients and  2706  products\n"
          ],
          "name": "stdout"
        }
      ]
    },
    {
      "cell_type": "code",
      "metadata": {
        "colab": {
          "base_uri": "https://localhost:8080/"
        },
        "id": "NInekr-TVimJ",
        "outputId": "bff1eaf1-465b-420f-8d6f-daf96d6f742f"
      },
      "source": [
        "m = np.zeros((len(clients), len(products)))\n",
        "\n",
        "for r in range(len(matrix)):\n",
        "    for c, v in matrix[r][1].items():\n",
        "        m[r][c] = v\n",
        "\n",
        "random.seed(210826)\n",
        "\n",
        "#chosen = random.choice(list(clients.keys()))\n",
        "chosen = list(clients.keys())[67]\n",
        "chosen_row = clients[chosen][0]\n",
        "\n",
        "print(\"Recommendations for\", chosen, clients[chosen][1])\n",
        "\n",
        "products_for_client = list(matrix[clients[chosen][0]][1].items())\n",
        "random.shuffle(products_for_client)\n",
        "print(\"Sample from\", len(products_for_client),\"products purchased\")\n",
        "for pair in products_for_client[:20]:\n",
        "    print(\"\\t\", products_by_col[pair[0]][1], 'purchased', pair[1], 'times')\n",
        "\n",
        "# similarity to each client using raw inner product as we cannot take sqrt\n",
        "\n",
        "client_simil = np.ndarray((len(clients),1))\n",
        "\n",
        "for idx in range(len(clients)):\n",
        "    client_simil[idx] = math.sqrt(np.dot(m[idx], m[chosen_row]))\n",
        "    #client_simil[idx] = np.dot(m[idx], m[chosen_row])\n",
        "\n",
        "recos = np.zeros((len(products),))\n",
        "\n",
        "for idx in range(len(clients)):\n",
        "    weight = client_simil[idx]\n",
        "    row = m[idx][:]\n",
        "    recos = recos + row * weight / len(clients)\n",
        "\n",
        "recos_indexed = sorted(list(map(lambda p: [ p[1], p[0] ], enumerate(recos))))\n",
        "\n",
        "print(\"Recommended:\")\n",
        "printed = 0\n",
        "for score, col in reversed(recos_indexed):\n",
        "    if m[chosen_row][col] > 0:\n",
        "        continue\n",
        "    print(\"\\t\", products_by_col[col][1], \"score\", score)\n",
        "    printed += 1\n",
        "    if printed > 10:\n",
        "        break"
      ],
      "execution_count": 7,
      "outputs": [
        {
          "output_type": "stream",
          "text": [
            "Recommendations for OFT041123HV2 OUTLET FUERA DE TEMPORADA SA DE CV\n",
            "Sample from 27 products purchased\n",
            "\t Silver Linings Playbook (2012) purchased 1 times\n",
            "\t Dr. Horrible's Sing-Along Blog (2008) purchased 1 times\n",
            "\t Forrest Gump (1994) purchased 1 times\n",
            "\t Ratatouille (2007) purchased 1 times\n",
            "\t Untitled Spider-Man Reboot (2017) purchased 1 times\n",
            "\t Avengers: Infinity War - Part I (2018) purchased 1 times\n",
            "\t Beautiful Mind, A (2001) purchased 1 times\n",
            "\t Incredible Hulk, The (2008) purchased 1 times\n",
            "\t Get Smart (2008) purchased 1 times\n",
            "\t The Imitation Game (2014) purchased 1 times\n",
            "\t Life of Pi (2012) purchased 1 times\n",
            "\t Rear Window (1954) purchased 1 times\n",
            "\t Interstellar (2014) purchased 1 times\n",
            "\t Cloudy with a Chance of Meatballs (2009) purchased 1 times\n",
            "\t School of Rock (2003) purchased 1 times\n",
            "\t Deadpool 2 (2018) purchased 1 times\n",
            "\t Wallace & Gromit in The Curse of the Were-Rabbit (2005) purchased 1 times\n",
            "\t Silence of the Lambs, The (1991) purchased 1 times\n",
            "\t AVPR: Aliens vs. Predator - Requiem (2007) purchased 1 times\n",
            "\t Enchanted (2007) purchased 1 times\n",
            "Recommended:\n",
            "\t Matrix, The (1999) score 0.2206555455495653\n",
            "\t Shawshank Redemption, The (1994) score 0.21543222190397\n",
            "\t Pulp Fiction (1994) score 0.19437979529356453\n",
            "\t Star Wars: Episode IV - A New Hope (1977) score 0.172898017954282\n",
            "\t Terminator 2: Judgment Day (1991) score 0.1531234334035946\n",
            "\t Fight Club (1999) score 0.145608060868518\n",
            "\t Raiders of the Lost Ark (Indiana Jones and the Raiders of the Lost Ark) (1981) score 0.12763730932277914\n",
            "\t Godfather, The (1972) score 0.11150987365429892\n",
            "\t Lion King, The (1994) score 0.11042861901844096\n",
            "\t American Beauty (1999) score 0.11005450678920466\n",
            "\t Dark Knight, The (2008) score 0.10653474927618947\n"
          ],
          "name": "stdout"
        }
      ]
    },
    {
      "cell_type": "code",
      "metadata": {
        "colab": {
          "base_uri": "https://localhost:8080/"
        },
        "id": "5bl4THVIV6Zd",
        "outputId": "7bb0b518-da9b-4bf2-df62-b6a359b42d19"
      },
      "source": [
        "def next_power_of_2(x):\n",
        "    return 1 if x == 0 else 2**(x - 1).bit_length()\n",
        "\n",
        "# CKKS related parameters\n",
        "max_depth=3\n",
        "scale_factor=50\n",
        "batch_size=next_power_of_2(max(len(products), len(clients)) // 2 + 2)\n",
        "print(\"batch size:\", batch_size)\n",
        "\n",
        "print(\"Initializing ckks wrapper\")\n",
        "crypto=pycrypto.CKKSwrapper()\n",
        "print(\"Initialized wrapper\")\n",
        "\n",
        "print(\"Generating keys\")\n",
        "start_time = timeit.default_timer()\n",
        "crypto.KeyGen(max_depth, scale_factor, batch_size)\n",
        "print(\"Keys generated in\", timeit.default_timer() - start_time)\n",
        "\n",
        "print(\"Encrypting\")\n",
        "start_time = timeit.default_timer()\n",
        "m = list()\n",
        "\n",
        "for r in range(len(matrix)):\n",
        "    row = [ 0.0 for idx in range(len(products)) ]\n",
        "    for c, v in matrix[r][1].items():\n",
        "        row[c] =  v * 1.0\n",
        "    m.append( [ crypto.Encrypt( row[:batch_size] ), crypto.Encrypt( row[batch_size:] ) ] )\n",
        "\n",
        "print(\"Encrypted in\", timeit.default_timer() - start_time)\n",
        "\n",
        "random.seed(210826)\n",
        "\n",
        "# use chosen from before\n",
        "#chosen = random.choice(list(clients.keys()))\n",
        "#chosen_row = clients[chosen][0]\n",
        "\n",
        "# similarity to each client using raw inner product as we cannot take sqrt\n",
        "\n",
        "print(\"Negating row\")\n",
        "start_time = timeit.default_timer()\n",
        "minus_row = [ crypto.EvalMultConst(m[chosen_row][0], [ -1.0 for _ in range(batch_size) ]),\n",
        "              crypto.EvalMultConst(m[chosen_row][1], [ -1.0 for _ in range(batch_size) ]) ]\n",
        "print(\"Minus row in\", timeit.default_timer() - start_time)\n",
        "\n",
        "\n",
        "print(\"Calculating client similarities\")\n",
        "start_time = timeit.default_timer()\n",
        "client_simil = list()\n",
        "\n",
        "for idx in range(len(clients)):\n",
        "    to_sum = list()\n",
        "    for batch in range(2):\n",
        "        diff = crypto.EvalAdd(m[idx][batch], minus_row[batch])\n",
        "        to_sum.append( crypto.EvalSum( crypto.EvalMult(diff, diff),\n",
        "                                       batch_size if batch == 0 else next_power_of_2(len(products) - batch_size) ) )\n",
        "    dot = crypto.EvalAdd(to_sum[0], to_sum[1])\n",
        "    client_simil.append( dot )\n",
        "print(\"Client similarities in\", timeit.default_timer() - start_time)\n",
        "\n",
        "# now broadcast\n",
        "print(\"Broadcasting similarities\")\n",
        "start_time = timeit.default_timer()\n",
        "for idx in range(len(clients)):\n",
        "    broadcast = client_simil[idx]\n",
        "    blen = 1\n",
        "    while blen < batch_size:\n",
        "        broadcast = crypto.EvalAdd(broadcast, crypto.EvalAtIndex(broadcast, -1 * blen))\n",
        "        blen *= 2\n",
        "    client_simil[idx] = broadcast\n",
        "print(\"Broadcast in\", timeit.default_timer() - start_time)\n",
        "\n",
        "recos = [ crypto.Encrypt( [0. ]), crypto.Encrypt( [0. ]) ]\n",
        "\n",
        "print(\"Computing recommendations\")\n",
        "start_time = timeit.default_timer()\n",
        "for idx in range(len(clients)):\n",
        "    weight = client_simil[idx]\n",
        "    weighted = m[idx]\n",
        "    for batch in range(2):\n",
        "        mult = crypto.EvalMult(m[idx][batch], weight)\n",
        "        recos[batch] = crypto.EvalAdd(recos[batch], mult)\n",
        "print(\"Recos in\", timeit.default_timer() - start_time)\n",
        "\n",
        "# got the recommendations, now decrypt\n",
        "\n",
        "recos_decrypted = crypto.Decrypt(recos[0])[:batch_size] + crypto.Decrypt(recos[1])[:(len(products)-batch_size)]\n",
        "        \n",
        "print(\"Decrypting\")\n",
        "start_time = timeit.default_timer()\n",
        "recos_indexed = sorted(list(map(lambda p: [ p[1], p[0] ], enumerate(recos_decrypted))))\n",
        "print(\"Decrypted in\", timeit.default_timer() - start_time)\n",
        "\n",
        "print(\"Recommendations for\", chosen, clients[chosen][1])\n",
        "\n",
        "products_for_client = list(matrix[clients[chosen][0]][1].items())\n",
        "random.shuffle(products_for_client)\n",
        "print(\"Sample from\", len(products_for_client),\"products purchased\")\n",
        "for pair in products_for_client[:20]:\n",
        "    print(\"\\t\", products_by_col[pair[0]][1], 'purchased', pair[1], 'times')\n",
        "\n",
        "print(\"Recommended:\")\n",
        "printed = 0\n",
        "for score, col in reversed(recos_indexed):\n",
        "    if matrix[chosen_row][1].get(products_by_col[col][0], 0) > 0:\n",
        "        continue\n",
        "    print(\"\\t\", products_by_col[col][1], \"score\", score)\n",
        "    printed += 1\n",
        "    if printed > 10:\n",
        "        break"
      ],
      "execution_count": 9,
      "outputs": [
        {
          "output_type": "stream",
          "text": [
            "batch size: 2048\n",
            "Initializing ckks wrapper\n",
            "Initialized wrapper\n",
            "Generating keys\n",
            "Keys generated in 1.2411515699999995\n",
            "Encrypting\n",
            "Encrypted in 11.199226547999956\n",
            "Negating row\n",
            "Minus row in 0.019331174999990708\n",
            "Calculating client similarities\n",
            "Client similarities in 126.066759295\n",
            "Broadcasting similarities\n",
            "Broadcast in 57.40343184899996\n",
            "Computing recommendations\n",
            "Recos in 11.621751416000052\n",
            "Decrypting\n",
            "Decrypted in 0.0029990470000029745\n",
            "Recommendations for OFT041123HV2 OUTLET FUERA DE TEMPORADA SA DE CV\n",
            "Sample from 27 products purchased\n",
            "\t Silver Linings Playbook (2012) purchased 1 times\n",
            "\t Dr. Horrible's Sing-Along Blog (2008) purchased 1 times\n",
            "\t Forrest Gump (1994) purchased 1 times\n",
            "\t Ratatouille (2007) purchased 1 times\n",
            "\t Untitled Spider-Man Reboot (2017) purchased 1 times\n",
            "\t Avengers: Infinity War - Part I (2018) purchased 1 times\n",
            "\t Beautiful Mind, A (2001) purchased 1 times\n",
            "\t Incredible Hulk, The (2008) purchased 1 times\n",
            "\t Get Smart (2008) purchased 1 times\n",
            "\t The Imitation Game (2014) purchased 1 times\n",
            "\t Life of Pi (2012) purchased 1 times\n",
            "\t Rear Window (1954) purchased 1 times\n",
            "\t Interstellar (2014) purchased 1 times\n",
            "\t Cloudy with a Chance of Meatballs (2009) purchased 1 times\n",
            "\t School of Rock (2003) purchased 1 times\n",
            "\t Deadpool 2 (2018) purchased 1 times\n",
            "\t Wallace & Gromit in The Curse of the Were-Rabbit (2005) purchased 1 times\n",
            "\t Silence of the Lambs, The (1991) purchased 1 times\n",
            "\t AVPR: Aliens vs. Predator - Requiem (2007) purchased 1 times\n",
            "\t Enchanted (2007) purchased 1 times\n",
            "Recommended:\n",
            "\t Showgirls (1995) score 145311.23410638893\n",
            "\t Shaolin Soccer (Siu lam juk kau) (2001) score 130544.96389010211\n",
            "\t Demolition Man (1993) score 126639.47440460007\n",
            "\t Cape Fear (1962) score 125731.97801746811\n",
            "\t Duck Soup (1933) score 123796.02560046992\n",
            "\t Corporation, The (2003) score 118178.43212791576\n",
            "\t Encino Man (1992) score 114720.79813677579\n",
            "\t Road, The (2009) score 114022.68539713259\n",
            "\t Birds, The (1963) score 114016.75247283158\n",
            "\t Harry Potter and the Half-Blood Prince (2009) score 112028.68963284949\n",
            "\t Date Night (2010) score 108979.55787352321\n"
          ],
          "name": "stdout"
        }
      ]
    },
    {
      "cell_type": "code",
      "metadata": {
        "id": "0OHTEiAsuf4X"
      },
      "source": [
        ""
      ],
      "execution_count": null,
      "outputs": []
    }
  ]
}