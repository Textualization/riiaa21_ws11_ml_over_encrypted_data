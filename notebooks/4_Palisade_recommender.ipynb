{
  "nbformat": 4,
  "nbformat_minor": 0,
  "metadata": {
    "colab": {
      "name": "Palisade-recommender.ipynb",
      "provenance": [],
      "collapsed_sections": []
    },
    "kernelspec": {
      "name": "python3",
      "display_name": "Python 3"
    },
    "language_info": {
      "name": "python"
    }
  },
  "cells": [
    {
      "cell_type": "markdown",
      "metadata": {
        "id": "5WXajS9CLzsl"
      },
      "source": [
        "Copyright (C) 2021 Textualization Software Ltd. Distributed under the terms of the [Apache Software License 2.0](http://www.apache.org/licenses/LICENSE-2.0).\n",
        "---\n",
        "\n",
        "<a href=\"https://colab.research.google.com/github/Textualization/riiaa21_ws11_ml_over_encrypted_data/blob/main/notebooks/4_Palisade_recommender.ipynb\" target=\"_parent\"><img src=\"https://colab.research.google.com/assets/colab-badge.svg\" alt=\"Open In Colab\"/></a>\n",
        "\n"
      ]
    },
    {
      "cell_type": "code",
      "metadata": {
        "colab": {
          "base_uri": "https://localhost:8080/"
        },
        "id": "YxREGIVGUzxg",
        "outputId": "2fd2391d-02c7-4725-d037-43c7205b906a"
      },
      "source": [
        "!rm -rf riiaa21_ws11_ml_over_encrypted_data\n",
        "!git clone https://github.com/Textualization/riiaa21_ws11_ml_over_encrypted_data"
      ],
      "execution_count": 1,
      "outputs": [
        {
          "output_type": "stream",
          "name": "stdout",
          "text": [
            "Cloning into 'riiaa21_ws11_ml_over_encrypted_data'...\n",
            "remote: Enumerating objects: 83, done.\u001b[K\n",
            "remote: Counting objects: 100% (83/83), done.\u001b[K\n",
            "remote: Compressing objects: 100% (59/59), done.\u001b[K\n",
            "remote: Total 83 (delta 41), reused 63 (delta 23), pack-reused 0\u001b[K\n",
            "Unpacking objects: 100% (83/83), done.\n"
          ]
        }
      ]
    },
    {
      "cell_type": "code",
      "metadata": {
        "id": "tE3paQGhVCkW"
      },
      "source": [
        "!cp /content/riiaa21_ws11_ml_over_encrypted_data/dependencies/palisade-install.tar.gz /content; cd /content; tar -xzf palisade-install.tar.gz\n",
        "!cd /content/riiaa21_ws11_ml_over_encrypted_data/data; tar -xzf synthetic-invoices.tar.gz"
      ],
      "execution_count": 2,
      "outputs": []
    },
    {
      "cell_type": "code",
      "metadata": {
        "id": "UT8SU6NYZ8Z9"
      },
      "source": [
        "!mkdir -p /content/riiaa21_ws11_ml_over_encrypted_data/build/lib\n",
        "!cd /content/riiaa21_ws11_ml_over_encrypted_data; c++ -fopenmp -fPIC -std=gnu++11 `python3.7-config --cflags` `python3.7-config --includes` -I/content/palisade-install/include/palisade{,/core,/pke,/third-party/inclue} -o build/lib/ckks_wrapper.o -c src/ckks_wrapper.cpp \n",
        "!cd /content/riiaa21_ws11_ml_over_encrypted_data; c++ -fopenmp -fPIC -std=gnu++11 `python3.7-config --cflags` `python3.7-config --includes` -I/content/palisade-install/include/palisade{,/core,/pke,/third-party/inclue} -o build/lib/pycrypto.o -c src/pycrypto.cpp \n",
        "!cd /content/riiaa21_ws11_ml_over_encrypted_data; /usr/bin/c++ -fPIC  -Wall -Werror -O3  `python3.7-config --ldflags` -DPALISADE_VERSION=1.11.4 -Wno-parentheses -fopenmp -shared -Wl,-soname,pycrypto.so.1 -lpython3.7m -o build/lib/pycrypto.so.1 build/lib/ckks_wrapper.o build/lib/pycrypto.o   -L/content/palisade-install/lib  -Wl,-rpath,/content/palisade-install/lib:  /content/palisade-install/lib/libPALISADEcore.so.1 /content/palisade-install/lib/libPALISADEbinfhe.so.1 /content/palisade-install/lib/libPALISADEpke.so.1  /usr/lib/x86_64-linux-gnu/libpython3.7m.so /usr/lib/x86_64-linux-gnu/libboost_python3-py36.so \n",
        "!cd /content/riiaa21_ws11_ml_over_encrypted_data/build/lib; ln -s pycrypto.so.1 pycrypto.so"
      ],
      "execution_count": 3,
      "outputs": []
    },
    {
      "cell_type": "code",
      "metadata": {
        "id": "b41NXFY9VFbq"
      },
      "source": [
        "import sys\n",
        "sys.path.append('/content/riiaa21_ws11_ml_over_encrypted_data/build/lib')\n",
        "\n",
        "import pycrypto"
      ],
      "execution_count": 4,
      "outputs": []
    },
    {
      "cell_type": "code",
      "metadata": {
        "id": "UgtsP4kCVI8S"
      },
      "source": [
        "import os\n",
        "import os.path\n",
        "import random\n",
        "import math\n",
        "\n",
        "import xml.etree.ElementTree as ET\n",
        "\n",
        "import numpy as np\n",
        "import timeit"
      ],
      "execution_count": 5,
      "outputs": []
    },
    {
      "cell_type": "code",
      "metadata": {
        "id": "L0UKAvs_Vh_5",
        "colab": {
          "base_uri": "https://localhost:8080/"
        },
        "outputId": "0fbb368c-ab71-4825-cd57-82f988029a38"
      },
      "source": [
        "DATA_DIR='/content/riiaa21_ws11_ml_over_encrypted_data/data/invoices'\n",
        "\n",
        "matrix           = list() # rows = [ rfc, pref dict id->count ]\n",
        "clients          = dict() # rfc -> [ row in matrix, name ]\n",
        "clients_by_row   = list() # row -> [ rfc, name ]\n",
        "products         = dict() # id -> [ col in matrix, name ]\n",
        "products_by_col  = list() # col -> [ id, name ]\n",
        "\n",
        "for invoice in os.listdir(DATA_DIR):\n",
        "    if '.xml' not in invoice:\n",
        "        continue\n",
        "    tree = ET.parse(os.path.join(DATA_DIR, invoice))\n",
        "    root = tree.getroot()\n",
        "    rfc = root[1].attrib['Rfc'] # Receptor\n",
        "    if rfc not in clients:\n",
        "        # new row\n",
        "        # FOR PRESENTATION\n",
        "        if len(matrix) > 400:\n",
        "          break\n",
        "        clients[rfc] = [ len(matrix), root[1].attrib['Nombre'] ]\n",
        "        matrix.append( [ rfc, dict() ] )\n",
        "        clients_by_row.append( [ rfc, root[1].attrib['Nombre'] ] )\n",
        "    row = clients[rfc][0]\n",
        "\n",
        "    for concept in root[2]:\n",
        "        _id = concept.attrib['NoIdentificacion']\n",
        "        name = concept.attrib['Descripcion']\n",
        "\n",
        "        if _id not in products:\n",
        "            # new col\n",
        "            products[_id] = [ len(products), name ]\n",
        "            products_by_col.append( [ _id, name ] )\n",
        "        col = products[_id][0]\n",
        "\n",
        "        matrix[row][1][col] = matrix[row][1].get(col, 0) + 1\n",
        "\n",
        "print(\"Loaded \", len(clients), \" clients and \", len(products), \" products\")"
      ],
      "execution_count": 11,
      "outputs": [
        {
          "output_type": "stream",
          "name": "stdout",
          "text": [
            "Loaded  401  clients and  4771  products\n"
          ]
        }
      ]
    },
    {
      "cell_type": "code",
      "metadata": {
        "colab": {
          "base_uri": "https://localhost:8080/"
        },
        "id": "NInekr-TVimJ",
        "outputId": "024b00fb-60b7-4ba3-ed4f-7235beb7b9bd"
      },
      "source": [
        "m = np.zeros((len(clients), len(products)))\n",
        "\n",
        "for r in range(len(matrix)):\n",
        "    for c, v in matrix[r][1].items():\n",
        "        m[r][c] = v\n",
        "\n",
        "random.seed(210826)\n",
        "\n",
        "#chosen = random.choice(list(clients.keys()))\n",
        "chosen = list(clients.keys())[67]\n",
        "chosen_row = clients[chosen][0]\n",
        "\n",
        "print(\"Recommendations for\", chosen, clients[chosen][1])\n",
        "\n",
        "products_for_client = list(matrix[clients[chosen][0]][1].items())\n",
        "random.shuffle(products_for_client)\n",
        "print(\"Sample from\", len(products_for_client),\"products purchased\")\n",
        "for pair in products_for_client[:20]:\n",
        "    print(\"\\t\", products_by_col[pair[0]][1], 'purchased', pair[1], 'times')\n",
        "\n",
        "# similarity to each client using raw inner product as we cannot take sqrt\n",
        "\n",
        "client_simil = np.ndarray((len(clients),1))\n",
        "\n",
        "minus_row = -1 * m[chosen_row]\n",
        "\n",
        "for idx in range(len(clients)):\n",
        "    #client_simil[idx] = math.sqrt(np.dot(m[idx], m[chosen_row]))\n",
        "    diff = m[idx] + minus_row\n",
        "    client_simil[idx] = np.sum(diff*diff)\n",
        "\n",
        "print(\"Top similarities:\")\n",
        "print(client_simil[:10])\n",
        "\n",
        "recos = np.zeros((len(products),))\n",
        "\n",
        "for idx in range(len(clients)):\n",
        "    weight = client_simil[idx]\n",
        "    row = m[idx][:]\n",
        "    recos = recos + row * weight\n",
        "    #if idx % 100 == 0:\n",
        "    #  print(\"{} {:,} {:,} {:,}\".format(idx, recos[0], recos[idx], recos[8200]))\n",
        "\n",
        "recos_indexed = sorted(list(map(lambda p: [ p[1], p[0] ], enumerate(recos))))\n",
        "\n",
        "print(\"Recommended:\")\n",
        "printed = 0\n",
        "for score, col in reversed(recos_indexed):\n",
        "    if m[chosen_row][col] > 0:\n",
        "        continue\n",
        "    print(\"\\t({}) {} score={:,}\".format(col, products_by_col[col][1], score))\n",
        "    printed += 1\n",
        "    if printed > 10:\n",
        "        break\n",
        "old_recos = recos\n",
        "old_recos_indexed = recos_indexed"
      ],
      "execution_count": 12,
      "outputs": [
        {
          "output_type": "stream",
          "name": "stdout",
          "text": [
            "Recommendations for SAH9306021Q5 SERVICIOS Y ABASTECIMIENTO HIDRAULICO SA DE CV\n",
            "Sample from 13 products purchased\n",
            "\t Lord of the Rings: The Two Towers, The (2002) purchased 1 times\n",
            "\t Shawshank Redemption, The (1994) purchased 1 times\n",
            "\t Saving Private Ryan (1998) purchased 1 times\n",
            "\t Forrest Gump (1994) purchased 1 times\n",
            "\t Schindler's List (1993) purchased 1 times\n",
            "\t Lord of the Rings: The Fellowship of the Ring, The (2001) purchased 1 times\n",
            "\t Matrix, The (1999) purchased 1 times\n",
            "\t Terminator 2: Judgment Day (1991) purchased 1 times\n",
            "\t Incredibles, The (2004) purchased 1 times\n",
            "\t Samsara (2011) purchased 1 times\n",
            "\t Toy Story 3 (2010) purchased 1 times\n",
            "\t Terminator, The (1984) purchased 1 times\n",
            "\t Indiana Jones and the Last Crusade (1989) purchased 1 times\n",
            "Top similarities:\n",
            "[[218.]\n",
            " [259.]\n",
            " [ 53.]\n",
            " [202.]\n",
            " [257.]\n",
            " [106.]\n",
            " [ 42.]\n",
            " [104.]\n",
            " [ 84.]\n",
            " [206.]]\n",
            "Recommended:\n",
            "\t(21) Pulp Fiction (1994) score=18,796.0\n",
            "\t(91) Star Wars: Episode IV - A New Hope (1977) score=16,201.0\n",
            "\t(213) Silence of the Lambs, The (1991) score=16,042.0\n",
            "\t(117) Godfather, The (1972) score=15,964.0\n",
            "\t(245) Star Wars: Episode V - The Empire Strikes Back (1980) score=14,744.0\n",
            "\t(14) Raiders of the Lost Ark (Indiana Jones and the Raiders of the Lost Ark) (1981) score=13,623.0\n",
            "\t(374) American Beauty (1999) score=13,229.0\n",
            "\t(7) Braveheart (1995) score=12,541.0\n",
            "\t(211) Godfather: Part II, The (1974) score=12,415.0\n",
            "\t(23) Fargo (1996) score=12,382.0\n",
            "\t(115) Toy Story (1995) score=12,127.0\n"
          ]
        }
      ]
    },
    {
      "cell_type": "code",
      "metadata": {
        "colab": {
          "base_uri": "https://localhost:8080/"
        },
        "id": "5bl4THVIV6Zd",
        "outputId": "cc32d751-6017-4a14-ece5-2ac3dd385272"
      },
      "source": [
        "def next_power_of_2(x):\n",
        "    return 1 if x == 0 else 2**(x - 1).bit_length()\n",
        "\n",
        "# CKKS related parameters\n",
        "max_depth=4\n",
        "scale_factor=30\n",
        "batch_size=next_power_of_2(max(len(products), len(clients)) // 2 + 2)\n",
        "print(\"batch size:\", batch_size)\n",
        "\n",
        "print(\"Initializing ckks wrapper\")\n",
        "crypto=pycrypto.CKKSwrapper()\n",
        "print(\"Initialized wrapper\")\n",
        "\n",
        "print(\"Generating keys\")\n",
        "start_time = timeit.default_timer()\n",
        "crypto.KeyGen(max_depth, scale_factor, batch_size)\n",
        "print(\"Keys generated in\", timeit.default_timer() - start_time)\n",
        "\n",
        "print(\"Encrypting\")\n",
        "start_time = timeit.default_timer()\n",
        "m = list()\n",
        "\n",
        "for r in range(len(matrix)):\n",
        "    row = [ 0.0 for _ in range(len(products)) ]\n",
        "    for c, v in matrix[r][1].items():\n",
        "        row[c] =  v * 1.0\n",
        "    m.append( [ crypto.Encrypt( row[:batch_size] ), crypto.Encrypt( row[batch_size:] ) ] )\n",
        "\n",
        "print(\"Encrypted in\", timeit.default_timer() - start_time)\n",
        "\n",
        "random.seed(210826)\n",
        "\n",
        "# use chosen from before\n",
        "#chosen = random.choice(list(clients.keys()))\n",
        "#chosen_row = clients[chosen][0]\n",
        "\n",
        "# similarity to each client using raw inner product as we cannot take sqrt\n",
        "\n",
        "print(\"Negating row\")\n",
        "start_time = timeit.default_timer()\n",
        "minus_row = [ crypto.EvalMultConst(m[chosen_row][0], [ -1.0 for _ in range(batch_size) ]),\n",
        "              crypto.EvalMultConst(m[chosen_row][1], [ -1.0 for _ in range(len(products) - batch_size) ]) ]\n",
        "print(\"Minus row in\", timeit.default_timer() - start_time)\n",
        "\n",
        "print(\"Calculating client similarities\")\n",
        "start_time = timeit.default_timer()\n",
        "client_simil = list()\n",
        "\n",
        "for idx in range(len(clients)):\n",
        "    to_sum = list()\n",
        "    for batch in range(2):\n",
        "        diff = crypto.EvalAdd(m[idx][batch], minus_row[batch])\n",
        "        to_sum.append( crypto.EvalSum( crypto.EvalMult(diff, diff),\n",
        "                                       batch_size if batch == 0 else next_power_of_2(len(products) - batch_size) ) )\n",
        "    dot = crypto.EvalAdd(to_sum[0], to_sum[1])\n",
        "    # EvalSum does not zero the other components in batch\n",
        "    dot = crypto.EvalMultConst(dot, [1 if _ == 0 else 0 for _ in range(batch_size)])\n",
        "    if(idx<10):\n",
        "      sim = crypto.Decrypt(dot)\n",
        "      print(sim[:5])\n",
        "    client_simil.append( dot )\n",
        "print(\"Client similarities in\", timeit.default_timer() - start_time)\n",
        "\n",
        "# now broadcast\n",
        "print(\"Broadcasting similarities\")\n",
        "start_time = timeit.default_timer()\n",
        "for idx in range(len(clients)):\n",
        "    broadcast = client_simil[idx]\n",
        "    blen = 1\n",
        "    while blen < batch_size:\n",
        "        broadcast = crypto.EvalAdd(broadcast, crypto.EvalAtIndex(broadcast, -1 * blen))\n",
        "        blen *= 2\n",
        "    client_simil[idx] = broadcast\n",
        "print(\"Broadcast in\", timeit.default_timer() - start_time)\n",
        "\n",
        "sim0 = crypto.Decrypt(client_simil[0])\n",
        "print(sim0[:10])\n",
        "\n",
        "recos = [ crypto.Encrypt( [0. ]), crypto.Encrypt( [0. ]) ]\n",
        "\n",
        "print(\"Computing recommendations\")\n",
        "start_time = timeit.default_timer()\n",
        "for idx in range(len(clients)):\n",
        "    #print(\"client:\", idx)\n",
        "    weight = client_simil[idx]\n",
        "    weighted = m[idx]\n",
        "    #print(\"weight: {:,}\".format(crypto.Decrypt(weight)[0]))\n",
        "    #print(\"base pref: {:,} {:,}\".format(crypto.Decrypt(weighted[0])[0], crypto.Decrypt(weighted[1])[0]))\n",
        "    for batch in range(2):\n",
        "        mult = crypto.EvalMult(weighted[batch], weight)\n",
        "        #if batch == 0:\n",
        "        #  print(\"mult:\", crypto.Decrypt(mult)[0])\n",
        "        recos[batch] = crypto.EvalAdd(recos[batch], mult)\n",
        "    #print(\"reco: {:,} {:,}\".format(crypto.Decrypt(recos[0])[0], crypto.Decrypt(recos[1])[0]) )\n",
        "    #if idx % 100 == 0:\n",
        "    #  r = crypto.Decrypt(recos[0]) + crypto.Decrypt(recos[1]) \n",
        "    #  print(\"{} {:,} {:,} {:,}\".format(idx, r[0], r[idx], r[8200]))\n",
        "print(\"Recos in\", timeit.default_timer() - start_time)\n",
        "\n",
        "# got the recommendations, now decrypt\n",
        "print(\"Decrypting\")\n",
        "start_time = timeit.default_timer()\n",
        "recos_decrypted = crypto.Decrypt(recos[0])[:batch_size] + crypto.Decrypt(recos[1])[:(len(products)-batch_size)]\n",
        "print(\"Decrypted in\", timeit.default_timer() - start_time)\n",
        "        \n",
        "recos_indexed = sorted(list(map(lambda p: [ p[1], p[0] ], enumerate(recos_decrypted))))\n",
        "\n",
        "print(\"Recommendations for\", chosen, clients[chosen][1])\n",
        "\n",
        "products_for_client = list(matrix[clients[chosen][0]][1].items())\n",
        "random.shuffle(products_for_client)\n",
        "print(\"Sample from\", len(products_for_client),\"products purchased\")\n",
        "for pair in products_for_client[:20]:\n",
        "    print(\"\\t\", products_by_col[pair[0]][1], 'purchased', pair[1], 'times')\n",
        "\n",
        "print(\"Recommended:\")\n",
        "printed = 0\n",
        "for score, col in reversed(recos_indexed):\n",
        "    if col in matrix[chosen_row][1]:\n",
        "        continue\n",
        "    print(\"\\t({}) {} score={:,}\".format(col, products_by_col[col][1], score))        \n",
        "    printed += 1\n",
        "    if printed > 10:\n",
        "        break"
      ],
      "execution_count": 13,
      "outputs": [
        {
          "output_type": "stream",
          "name": "stdout",
          "text": [
            "batch size: 4096\n",
            "Initializing ckks wrapper\n",
            "Initialized wrapper\n",
            "Generating keys\n",
            "Keys generated in 1.98000945900003\n",
            "Encrypting\n",
            "Encrypted in 26.604011954000043\n",
            "Negating row\n",
            "Minus row in 0.023708063999947626\n",
            "Calculating client similarities\n",
            "[218.00002845586565, -1.1095056383686995e-06, -6.521090353022298e-06, 1.646711536181897e-05, 2.218659103911474e-05]\n",
            "[259.0015988085203, 1.8458553864497846e-05, -3.0381243461272766e-06, 2.1504791932246735e-05, 3.662876710731617e-05]\n",
            "[52.99927212523427, 4.91285038563258e-06, -8.448083291480004e-07, 8.069994773233134e-06, 1.4445040774299998e-05]\n",
            "[201.9995410181425, 1.224326758569803e-05, 4.489184716035984e-06, 5.034165573473328e-06, 1.6404809786238127e-05]\n",
            "[257.00053321043475, 5.005021044064684e-05, 1.856178797484285e-05, -7.50515137159526e-06, 1.2247655477585526e-05]\n",
            "[105.9983025141432, 7.297278355461417e-06, -6.173807963080904e-07, 5.101778513376939e-06, 5.844522523103289e-06]\n",
            "[42.00141579194573, 1.9995676825060753e-06, -1.7600219732409166e-06, 4.492795304442142e-07, 2.0391302546694617e-06]\n",
            "[103.99914137144103, 7.036129798156036e-06, -1.981420917354801e-06, 6.148527461606565e-07, 7.696134523744167e-06]\n",
            "[84.00108365741823, 3.3750011122759003e-06, -5.414629694929228e-07, 6.862686362069572e-06, 5.4542898392951195e-06]\n",
            "[206.0025723502668, 1.550704366138769e-05, -3.802963526023711e-06, 8.09218884140421e-06, 8.885136957959578e-06]\n",
            "Client similarities in 308.10390079800004\n",
            "Broadcasting similarities\n",
            "Broadcast in 124.40439289100004\n",
            "[217.9974329078065, 217.9977802627368, 218.00049048863727, 218.0019247374522, 217.99960012464078, 217.9973991134127, 218.00341517777736, 217.99530630610366, 217.99921041941582, 217.99848955706364]\n",
            "Computing recommendations\n",
            "Recos in 23.929603471999826\n",
            "Decrypting\n",
            "Decrypted in 0.058218037000187906\n",
            "Recommendations for SAH9306021Q5 SERVICIOS Y ABASTECIMIENTO HIDRAULICO SA DE CV\n",
            "Sample from 13 products purchased\n",
            "\t Lord of the Rings: The Two Towers, The (2002) purchased 1 times\n",
            "\t Shawshank Redemption, The (1994) purchased 1 times\n",
            "\t Saving Private Ryan (1998) purchased 1 times\n",
            "\t Forrest Gump (1994) purchased 1 times\n",
            "\t Schindler's List (1993) purchased 1 times\n",
            "\t Lord of the Rings: The Fellowship of the Ring, The (2001) purchased 1 times\n",
            "\t Matrix, The (1999) purchased 1 times\n",
            "\t Terminator 2: Judgment Day (1991) purchased 1 times\n",
            "\t Incredibles, The (2004) purchased 1 times\n",
            "\t Samsara (2011) purchased 1 times\n",
            "\t Toy Story 3 (2010) purchased 1 times\n",
            "\t Terminator, The (1984) purchased 1 times\n",
            "\t Indiana Jones and the Last Crusade (1989) purchased 1 times\n",
            "Recommended:\n",
            "\t(21) Pulp Fiction (1994) score=18,796.304642621213\n",
            "\t(91) Star Wars: Episode IV - A New Hope (1977) score=16,200.76598938448\n",
            "\t(213) Silence of the Lambs, The (1991) score=16,042.020054225344\n",
            "\t(117) Godfather, The (1972) score=15,964.024086082223\n",
            "\t(245) Star Wars: Episode V - The Empire Strikes Back (1980) score=14,744.03468458731\n",
            "\t(14) Raiders of the Lost Ark (Indiana Jones and the Raiders of the Lost Ark) (1981) score=13,622.975942455681\n",
            "\t(374) American Beauty (1999) score=13,229.097643311508\n",
            "\t(7) Braveheart (1995) score=12,540.708815881077\n",
            "\t(211) Godfather: Part II, The (1974) score=12,415.006871780352\n",
            "\t(23) Fargo (1996) score=12,382.202247802572\n",
            "\t(115) Toy Story (1995) score=12,127.099881826158\n"
          ]
        }
      ]
    },
    {
      "cell_type": "code",
      "metadata": {
        "id": "uZGeS1SdL9r-"
      },
      "source": [
        ""
      ],
      "execution_count": null,
      "outputs": []
    }
  ]
}