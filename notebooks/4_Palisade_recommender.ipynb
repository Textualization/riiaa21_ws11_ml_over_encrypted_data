{
  "nbformat": 4,
  "nbformat_minor": 0,
  "metadata": {
    "colab": {
      "name": "Palisade-recommender.ipynb",
      "provenance": [],
      "collapsed_sections": []
    },
    "kernelspec": {
      "name": "python3",
      "display_name": "Python 3"
    },
    "language_info": {
      "name": "python"
    }
  },
  "cells": [
    {
      "cell_type": "markdown",
      "metadata": {
        "id": "5WXajS9CLzsl"
      },
      "source": [
        "Copyright (C) 2021 Textualization Software Ltd. Distributed under the terms of the [Apache Software License 2.0](http://www.apache.org/licenses/LICENSE-2.0).",
        "\n",
        "---\n",
        "\n",
        "<a href=\"https://colab.research.google.com/github/Textualization/riiaa21_ws11_ml_over_encrypted_data/blob/main/notebooks/4_Palisade_recommender.ipynb\" target=\"_parent\"><img src=\"https://colab.research.google.com/assets/colab-badge.svg\" alt=\"Open In Colab\"/></a>\n",
        "\n"
      ]
    },
    {
      "cell_type": "code",
      "metadata": {
        "colab": {
          "base_uri": "https://localhost:8080/"
        },
        "id": "YxREGIVGUzxg",
        "outputId": "ab06a66b-d9b6-4f1c-e735-80cbd3283d0c"
      },
      "source": [
        "!rm -rf riiaa21_ws11_ml_over_encrypted_data\n",
        "!git clone https://github.com/Textualization/riiaa21_ws11_ml_over_encrypted_data",
        "!cp /content/riiaa21_ws11_ml_over_encrypted_data/dependencies/palisade-install.tar.gz /content; cd /content; tar -xzf palisade-install.tar.gz"
      ],
      "execution_count": null,
      "outputs": [
        {
          "output_type": "stream",
          "text": [
          ],
          "name": "stdout"
        }
      ]
    },
    {
      "cell_type": "code",
      "metadata": {
        "colab": {
          "base_uri": "https://localhost:8080/"
        },
        "id": "tE3paQGhVCkW",
        "outputId": "1ecf970b-2677-4779-c71c-075d4e8ca0bd"
      },
      "source": [
        "!cd data; tar -xzf synthetic-invoices.tar.gz"
      ],
      "execution_count": null,
      "outputs": [
        {
          "output_type": "stream",
          "text": [
          ],
          "name": "stdout"
        }
      ]
    },
    {
      "cell_type": "code",
      "metadata": {
        "id": "UT8SU6NYZ8Z9",
        "colab": {
          "base_uri": "https://localhost:8080/"
        },
        "outputId": "bb5a5196-51ca-4564-d1a3-be38a481d1d0"
      },
      "source": [
        "!mkdir -p /content/riiaa21_ws11_ml_over_encrypted_data/build/lib\n",
        "!cd /content/riiaa21_ws11_ml_over_encrypted_data; c++ -fopenmp -fPIC -std=gnu++11 `python3.7-config --cflags` `python3.7-config --includes` -I/content/palisade-install/include/palisade{,/core,/pke,/third-party/inclue} -o build/lib/ckks_wrapper.o -c src/ckks_wrapper.cpp \n",
        "!cd /content/riiaa21_ws11_ml_over_encrypted_data; c++ -fopenmp -fPIC -std=gnu++11 `python3.7-config --cflags` `python3.7-config --includes` -I/content/palisade-install/include/palisade{,/core,/pke,/third-party/inclue} -o build/lib/pycrypto.o -c src/pycrypto.cpp \n",
        "!cd /content/riiaa21_ws11_ml_over_encrypted_data; /usr/bin/c++ -fPIC  -Wall -Werror -O3  `python3.7-config --ldflags` -DPALISADE_VERSION=1.11.4 -Wno-parentheses -fopenmp -shared -Wl,-soname,pycrypto.so.1 -lpython3.7m -o build/lib/pycrypto.so.1 build/lib/ckks_wrapper.o build/lib/pycrypto.o   -L/content/palisade-install/lib  -Wl,-rpath,/content/palisade-install/lib:  /content/palisade-install/lib/libPALISADEcore.so.1 /content/palisade-install/lib/libPALISADEbinfhe.so.1 /content/palisade-install/lib/libPALISADEpke.so.1  /usr/lib/x86_64-linux-gnu/libpython3.7m.so /usr/lib/x86_64-linux-gnu/libboost_python3-py36.so \n",
        "!cd /content/riiaa21_ws11_ml_over_encrypted_data/build/lib; ln -s pycrypto.so.1 pycrypto.so",
        "!cd /content/riiaa21_ws11_ml_over_encrypted_data/data; tar -xzf synthetic-invoices.tar.gz"
      ],
      "execution_count": null,
      "outputs": [
        {
          "output_type": "stream",
          "text": [
          ],
          "name": "stdout"
        }
      ]
    },
    {
      "cell_type": "code",
      "metadata": {
        "id": "b41NXFY9VFbq"
      },
      "source": [
        "import sys\n",
        "sys.path.append('/content/riiaa21_ws11_ml_over_encrypted_data/build/lib')\n",
        "\n",
        "import pycrypto"
      ],
      "execution_count": null,
      "outputs": []
    },
    {
      "cell_type": "code",
      "metadata": {
        "id": "UgtsP4kCVI8S"
      },
      "source": [
        "import os\n",
        "import os.path\n",
        "import random\n",
        "import math\n",
        "\n",
        "import xml.etree.ElementTree as ET\n",
        "\n",
        "import numpy as np\n",
        "import timeit"
      ],
      "execution_count": null,
      "outputs": []
    },
    {
      "cell_type": "code",
      "metadata": {
        "id": "L0UKAvs_Vh_5",
        "colab": {
          "base_uri": "https://localhost:8080/"
        },
        "outputId": "916b7edf-67c2-4141-93d3-f3ab4d3a93c1"
      },
      "source": [
        "DATA_DIR='/content/riiaa21_ws11_ml_over_encrypted_data/data/invoices'\n",
        "\n",
        "matrix           = list() # rows = [ rfc, pref dict id->count ]\n",
        "clients          = dict() # rfc -> [ row in matrix, name ]\n",
        "clients_by_row   = list() # row -> [ rfc, name ]\n",
        "products         = dict() # id -> [ col in matrix, name ]\n",
        "products_by_col  = list() # col -> [ id, name ]\n",
        "\n",
        "for invoice in os.listdir(DATA_DIR):\n",
        "    if '.xml' not in invoice:\n",
        "        continue\n",
        "    tree = ET.parse(os.path.join(DATA_DIR, invoice))\n",
        "    root = tree.getroot()\n",
        "    rfc = root[1].attrib['Rfc'] # Receptor\n",
        "    if rfc not in clients:\n",
        "        # new row\n",
        "        clients[rfc] = [ len(matrix), root[1].attrib['Nombre'] ]\n",
        "        matrix.append( [ rfc, dict() ] )\n",
        "        clients_by_row.append( [ rfc, root[1].attrib['Nombre'] ] )\n",
        "    row = clients[rfc][0]\n",
        "\n",
        "    for concept in root[2]:\n",
        "        _id = concept.attrib['NoIdentificacion']\n",
        "        name = concept.attrib['Descripcion']\n",
        "\n",
        "        if _id not in products:\n",
        "            # new col\n",
        "            products[_id] = [ len(products), name ]\n",
        "            products_by_col.append( [ _id, name ] )\n",
        "        col = products[_id][0]\n",
        "\n",
        "        matrix[row][1][col] = matrix[row][1].get(col, 0) + 1\n",
        "\n",
        "print(\"Loaded \", len(clients), \" clients and \", len(products), \" products\")"
      ],
      "execution_count": null,
      "outputs": [
        {
          "output_type": "stream",
          "text": [
            "Loaded  609  clients and  8452  products\n"
          ],
          "name": "stdout"
        }
      ]
    },
    {
      "cell_type": "code",
      "metadata": {
        "colab": {
          "base_uri": "https://localhost:8080/"
        },
        "id": "NInekr-TVimJ",
        "outputId": "bd635752-cd86-4fe3-a2c5-28104b7d9a86"
      },
      "source": [
        "m = np.zeros((len(clients), len(products)))\n",
        "\n",
        "for r in range(len(matrix)):\n",
        "    for c, v in matrix[r][1].items():\n",
        "        m[r][c] = v\n",
        "\n",
        "random.seed(210826)\n",
        "\n",
        "#chosen = random.choice(list(clients.keys()))\n",
        "chosen = list(clients.keys())[67]\n",
        "chosen_row = clients[chosen][0]\n",
        "\n",
        "print(\"Recommendations for\", chosen, clients[chosen][1])\n",
        "\n",
        "products_for_client = list(matrix[clients[chosen][0]][1].items())\n",
        "random.shuffle(products_for_client)\n",
        "print(\"Sample from\", len(products_for_client),\"products purchased\")\n",
        "for pair in products_for_client[:20]:\n",
        "    print(\"\\t\", products_by_col[pair[0]][1], 'purchased', pair[1], 'times')\n",
        "\n",
        "# similarity to each client using raw inner product as we cannot take sqrt\n",
        "\n",
        "client_simil = np.ndarray((len(clients),1))\n",
        "\n",
        "for idx in range(len(clients)):\n",
        "    client_simil[idx] = math.sqrt(np.dot(m[idx], m[chosen_row]))\n",
        "    #client_simil[idx] = np.dot(m[idx], m[chosen_row])\n",
        "\n",
        "recos = np.zeros((len(products),))\n",
        "\n",
        "for idx in range(len(clients)):\n",
        "    weight = client_simil[idx]\n",
        "    row = m[idx][:]\n",
        "    recos = recos + row * weight / len(clients)\n",
        "\n",
        "recos_indexed = sorted(list(map(lambda p: [ p[1], p[0] ], enumerate(recos))))\n",
        "\n",
        "print(\"Recommended:\")\n",
        "printed = 0\n",
        "for score, col in reversed(recos_indexed):\n",
        "    if m[chosen_row][col] > 0:\n",
        "        continue\n",
        "    print(\"\\t\", products_by_col[col][1], \"score\", score)\n",
        "    printed += 1\n",
        "    if printed > 10:\n",
        "        break"
      ],
      "execution_count": null,
      "outputs": [
        {
          "output_type": "stream",
          "text": [
            "Recommendations for CON0610049C2 CONAFIP SC\n",
            "Sample from 774 products purchased\n",
            "\t Anniversary Party, The (2001) purchased 3 times\n",
            "\t American Movie (1999) purchased 1 times\n",
            "\t Sabrina (1954) purchased 3 times\n",
            "\t Casablanca (1942) purchased 4 times\n",
            "\t Minus Man, The (1999) purchased 2 times\n",
            "\t Eyes Wide Shut (1999) purchased 1 times\n",
            "\t Three Kings (1999) purchased 1 times\n",
            "\t Withnail & I (1987) purchased 3 times\n",
            "\t Star Maps (1997) purchased 2 times\n",
            "\t Body Heat (1981) purchased 3 times\n",
            "\t Four Days in September (O Que Ã Isso, Companheiro?) (1997) purchased 5 times\n",
            "\t Mrs. Parker and the Vicious Circle (1994) purchased 3 times\n",
            "\t Butcher Boy, The (1997) purchased 4 times\n",
            "\t Romeo Must Die (2000) purchased 1 times\n",
            "\t Straight Story, The (1999) purchased 2 times\n",
            "\t Daughters of the Dust (1991) purchased 3 times\n",
            "\t Flawless (1999) purchased 3 times\n",
            "\t Emperor and the Assassin, The (Jing ke ci qin wang) (1999) purchased 1 times\n",
            "\t Fistful of Dollars, A (Per un pugno di dollari) (1964) purchased 3 times\n",
            "\t Reds (1981) purchased 1 times\n",
            "Recommended:\n",
            "\t Shawshank Redemption, The (1994) score 20.20965512048368\n",
            "\t Usual Suspects, The (1995) score 13.880515472903094\n",
            "\t Terminator 2: Judgment Day (1991) score 13.55209956754809\n",
            "\t Braveheart (1995) score 13.465070725681482\n",
            "\t Jurassic Park (1993) score 12.018797694280305\n",
            "\t Seven (a.k.a. Se7en) (1995) score 11.71240917159124\n",
            "\t Back to the Future (1985) score 11.604854680117391\n",
            "\t Monty Python and the Holy Grail (1975) score 11.095080439747367\n",
            "\t Lord of the Rings: The Fellowship of the Ring, The (2001) score 10.770791592360379\n",
            "\t Lord of the Rings: The Two Towers, The (2002) score 9.948215963125351\n",
            "\t Apollo 13 (1995) score 9.776575678663576\n"
          ],
          "name": "stdout"
        }
      ]
    },
    {
      "cell_type": "code",
      "metadata": {
        "colab": {
          "base_uri": "https://localhost:8080/",
          "height": 402
        },
        "id": "5bl4THVIV6Zd",
        "outputId": "f90846ae-6d0b-41f5-9588-27c05c0e1bbb"
      },
      "source": [
        "def next_power_of_2(x):\n",
        "    return 1 if x == 0 else 2**(x - 1).bit_length()\n",
        "\n",
        "# CKKS related parameters\n",
        "max_depth=3\n",
        "scale_factor=50\n",
        "batch_size=next_power_of_2(max(len(products), len(clients)) // 2 + 2)\n",
        "print(\"batch size:\", batch_size)\n",
        "\n",
        "print(\"Initializing ckks wrapper\")\n",
        "crypto=pycrypto.CKKSwrapper()\n",
        "print(\"Initialized wrapper\")\n",
        "\n",
        "print(\"Generating keys\")\n",
        "start_time = timeit.default_timer()\n",
        "crypto.KeyGen(max_depth, scale_factor, batch_size)\n",
        "print(\"Keys generated in\", timeit.default_timer() - start_time)\n",
        "\n",
        "print(\"Encrypting\")\n",
        "start_time = timeit.default_timer()\n",
        "m = list()\n",
        "\n",
        "for r in range(len(matrix)):\n",
        "    row = [ 0.0 for idx in range(len(products)) ]\n",
        "    for c, v in matrix[r][1].items():\n",
        "        row[c] =  v * 1.0\n",
        "    m.append( [ crypto.Encrypt( row[:batch_size] ), crypto.Encrypt( row[batch_size:] ) ] )\n",
        "\n",
        "print(\"Encrypted in\", timeit.default_timer() - start_time)\n",
        "\n",
        "random.seed(210826)\n",
        "\n",
        "chosen = random.choice(list(clients.keys()))\n",
        "chosen_row = clients[chosen][0]\n",
        "\n",
        "# similarity to each client using raw inner product as we cannot take sqrt\n",
        "\n",
        "print(\"Negating row\")\n",
        "start_time = timeit.default_timer()\n",
        "minus_row = [ crypto.EvalMultConst(m[chosen_row][0], [ -1.0 for _ in range(batch_size) ]),\n",
        "              crypto.EvalMultConst(m[chosen_row][0], [ -1.0 for _ in range(batch_size) ]) ]\n",
        "print(\"Minus row in\", timeit.default_timer() - start_time)\n",
        "\n",
        "\n",
        "print(\"Calculating client similarities\")\n",
        "start_time = timeit.default_timer()\n",
        "client_simil = list()\n",
        "\n",
        "for idx in range(len(clients)):\n",
        "    to_sum = list()\n",
        "    for batch in range(2):\n",
        "        diff = crypto.EvalAdd(m[idx][batch], minus_row[batch])\n",
        "        to_sum.append( crypto.EvalSum( crypto.EvalMult(diff, diff),\n",
        "                                       batch_size if batch == 0 else next_power_of_2(len(products) - batch_size) ) )\n",
        "    dot = crypto.EvalAdd(to_sum[0], to_sum[1])\n",
        "    client_simil.append( dot )\n",
        "print(\"Client similarities in\", timeit.default_timer() - start_time)\n",
        "\n",
        "# now broadcast\n",
        "print(\"Broadcasting similarities\")\n",
        "start_time = timeit.default_timer()\n",
        "for idx in range(len(clients)):\n",
        "    broadcast = client_simil[idx]\n",
        "    blen = 1\n",
        "    while blen < batch_size:\n",
        "        broadcast = crypto.EvalAdd(broadcast, crypto.EvalAtIndex(broadcast, -1 * blen))\n",
        "        blen *= 2\n",
        "    client_simil[idx] = broadcast\n",
        "print(\"Broadcast in\", timeit.default_timer() - start_time)\n",
        "\n",
        "recos = [ crypto.Encrypt( [0. ]), crypto.Encrypt( [0. ]) ]\n",
        "\n",
        "print(\"Computing recommendations\")\n",
        "start_time = timeit.default_timer()\n",
        "for idx in range(len(clients)):\n",
        "    weight = client_simil[idx]\n",
        "    weighted = m[idx]\n",
        "    for batch in range(2):\n",
        "        mult = crypto.EvalMult(m[idx][batch], weight)\n",
        "        recos[batch] = crypto.EvalAdd(recos[batch], mult)\n",
        "print(\"Recos in\", timeit.default_timer() - start_time)\n",
        "\n",
        "# got the recommendations, now decrypt\n",
        "\n",
        "recos_decrypted = crypto.Decrypt(recos[0])[:batch_size] + crypto.Decrypt(recos[1])[:(len(products)-batch_size)]\n",
        "        \n",
        "print(\"Decrypting\")\n",
        "start_time = timeit.default_timer()\n",
        "recos_indexed = sorted(list(map(lambda p: [ p[1], p[0] ], enumerate(recos_decrypted))))\n",
        "print(\"Decrypted in\", timeit.default_timer() - start_time)\n",
        "\n",
        "print(\"Recommendations for\", chosen, clients[chosen][1])\n",
        "\n",
        "products_for_client = list(matrix[clients[chosen][0]][1].items())\n",
        "random.shuffle(products_for_client)\n",
        "print(\"Sample from\", len(products_for_client),\"products purchased\")\n",
        "for pair in products_for_client[:20]:\n",
        "    print(\"\\t\", products_by_col[pair[0]][1], 'purchased', pair[1], 'times')\n",
        "\n",
        "print(\"Recommended:\")\n",
        "printed = 0\n",
        "for score, col in reversed(recos_indexed):\n",
        "    if matrix[chosen_row][1].get(products_by_col[col][0], 0) > 0:\n",
        "        continue\n",
        "    print(\"\\t\", products_by_col[col][1], \"score\", score)\n",
        "    printed += 1\n",
        "    if printed > 10:\n",
        "        break"
      ],
      "execution_count": null,
      "outputs": [
        {
          "output_type": "stream",
          "text": [
            "batch size: 8192\n",
            "Initializing ckks wrapper\n",
            "Initialized wrapper\n",
            "Generating keys\n",
            "Keys generated in 0.807337939000007\n",
            "Encrypting\n",
            "Encrypted in 34.515163927\n",
            "Negating row\n",
            "Minus row in 0.01962456100000054\n",
            "Calculating client similarities\n"
          ],
          "name": "stdout"
        },
        {
          "output_type": "error",
          "ename": "RuntimeError",
          "evalue": "ignored",
          "traceback": [
            "\u001b[0;31m---------------------------------------------------------------------------\u001b[0m",
            "\u001b[0;31mRuntimeError\u001b[0m                              Traceback (most recent call last)",
            "\u001b[0;32m<ipython-input-8-de12d711d02e>\u001b[0m in \u001b[0;36m<module>\u001b[0;34m()\u001b[0m\n\u001b[1;32m     51\u001b[0m     \u001b[0;32mfor\u001b[0m \u001b[0mbatch\u001b[0m \u001b[0;32min\u001b[0m \u001b[0mrange\u001b[0m\u001b[0;34m(\u001b[0m\u001b[0;36m2\u001b[0m\u001b[0;34m)\u001b[0m\u001b[0;34m:\u001b[0m\u001b[0;34m\u001b[0m\u001b[0;34m\u001b[0m\u001b[0m\n\u001b[1;32m     52\u001b[0m         \u001b[0mdiff\u001b[0m \u001b[0;34m=\u001b[0m \u001b[0mcrypto\u001b[0m\u001b[0;34m.\u001b[0m\u001b[0mEvalAdd\u001b[0m\u001b[0;34m(\u001b[0m\u001b[0mm\u001b[0m\u001b[0;34m[\u001b[0m\u001b[0midx\u001b[0m\u001b[0;34m]\u001b[0m\u001b[0;34m[\u001b[0m\u001b[0mbatch\u001b[0m\u001b[0;34m]\u001b[0m\u001b[0;34m,\u001b[0m \u001b[0mminus_row\u001b[0m\u001b[0;34m[\u001b[0m\u001b[0mbatch\u001b[0m\u001b[0;34m]\u001b[0m\u001b[0;34m)\u001b[0m\u001b[0;34m\u001b[0m\u001b[0;34m\u001b[0m\u001b[0m\n\u001b[0;32m---> 53\u001b[0;31m         to_sum.append( crypto.EvalSum( crypto.EvalMult(diff, diff),\n\u001b[0m\u001b[1;32m     54\u001b[0m                                        batch_size if batch == 0 else next_power_of_2(len(products) - batch_size) ) )\n\u001b[1;32m     55\u001b[0m     \u001b[0mdot\u001b[0m \u001b[0;34m=\u001b[0m \u001b[0mcrypto\u001b[0m\u001b[0;34m.\u001b[0m\u001b[0mEvalAdd\u001b[0m\u001b[0;34m(\u001b[0m\u001b[0mto_sum\u001b[0m\u001b[0;34m[\u001b[0m\u001b[0;36m0\u001b[0m\u001b[0;34m]\u001b[0m\u001b[0;34m,\u001b[0m \u001b[0mto_sum\u001b[0m\u001b[0;34m[\u001b[0m\u001b[0;36m1\u001b[0m\u001b[0;34m]\u001b[0m\u001b[0;34m)\u001b[0m\u001b[0;34m\u001b[0m\u001b[0;34m\u001b[0m\u001b[0m\n",
            "\u001b[0;31mRuntimeError\u001b[0m: /content/palisade-release/src/pke/include/pubkeylp.h:4539 ModReduceInternalInPlace has not been enabled for this scheme."
          ]
        }
      ]
    }
  ]
}