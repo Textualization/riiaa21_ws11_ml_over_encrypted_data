{
  "nbformat": 4,
  "nbformat_minor": 0,
  "metadata": {
    "colab": {
      "name": "Palisade-recommender.ipynb",
      "provenance": [],
      "collapsed_sections": []
    },
    "kernelspec": {
      "name": "python3",
      "display_name": "Python 3"
    },
    "language_info": {
      "name": "python"
    }
  },
  "cells": [
    {
      "cell_type": "markdown",
      "metadata": {
        "id": "5WXajS9CLzsl"
      },
      "source": [
        "Copyright (C) 2021 Textualization Software Ltd. Distributed under the terms of the [Apache Software License 2.0](http://www.apache.org/licenses/LICENSE-2.0).\n",
        "---\n",
        "\n",
        "<a href=\"https://colab.research.google.com/github/Textualization/riiaa21_ws11_ml_over_encrypted_data/blob/main/notebooks/4_Palisade_recommender.ipynb\" target=\"_parent\"><img src=\"https://colab.research.google.com/assets/colab-badge.svg\" alt=\"Open In Colab\"/></a>\n",
        "\n"
      ]
    },
    {
      "cell_type": "code",
      "metadata": {
        "colab": {
          "base_uri": "https://localhost:8080/"
        },
        "id": "YxREGIVGUzxg",
        "outputId": "94b05dac-f4b7-422c-f8d6-e899aec410b1"
      },
      "source": [
        "!rm -rf riiaa21_ws11_ml_over_encrypted_data\n",
        "!git clone https://github.com/Textualization/riiaa21_ws11_ml_over_encrypted_data"
      ],
      "execution_count": 1,
      "outputs": [
        {
          "output_type": "stream",
          "name": "stdout",
          "text": [
            "Cloning into 'riiaa21_ws11_ml_over_encrypted_data'...\n",
            "remote: Enumerating objects: 87, done.\u001b[K\n",
            "remote: Counting objects: 100% (87/87), done.\u001b[K\n",
            "remote: Compressing objects: 100% (60/60), done.\u001b[K\n",
            "remote: Total 87 (delta 44), reused 67 (delta 26), pack-reused 0\u001b[K\n",
            "Unpacking objects: 100% (87/87), done.\n"
          ]
        }
      ]
    },
    {
      "cell_type": "code",
      "metadata": {
        "id": "tE3paQGhVCkW"
      },
      "source": [
        "!cp /content/riiaa21_ws11_ml_over_encrypted_data/dependencies/palisade-install.tar.gz /content; cd /content; tar -xzf palisade-install.tar.gz\n",
        "!cd /content/riiaa21_ws11_ml_over_encrypted_data/data; tar -xzf synthetic-invoices.tar.gz"
      ],
      "execution_count": 2,
      "outputs": []
    },
    {
      "cell_type": "code",
      "metadata": {
        "id": "UT8SU6NYZ8Z9"
      },
      "source": [
        "!mkdir -p /content/riiaa21_ws11_ml_over_encrypted_data/build/lib\n",
        "!cd /content/riiaa21_ws11_ml_over_encrypted_data; c++ -fopenmp -fPIC -std=gnu++11 `python3.7-config --cflags` `python3.7-config --includes` -I/content/palisade-install/include/palisade{,/core,/pke,/third-party/inclue} -o build/lib/ckks_wrapper.o -c src/ckks_wrapper.cpp \n",
        "!cd /content/riiaa21_ws11_ml_over_encrypted_data; c++ -fopenmp -fPIC -std=gnu++11 `python3.7-config --cflags` `python3.7-config --includes` -I/content/palisade-install/include/palisade{,/core,/pke,/third-party/inclue} -o build/lib/pycrypto.o -c src/pycrypto.cpp \n",
        "!cd /content/riiaa21_ws11_ml_over_encrypted_data; /usr/bin/c++ -fPIC  -Wall -Werror -O3  `python3.7-config --ldflags` -DPALISADE_VERSION=1.11.4 -Wno-parentheses -fopenmp -shared -Wl,-soname,pycrypto.so.1 -lpython3.7m -o build/lib/pycrypto.so.1 build/lib/ckks_wrapper.o build/lib/pycrypto.o   -L/content/palisade-install/lib  -Wl,-rpath,/content/palisade-install/lib:  /content/palisade-install/lib/libPALISADEcore.so.1 /content/palisade-install/lib/libPALISADEbinfhe.so.1 /content/palisade-install/lib/libPALISADEpke.so.1  /usr/lib/x86_64-linux-gnu/libpython3.7m.so /usr/lib/x86_64-linux-gnu/libboost_python3-py36.so \n",
        "!cd /content/riiaa21_ws11_ml_over_encrypted_data/build/lib; ln -s pycrypto.so.1 pycrypto.so"
      ],
      "execution_count": 3,
      "outputs": []
    },
    {
      "cell_type": "code",
      "metadata": {
        "id": "b41NXFY9VFbq"
      },
      "source": [
        "import sys\n",
        "sys.path.append('/content/riiaa21_ws11_ml_over_encrypted_data/build/lib')\n",
        "\n",
        "import pycrypto"
      ],
      "execution_count": 4,
      "outputs": []
    },
    {
      "cell_type": "code",
      "metadata": {
        "id": "UgtsP4kCVI8S"
      },
      "source": [
        "import os\n",
        "import os.path\n",
        "import random\n",
        "import math\n",
        "\n",
        "import xml.etree.ElementTree as ET\n",
        "\n",
        "import numpy as np\n",
        "import timeit"
      ],
      "execution_count": 5,
      "outputs": []
    },
    {
      "cell_type": "code",
      "metadata": {
        "id": "L0UKAvs_Vh_5",
        "colab": {
          "base_uri": "https://localhost:8080/"
        },
        "outputId": "92a985f3-efc8-4f1a-e025-3d9ac0aaaeea"
      },
      "source": [
        "DATA_DIR='/content/riiaa21_ws11_ml_over_encrypted_data/data/invoices'\n",
        "\n",
        "matrix           = list() # rows = [ rfc, pref dict id->count ]\n",
        "clients          = dict() # rfc -> [ row in matrix, name ]\n",
        "clients_by_row   = list() # row -> [ rfc, name ]\n",
        "products         = dict() # id -> [ col in matrix, name ]\n",
        "products_by_col  = list() # col -> [ id, name ]\n",
        "\n",
        "for invoice in os.listdir(DATA_DIR):\n",
        "    if '.xml' not in invoice:\n",
        "        continue\n",
        "    tree = ET.parse(os.path.join(DATA_DIR, invoice))\n",
        "    root = tree.getroot()\n",
        "    rfc = root[1].attrib['Rfc'] # Receptor\n",
        "    if rfc not in clients:\n",
        "        # new row\n",
        "        # FOR PRESENTATION\n",
        "        #if len(matrix) > 400:\n",
        "        #  break\n",
        "        clients[rfc] = [ len(matrix), root[1].attrib['Nombre'] ]\n",
        "        matrix.append( [ rfc, dict() ] )\n",
        "        clients_by_row.append( [ rfc, root[1].attrib['Nombre'] ] )\n",
        "    row = clients[rfc][0]\n",
        "\n",
        "    for concept in root[2]:\n",
        "        _id = concept.attrib['NoIdentificacion']\n",
        "        name = concept.attrib['Descripcion']\n",
        "\n",
        "        if _id not in products:\n",
        "            # new col\n",
        "            products[_id] = [ len(products), name ]\n",
        "            products_by_col.append( [ _id, name ] )\n",
        "        col = products[_id][0]\n",
        "\n",
        "        matrix[row][1][col] = matrix[row][1].get(col, 0) + 1\n",
        "\n",
        "print(\"Loaded \", len(clients), \" clients and \", len(products), \" products\")"
      ],
      "execution_count": 6,
      "outputs": [
        {
          "output_type": "stream",
          "name": "stdout",
          "text": [
            "Loaded  609  clients and  8452  products\n"
          ]
        }
      ]
    },
    {
      "cell_type": "code",
      "metadata": {
        "colab": {
          "base_uri": "https://localhost:8080/"
        },
        "id": "NInekr-TVimJ",
        "outputId": "8f2b4bae-22ec-44c3-ae0e-55f91d35f8fe"
      },
      "source": [
        "m = np.zeros((len(clients), len(products)))\n",
        "\n",
        "for r in range(len(matrix)):\n",
        "    for c, v in matrix[r][1].items():\n",
        "        m[r][c] = v\n",
        "\n",
        "random.seed(210826)\n",
        "\n",
        "#chosen = random.choice(list(clients.keys()))\n",
        "chosen = list(clients.keys())[67]\n",
        "chosen_row = clients[chosen][0]\n",
        "\n",
        "print(\"Recommendations for\", chosen, clients[chosen][1])\n",
        "\n",
        "products_for_client = list(matrix[clients[chosen][0]][1].items())\n",
        "random.shuffle(products_for_client)\n",
        "print(\"Sample from\", len(products_for_client),\"products purchased\")\n",
        "for pair in products_for_client[:20]:\n",
        "    print(\"\\t\", products_by_col[pair[0]][1], 'purchased', pair[1], 'times')\n",
        "\n",
        "# similarity to each client using raw inner product as we cannot take sqrt\n",
        "\n",
        "client_simil = np.ndarray((len(clients),1))\n",
        "\n",
        "minus_row = -1 * m[chosen_row]\n",
        "\n",
        "for idx in range(len(clients)):\n",
        "    #client_simil[idx] = math.sqrt(np.dot(m[idx], m[chosen_row]))\n",
        "    diff = m[idx] + minus_row\n",
        "    client_simil[idx] = np.sum(diff*diff)\n",
        "\n",
        "print(\"Top similarities:\")\n",
        "print(client_simil[:10])\n",
        "\n",
        "recos = np.zeros((len(products),))\n",
        "\n",
        "for idx in range(len(clients)):\n",
        "    weight = client_simil[idx]\n",
        "    row = m[idx][:]\n",
        "    recos = recos + row * weight\n",
        "    #if idx % 100 == 0:\n",
        "    #  print(\"{} {:,} {:,} {:,}\".format(idx, recos[0], recos[idx], recos[8200]))\n",
        "\n",
        "recos_indexed = sorted(list(map(lambda p: [ p[1], p[0] ], enumerate(recos))))\n",
        "\n",
        "print(\"Recommended:\")\n",
        "printed = 0\n",
        "for score, col in reversed(recos_indexed):\n",
        "    if m[chosen_row][col] > 0:\n",
        "        continue\n",
        "    print(\"\\t({}) {} score={:,}\".format(col, products_by_col[col][1], score))\n",
        "    printed += 1\n",
        "    if printed > 10:\n",
        "        break\n",
        "old_recos = recos\n",
        "old_recos_indexed = recos_indexed"
      ],
      "execution_count": 7,
      "outputs": [
        {
          "output_type": "stream",
          "name": "stdout",
          "text": [
            "Recommendations for SAH9306021Q5 SERVICIOS Y ABASTECIMIENTO HIDRAULICO SA DE CV\n",
            "Sample from 20 products purchased\n",
            "\t Schindler's List (1993) purchased 1 times\n",
            "\t Raiders of the Lost Ark (Indiana Jones and the Raiders of the Lost Ark) (1981) purchased 1 times\n",
            "\t Incredibles, The (2004) purchased 3 times\n",
            "\t Indiana Jones and the Last Crusade (1989) purchased 1 times\n",
            "\t Samsara (2011) purchased 3 times\n",
            "\t Toy Story 3 (2010) purchased 3 times\n",
            "\t Hobbit: An Unexpected Journey, The (2012) purchased 1 times\n",
            "\t Bug's Life, A (1998) purchased 2 times\n",
            "\t Cast Away (2000) purchased 1 times\n",
            "\t Terminator, The (1984) purchased 3 times\n",
            "\t Lord of the Rings: The Two Towers, The (2002) purchased 3 times\n",
            "\t Lord of the Rings: The Fellowship of the Ring, The (2001) purchased 4 times\n",
            "\t Shawshank Redemption, The (1994) purchased 3 times\n",
            "\t Terminator 2: Judgment Day (1991) purchased 1 times\n",
            "\t Forrest Gump (1994) purchased 4 times\n",
            "\t Lord of the Rings: The Return of the King, The (2003) purchased 3 times\n",
            "\t Die Hard (1988) purchased 1 times\n",
            "\t Saving Private Ryan (1998) purchased 2 times\n",
            "\t Matrix, The (1999) purchased 4 times\n",
            "\t Braveheart (1995) purchased 1 times\n",
            "Top similarities:\n",
            "[[2543.]\n",
            " [ 702.]\n",
            " [ 318.]\n",
            " [1552.]\n",
            " [3201.]\n",
            " [ 648.]\n",
            " [1104.]\n",
            " [ 746.]\n",
            " [ 378.]\n",
            " [2108.]]\n",
            "Recommended:\n",
            "\t(21) Pulp Fiction (1994) score=901,832.0\n",
            "\t(91) Star Wars: Episode IV - A New Hope (1977) score=876,658.0\n",
            "\t(213) Silence of the Lambs, The (1991) score=799,998.0\n",
            "\t(117) Godfather, The (1972) score=763,594.0\n",
            "\t(245) Star Wars: Episode V - The Empire Strikes Back (1980) score=752,840.0\n",
            "\t(374) American Beauty (1999) score=683,510.0\n",
            "\t(176) Star Wars: Episode VI - Return of the Jedi (1983) score=678,977.0\n",
            "\t(1) Fight Club (1999) score=667,004.0\n",
            "\t(23) Fargo (1996) score=640,216.0\n",
            "\t(371) Reservoir Dogs (1992) score=636,744.0\n",
            "\t(61) Usual Suspects, The (1995) score=631,688.0\n"
          ]
        }
      ]
    },
    {
      "cell_type": "code",
      "metadata": {
        "colab": {
          "base_uri": "https://localhost:8080/"
        },
        "id": "5bl4THVIV6Zd",
        "outputId": "3476390f-ca29-42d2-eb93-c29a9e5780a6"
      },
      "source": [
        "def next_power_of_2(x):\n",
        "    return 1 if x == 0 else 2**(x - 1).bit_length()\n",
        "\n",
        "# CKKS related parameters\n",
        "max_depth=4\n",
        "scale_factor=30\n",
        "batch_size=next_power_of_2(max(len(products), len(clients)) // 2 + 2)\n",
        "print(\"batch size:\", batch_size)\n",
        "\n",
        "print(\"Initializing ckks wrapper\")\n",
        "crypto=pycrypto.CKKSwrapper()\n",
        "print(\"Initialized wrapper\")\n",
        "\n",
        "print(\"Generating keys\")\n",
        "start_time = timeit.default_timer()\n",
        "crypto.KeyGen(max_depth, scale_factor, batch_size)\n",
        "print(\"Keys generated in\", timeit.default_timer() - start_time)\n",
        "\n",
        "print(\"Encrypting\")\n",
        "start_time = timeit.default_timer()\n",
        "m = list()\n",
        "\n",
        "for r in range(len(matrix)):\n",
        "    row = [ 0.0 for _ in range(len(products)) ]\n",
        "    for c, v in matrix[r][1].items():\n",
        "        row[c] =  v * 1.0\n",
        "    m.append( [ crypto.Encrypt( row[:batch_size] ), crypto.Encrypt( row[batch_size:] ) ] )\n",
        "\n",
        "print(\"Encrypted in\", timeit.default_timer() - start_time)\n",
        "\n",
        "random.seed(210826)\n",
        "\n",
        "# use chosen from before\n",
        "#chosen = random.choice(list(clients.keys()))\n",
        "#chosen_row = clients[chosen][0]\n",
        "\n",
        "# similarity to each client using raw inner product as we cannot take sqrt\n",
        "\n",
        "print(\"Negating row\")\n",
        "start_time = timeit.default_timer()\n",
        "minus_row = [ crypto.EvalMultConst(m[chosen_row][0], [ -1.0 for _ in range(batch_size) ]),\n",
        "              crypto.EvalMultConst(m[chosen_row][1], [ -1.0 for _ in range(len(products) - batch_size) ]) ]\n",
        "print(\"Minus row in\", timeit.default_timer() - start_time)\n",
        "\n",
        "print(\"Calculating client similarities\")\n",
        "start_time = timeit.default_timer()\n",
        "client_simil = list()\n",
        "\n",
        "for idx in range(len(clients)):\n",
        "    to_sum = list()\n",
        "    for batch in range(2):\n",
        "        diff = crypto.EvalAdd(m[idx][batch], minus_row[batch])\n",
        "        to_sum.append( crypto.EvalSum( crypto.EvalMult(diff, diff),\n",
        "                                       batch_size if batch == 0 else next_power_of_2(len(products) - batch_size) ) )\n",
        "    dot = crypto.EvalAdd(to_sum[0], to_sum[1])\n",
        "    # EvalSum does not zero the other components in batch\n",
        "    dot = crypto.EvalMultConst(dot, [1 if _ == 0 else 0 for _ in range(batch_size)])\n",
        "    if(idx<10):\n",
        "      sim = crypto.Decrypt(dot)\n",
        "      print(sim[:5])\n",
        "    client_simil.append( dot )\n",
        "print(\"Client similarities in\", timeit.default_timer() - start_time)\n",
        "\n",
        "# now broadcast\n",
        "print(\"Broadcasting similarities\")\n",
        "start_time = timeit.default_timer()\n",
        "for idx in range(len(clients)):\n",
        "    broadcast = client_simil[idx]\n",
        "    blen = 1\n",
        "    while blen < batch_size:\n",
        "        broadcast = crypto.EvalAdd(broadcast, crypto.EvalAtIndex(broadcast, -1 * blen))\n",
        "        blen *= 2\n",
        "    client_simil[idx] = broadcast\n",
        "print(\"Broadcast in\", timeit.default_timer() - start_time)\n",
        "\n",
        "sim0 = crypto.Decrypt(client_simil[0])\n",
        "print(sim0[:10])\n",
        "\n",
        "recos = [ crypto.Encrypt( [0. ]), crypto.Encrypt( [0. ]) ]\n",
        "\n",
        "print(\"Computing recommendations\")\n",
        "start_time = timeit.default_timer()\n",
        "for idx in range(len(clients)):\n",
        "    #print(\"client:\", idx)\n",
        "    weight = client_simil[idx]\n",
        "    weighted = m[idx]\n",
        "    #print(\"weight: {:,}\".format(crypto.Decrypt(weight)[0]))\n",
        "    #print(\"base pref: {:,} {:,}\".format(crypto.Decrypt(weighted[0])[0], crypto.Decrypt(weighted[1])[0]))\n",
        "    for batch in range(2):\n",
        "        mult = crypto.EvalMult(weighted[batch], weight)\n",
        "        #if batch == 0:\n",
        "        #  print(\"mult:\", crypto.Decrypt(mult)[0])\n",
        "        recos[batch] = crypto.EvalAdd(recos[batch], mult)\n",
        "    #print(\"reco: {:,} {:,}\".format(crypto.Decrypt(recos[0])[0], crypto.Decrypt(recos[1])[0]) )\n",
        "    #if idx % 100 == 0:\n",
        "    #  r = crypto.Decrypt(recos[0]) + crypto.Decrypt(recos[1]) \n",
        "    #  print(\"{} {:,} {:,} {:,}\".format(idx, r[0], r[idx], r[8200]))\n",
        "print(\"Recos in\", timeit.default_timer() - start_time)\n",
        "\n",
        "# got the recommendations, now decrypt\n",
        "print(\"Decrypting\")\n",
        "start_time = timeit.default_timer()\n",
        "recos_decrypted = crypto.Decrypt(recos[0])[:batch_size] + crypto.Decrypt(recos[1])[:(len(products)-batch_size)]\n",
        "print(\"Decrypted in\", timeit.default_timer() - start_time)\n",
        "        \n",
        "recos_indexed = sorted(list(map(lambda p: [ p[1], p[0] ], enumerate(recos_decrypted))))\n",
        "\n",
        "print(\"Recommendations for\", chosen, clients[chosen][1])\n",
        "\n",
        "products_for_client = list(matrix[clients[chosen][0]][1].items())\n",
        "random.shuffle(products_for_client)\n",
        "print(\"Sample from\", len(products_for_client),\"products purchased\")\n",
        "for pair in products_for_client[:20]:\n",
        "    print(\"\\t\", products_by_col[pair[0]][1], 'purchased', pair[1], 'times')\n",
        "\n",
        "print(\"Recommended:\")\n",
        "printed = 0\n",
        "for score, col in reversed(recos_indexed):\n",
        "    if col in matrix[chosen_row][1]:\n",
        "        continue\n",
        "    print(\"\\t({}) {} score={:,}\".format(col, products_by_col[col][1], score))        \n",
        "    printed += 1\n",
        "    if printed > 10:\n",
        "        break"
      ],
      "execution_count": 8,
      "outputs": [
        {
          "metadata": {
            "tags": null
          },
          "name": "stdout",
          "output_type": "stream",
          "text": [
            "batch size: 8192\n",
            "Initializing ckks wrapper\n",
            "Initialized wrapper\n",
            "Generating keys\n",
            "Keys generated in 2.200486534999982\n",
            "Encrypting\n",
            "Encrypted in 41.374218603999964\n",
            "Negating row\n",
            "Minus row in 0.02355670399998644\n",
            "Calculating client similarities\n",
            "[2543.0029331590563, 0.00022272064172477844, 5.14884813473055e-06, 7.345911926636128e-05, 9.422511437765053e-05]\n",
            "[702.000934209683, 4.42252059765781e-05, -2.4664709763227452e-05, 1.9774477977833295e-05, 3.8017236403307715e-05]\n",
            "[318.00235036077356, 3.82400945399871e-05, 9.096017673037933e-07, 1.6527713256334596e-05, 1.2284722115581933e-05]\n",
            "[1551.9962418927405, 0.00011649759289338091, -1.435029579902518e-05, 6.263220831370005e-05, 8.455108398973351e-05]\n",
            "[3201.002515160598, 0.00020089419542449296, -2.1368121803311736e-05, 0.0001173929999013855, 0.0001741216505762148]\n",
            "[648.0020633762163, 7.488137367195157e-05, -1.2430883303725452e-05, 4.591505234467087e-05, 3.163950719145137e-05]\n",
            "[1103.9953604524958, 5.825952984472155e-05, -1.7828574833797864e-05, 3.9885889438115636e-05, 5.422621621697713e-05]\n",
            "[745.9930552582407, 6.33677524474745e-05, 2.6528331864081057e-05, -2.481339039266093e-05, 5.3406061439710175e-05]\n",
            "[377.9977247600524, 3.844025761062654e-05, -1.8569549107645534e-05, 1.1969087741229411e-05, -6.078977570314691e-06]\n",
            "[2108.0010060457093, 0.00011617499207429561, -2.6733538718588886e-05, 6.478966731530861e-05, 0.00011466164985186418]\n",
            "Client similarities in 474.55923283399994\n",
            "Broadcasting similarities\n",
            "Broadcast in 208.51971783300007\n",
            "[2543.006374273225, 2542.9983989233037, 2542.996436364694, 2543.004751740324, 2543.0000822458665, 2543.012373552599, 2542.9945218896646, 2543.0068452858286, 2542.9962059644745, 2543.006276569217]\n",
            "Computing recommendations\n",
            "Recos in 37.24648245399999\n",
            "Decrypting\n",
            "Decrypted in 0.06033949500010749\n",
            "Recommendations for SAH9306021Q5 SERVICIOS Y ABASTECIMIENTO HIDRAULICO SA DE CV\n",
            "Sample from 20 products purchased\n",
            "\t Schindler's List (1993) purchased 1 times\n",
            "\t Raiders of the Lost Ark (Indiana Jones and the Raiders of the Lost Ark) (1981) purchased 1 times\n",
            "\t Incredibles, The (2004) purchased 3 times\n",
            "\t Indiana Jones and the Last Crusade (1989) purchased 1 times\n",
            "\t Samsara (2011) purchased 3 times\n",
            "\t Toy Story 3 (2010) purchased 3 times\n",
            "\t Hobbit: An Unexpected Journey, The (2012) purchased 1 times\n",
            "\t Bug's Life, A (1998) purchased 2 times\n",
            "\t Cast Away (2000) purchased 1 times\n",
            "\t Terminator, The (1984) purchased 3 times\n",
            "\t Lord of the Rings: The Two Towers, The (2002) purchased 3 times\n",
            "\t Lord of the Rings: The Fellowship of the Ring, The (2001) purchased 4 times\n",
            "\t Shawshank Redemption, The (1994) purchased 3 times\n",
            "\t Terminator 2: Judgment Day (1991) purchased 1 times\n",
            "\t Forrest Gump (1994) purchased 4 times\n",
            "\t Lord of the Rings: The Return of the King, The (2003) purchased 3 times\n",
            "\t Die Hard (1988) purchased 1 times\n",
            "\t Saving Private Ryan (1998) purchased 2 times\n",
            "\t Matrix, The (1999) purchased 4 times\n",
            "\t Braveheart (1995) purchased 1 times\n",
            "Recommended:\n",
            "\t(21) Pulp Fiction (1994) score=901,833.3737259867\n",
            "\t(91) Star Wars: Episode IV - A New Hope (1977) score=876,659.119887206\n",
            "\t(213) Silence of the Lambs, The (1991) score=799,998.2103253498\n",
            "\t(117) Godfather, The (1972) score=763,593.0014129297\n",
            "\t(245) Star Wars: Episode V - The Empire Strikes Back (1980) score=752,839.8238529296\n",
            "\t(374) American Beauty (1999) score=683,506.6441894877\n",
            "\t(176) Star Wars: Episode VI - Return of the Jedi (1983) score=678,978.737827493\n",
            "\t(1) Fight Club (1999) score=667,000.107529725\n",
            "\t(23) Fargo (1996) score=640,215.8668263955\n",
            "\t(371) Reservoir Dogs (1992) score=636,743.5813176018\n",
            "\t(61) Usual Suspects, The (1995) score=631,687.0615849697\n"
          ]
        }
      ]
    },
    {
      "cell_type": "code",
      "metadata": {
        "id": "uZGeS1SdL9r-"
      },
      "source": [
        ""
      ],
      "execution_count": 8,
      "outputs": []
    }
  ]
}