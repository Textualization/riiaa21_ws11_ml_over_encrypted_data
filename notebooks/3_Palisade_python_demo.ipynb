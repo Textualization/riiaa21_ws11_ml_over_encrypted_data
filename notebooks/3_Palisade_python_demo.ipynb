{
  "nbformat": 4,
  "nbformat_minor": 0,
  "metadata": {
    "colab": {
      "name": "Palisade-python-demo.ipynb",
      "provenance": []
    },
    "kernelspec": {
      "name": "python3",
      "display_name": "Python 3"
    },
    "language_info": {
      "name": "python"
    }
  },
  "cells": [
    {
      "cell_type": "markdown",
      "metadata": {
        "id": "5WXajS9CLzsl"
      },
      "source": [
        "This notebook adapted from https://gitlab.com/palisade/palisade-python-demo\n",
        "\n",
        "Visit the original project for bug reports, updates and local installation instructions.\n",
        "\n",
        "---\n",
        "\n",
        "<a href=\"https://colab.research.google.com/github/Textualization/riiaa21_ws11_ml_over_encrypted_data/blob/main/notebooks/3_Palisade_python_demo.ipynb\" target=\"_parent\"><img src=\"https://colab.research.google.com/assets/colab-badge.svg\" alt=\"Open In Colab\"/></a>\n",
        "\n"
      ]
    },
    {
      "cell_type": "code",
      "metadata": {
        "id": "1IHOEAKQBGBB",
        "outputId": "8d507c2a-074a-4b86-aaff-9a06b14f6473",
        "colab": {
          "base_uri": "https://localhost:8080/"
        }
      },
      "source": [
        "!git clone https://github.com/Textualization/riiaa21_ws11_ml_over_encrypted_data"
      ],
      "execution_count": 5,
      "outputs": [
        {
          "output_type": "stream",
          "text": [
            "rm: cannot remove 'sample_data': No such file or directory\n",
            "Cloning into 'riiaa21_ws11_ml_over_encrypted_data'...\n",
            "remote: Enumerating objects: 53, done.\u001b[K\n",
            "remote: Counting objects: 100% (53/53), done.\u001b[K\n",
            "remote: Compressing objects: 100% (38/38), done.\u001b[K\n",
            "remote: Total 53 (delta 20), reused 45 (delta 14), pack-reused 0\u001b[K\n",
            "Unpacking objects: 100% (53/53), done.\n"
          ],
          "name": "stdout"
        }
      ]
    },
    {
      "cell_type": "code",
      "metadata": {
        "id": "YxREGIVGUzxg"
      },
      "source": [
        "!cp /content/riiaa21_ws11_ml_over_encrypted_data/dependencies/palisade-install.tar.gz /content; cd /content; tar -xzf palisade-install.tar.gz"
      ],
      "execution_count": 8,
      "outputs": []
    },
    {
      "cell_type": "code",
      "metadata": {
        "id": "tE3paQGhVCkW"
      },
      "source": [
        "!mkdir -p /content/riiaa21_ws11_ml_over_encrypted_data/build/lib\n",
        "!cd /content/riiaa21_ws11_ml_over_encrypted_data; c++ -fopenmp -fPIC -std=gnu++11 `python3.7-config --cflags` `python3.7-config --includes` -I/content/palisade-install/include/palisade{,/core,/pke,/third-party/inclue} -o build/lib/ckks_wrapper.o -c src/ckks_wrapper.cpp \n",
        "!cd /content/riiaa21_ws11_ml_over_encrypted_data; c++ -fopenmp -fPIC -std=gnu++11 `python3.7-config --cflags` `python3.7-config --includes` -I/content/palisade-install/include/palisade{,/core,/pke,/third-party/inclue} -o build/lib/pycrypto.o -c src/pycrypto.cpp \n",
        "!cd /content/riiaa21_ws11_ml_over_encrypted_data; /usr/bin/c++ -fPIC  -Wall -Werror -O3  `python3.7-config --ldflags` -DPALISADE_VERSION=1.11.4 -Wno-parentheses -fopenmp -shared -Wl,-soname,pycrypto.so.1 -lpython3.7m -o build/lib/pycrypto.so.1 build/lib/ckks_wrapper.o build/lib/pycrypto.o   -L/content/palisade-install/lib  -Wl,-rpath,/content/palisade-install/lib:  /content/palisade-install/lib/libPALISADEcore.so.1 /content/palisade-install/lib/libPALISADEbinfhe.so.1 /content/palisade-install/lib/libPALISADEpke.so.1  /usr/lib/x86_64-linux-gnu/libpython3.7m.so /usr/lib/x86_64-linux-gnu/libboost_python3-py36.so \n",
        "!cd /content/riiaa21_ws11_ml_over_encrypted_data/build/lib; ln -s pycrypto.so.1 pycrypto.so"
      ],
      "execution_count": 10,
      "outputs": []
    },
    {
      "cell_type": "code",
      "metadata": {
        "id": "b41NXFY9VFbq"
      },
      "source": [
        "import sys\n",
        "sys.path.append('/content/riiaa21_ws11_ml_over_encrypted_data/build/lib')\n",
        "\n",
        "import pycrypto"
      ],
      "execution_count": 11,
      "outputs": []
    },
    {
      "cell_type": "code",
      "metadata": {
        "id": "UgtsP4kCVI8S"
      },
      "source": [
        "import random\n",
        "import csv"
      ],
      "execution_count": 12,
      "outputs": []
    },
    {
      "cell_type": "code",
      "metadata": {
        "id": "L0UKAvs_Vh_5"
      },
      "source": [
        "############################################\n",
        "# computes next smallest power of two >= x\n",
        "\n",
        "def next_power_of_2(x):\n",
        "    return 1 if x == 0 else 2**(x - 1).bit_length()\n",
        "\n",
        "############################################\n",
        "# Reads lsvm-model.csv file and returns:\n",
        "# beta - scaled beta, i.e. beta/s\n",
        "# bias - scaled bias, i.e. bias/s\n",
        "# feature_count - beta length\n",
        "\n",
        "def read_model_data(model_csv):\n",
        "    csv_file = open(model_csv)\n",
        "    csv_reader = csv.reader(csv_file, delimiter=\",\")\n",
        "    feature_count = 0\n",
        "    beta = []\n",
        "    for row in csv_reader:\n",
        "        if feature_count == 0:\n",
        "            s = float(row[0])\n",
        "            print('s ', s)\n",
        "        else:\n",
        "            beta.append(float(row[0]))\n",
        "        feature_count += 1\n",
        "    feature_count = feature_count - 2\n",
        "    bias = beta[feature_count:(feature_count + 1)]\n",
        "    beta = beta[0:feature_count]\n",
        "    beta[:] = [item / s for item in beta]\n",
        "    return beta, bias, feature_count\n",
        "\n",
        "############################################\n",
        "# Reads lsvm-model.csv file and returns:\n",
        "# beta - scaled beta, i.e. beta/s\n",
        "# bias - scaled bias, i.e. bias/s\n",
        "# feature_count - beta length\n",
        "# mu - data normalization parameter\n",
        "# sigma - data normalization parameter\n",
        "\n",
        "\n",
        "def read_model_data_unnorm(model_csv):\n",
        "    csv_file = open(model_csv)\n",
        "    csv_reader = csv.reader(csv_file, delimiter=\",\")\n",
        "    feature_count = 0\n",
        "    beta = []\n",
        "    mu = []\n",
        "    sigma = []\n",
        "    for row in csv_reader:\n",
        "        if feature_count == 0:\n",
        "            s = float(row[0])\n",
        "            print('s ', s)\n",
        "        else:\n",
        "            beta.append(float(row[0]))\n",
        "            mu.append(float(row[1]))\n",
        "            sigma.append(float(row[2]))\n",
        "        feature_count += 1\n",
        "    feature_count = feature_count - 2\n",
        "    bias = beta[feature_count:(feature_count + 1)]\n",
        "    beta = beta[0:feature_count]\n",
        "    beta[:] = [item / s for item in beta]\n",
        "    return beta, bias, feature_count, mu, sigma\n",
        "\n",
        "############################################\n",
        "# Reads lsvm-input.csv file and outputs:\n",
        "# x - list of input vectors\n",
        "# input_count - x length\n",
        "\n",
        "def read_input_data(input_csv):\n",
        "    csv_file = open(input_csv)\n",
        "    csv_reader = csv.reader(csv_file, delimiter=\",\")\n",
        "    input_count = 0\n",
        "    x = []\n",
        "    for row in csv_reader:\n",
        "        xitem = []\n",
        "        for column in row:\n",
        "            xitem.append(float(column))\n",
        "        x.append(xitem);\n",
        "        input_count += 1\n",
        "    return x, input_count\n",
        "\n",
        "############################################\n",
        "# Reads lsvm-input.csv file together with\n",
        "# normalization parameters and outputs:\n",
        "# x - list of input vectors\n",
        "# input_count - x length\n",
        "\n",
        "def read_input_data_unnorm(input_csv, mu, sigma):\n",
        "    csv_file = open(input_csv)\n",
        "    csv_reader = csv.reader(csv_file, delimiter=\",\")\n",
        "    input_count = 0\n",
        "    x = []\n",
        "    for row in csv_reader:\n",
        "        xitem = []\n",
        "        colcount = 0\n",
        "        for column in row:\n",
        "            xitem.append(\n",
        "                (float(column) - float(mu[colcount])) / float(sigma[colcount])\n",
        "            )\n",
        "            colcount += 1\n",
        "        x.append(xitem);\n",
        "        input_count += 1\n",
        "    return x, input_count\n",
        "\n",
        "############################################\n",
        "# Reads lsvm-check.csv file and outputs:\n",
        "# check - check list of +1/-1\n",
        "# check_count - check length\n",
        "\n",
        "def read_check_data(check_csv):\n",
        "    csv_file = open(check_csv)\n",
        "    csv_reader = csv.reader(csv_file, delimiter=\",\")\n",
        "    check_count = 0\n",
        "    check = []\n",
        "    for row in csv_reader:\n",
        "        check.append(float(row[0]));\n",
        "        check_count += 1\n",
        "    return check, check_count\n",
        "\n",
        "############################################\n",
        "# Shuffles the input and check lists\n",
        "# This function is needed if we test random sublists\n",
        "def shuffle_data(x, check):\n",
        "    c = list(zip(x, check))\n",
        "    random.shuffle(c)\n",
        "    x, check = zip(*c)\n",
        "    return x, check\n",
        "\n",
        "\n",
        "############################################\n",
        "# Plaintext version of lsvm\n",
        "# num - number of inputs to be tested\n",
        "# Outputs prediction list\n",
        "\n",
        "def lsvm_plain_beta_plain_input(beta, bias, x, num):\n",
        "    res = []\n",
        "    for i in range(num):\n",
        "        betaxi = [a * b for a, b in zip(beta, x[i])]\n",
        "        ip = sum(betaxi)\n",
        "        ip = ip + bias[0]\n",
        "        res.append(ip)\n",
        "    return res\n",
        "\n",
        "\n",
        "############################################\n",
        "# Encrypt the input to the lsvm\n",
        "# num - number of inputs to be enrypted\n",
        "\n",
        "def enc_input(crypto, x, num):\n",
        "    enc_x = []\n",
        "    for i in range(num):\n",
        "        enc_x.append(crypto.Encrypt(x[i]))\n",
        "    return enc_x\n",
        "\n",
        "\n",
        "############################################\n",
        "# Encrypted version of lsvm with\n",
        "# encrypted beta and bias and\n",
        "# unencrypted input\n",
        "# num - number of inputs to be tested\n",
        "# Outputs encrypted prediction list\n",
        "\n",
        "def lsvm_enc_beta_plain_input(crypto, enc_beta, enc_bias, x, num):\n",
        "    enc_res = []\n",
        "    for i in range(num):\n",
        "        enc_betaxi = crypto.EvalMultConst(enc_beta, x[i])\n",
        "        enc_ip = crypto.EvalSum(enc_betaxi, next_power_of_2(feature_count))\n",
        "        enc_svm = crypto.EvalAdd(enc_ip, enc_bias)\n",
        "        enc_res.append(enc_svm)\n",
        "    return enc_res\n",
        "\n",
        "############################################\n",
        "# Encrypted version of lsvm with\n",
        "# encrypted beta and bias and\n",
        "# encrypted input\n",
        "# num - number of inputs to be tested\n",
        "# Outputs encrypted prediction list\n",
        "\n",
        "def lsvm_enc_beta_enc_input(crypto, enc_beta, enc_bias, enc_x, num):\n",
        "    enc_res = []\n",
        "    for i in range(num):\n",
        "        enc_betaxi = crypto.EvalMult(enc_beta, enc_x[i])\n",
        "        enc_ip = crypto.EvalSum(enc_betaxi, next_power_of_2(feature_count))\n",
        "        enc_svm = crypto.EvalAdd(enc_ip, enc_bias)\n",
        "        enc_res.append(enc_svm)\n",
        "    return enc_res\n",
        "\n",
        "############################################\n",
        "# Decrypt the output of the LSVM\n",
        "# num - number of outputs to be decrypted\n",
        "\n",
        "def dec_output(crypto, enc_res, num):\n",
        "    res = []\n",
        "    for i in range(num):\n",
        "        dec_res = crypto.Decrypt(enc_res[i])\n",
        "        res.append(dec_res[0])\n",
        "    return res\n",
        "\n",
        "############################################\n",
        "# Timing utilities\n",
        "############################################\n",
        "# check the default timer and return the start time in uSec\n",
        "\n",
        "def tic():\n",
        "    import timeit\n",
        "    start_time = timeit.default_timer()\n",
        "    return start_time\n",
        "\n",
        "############################################\n",
        "# check the default timer return elapsed time from start_t\n",
        "\n",
        "def toc(start_time):\n",
        "    import timeit\n",
        "    elapsed = timeit.default_timer() - start_time\n",
        "    return elapsed\n",
        "\n",
        "############################################\n",
        "# same as toc except the result is printed and no value returned\n",
        "\n",
        "\n",
        "def print_toc(start_time, printstring, units=\"msec\"):\n",
        "    import timeit\n",
        "    elapsed = timeit.default_timer() - start_time\n",
        "    if units == \"msec\":\n",
        "        elapsed *= 1000.0\n",
        "        print(printstring, \" {0:5.3f} ms\".format(elapsed))\n",
        "        return elapsed\n",
        "    else:\n",
        "        print(\"unknown units\")\n",
        "        "
      ],
      "execution_count": 13,
      "outputs": []
    },
    {
      "cell_type": "code",
      "metadata": {
        "colab": {
          "base_uri": "https://localhost:8080/"
        },
        "id": "NInekr-TVimJ",
        "outputId": "db52843e-a82c-4765-df9c-74a8547ab72c"
      },
      "source": [
        "############################################\n",
        "# Main Program\n",
        "############################################\n",
        "\n",
        "model = \"credit\"\n",
        "verbose = True\n",
        "num_test = 1\n",
        "\n",
        "print(\"verbose \", verbose)\n",
        "print(\"model \", model)\n",
        "\n",
        "# credit and  ovarian models are stored unnormalized\n",
        "model_fn = \"/content/riiaa21_ws11_ml_over_encrypted_data/data/lsvm-\" + model + \"-model.csv\"\n",
        "input_fn = \"/content/riiaa21_ws11_ml_over_encrypted_data/data/lsvm-\" + model + \"-input.csv\"\n",
        "check_fn = \"/content/riiaa21_ws11_ml_over_encrypted_data/data/lsvm-\" + model + \"-check.csv\"\n",
        "if (model == \"credit\" or model == \"ovarian\"):\n",
        "    beta, bias, feature_count, mu, sigma = read_model_data_unnorm(model_fn)\n",
        "    x, input_count=read_input_data_unnorm(input_fn, mu, sigma)\n",
        "    check, check_count=read_check_data(check_fn)\n",
        "else:\n",
        "    beta, bias, feature_count=read_model_data(model_fn)\n",
        "    x, input_count=read_input_data(input_fn)\n",
        "    check, check_count=read_check_data(check_fn)"
      ],
      "execution_count": 17,
      "outputs": [
        {
          "output_type": "stream",
          "text": [
            "verbose  True\n",
            "model  credit\n",
            "s  0.563246\n"
          ],
          "name": "stdout"
        }
      ]
    },
    {
      "cell_type": "code",
      "metadata": {
        "colab": {
          "base_uri": "https://localhost:8080/"
        },
        "id": "5bl4THVIV6Zd",
        "outputId": "d0cf3f64-435a-4205-ae67-cc234703c8e4"
      },
      "source": [
        "print(\"feature_count:\", feature_count)\n",
        "print(\"input_count:\", input_count)\n",
        "print(\"check_count:\", check_count)\n",
        "\n",
        "if num_test > input_count:\n",
        "    num_test=input_count\n",
        "\n",
        "if num_test == -1:\n",
        "    num_test=input_count\n",
        "\n",
        "print(\"number to test:\", num_test)\n",
        "\n",
        "# CKKS related parameters\n",
        "max_depth=1\n",
        "scale_factor=50\n",
        "batch_size=next_power_of_2(feature_count + 1)\n",
        "\n",
        "print(\"-----Initializing ckks wrapper-----\")\n",
        "st=tic()\n",
        "crypto=pycrypto.CKKSwrapper()\n",
        "print_toc(st, \"Initialized wrapper\")\n"
      ],
      "execution_count": 18,
      "outputs": [
        {
          "output_type": "stream",
          "text": [
            "feature_count: 6\n",
            "input_count: 3932\n",
            "check_count: 3932\n",
            "number to test: 1\n",
            "-----Initializing ckks wrapper-----\n",
            "Initialized wrapper  0.066 ms\n"
          ],
          "name": "stdout"
        },
        {
          "output_type": "execute_result",
          "data": {
            "text/plain": [
              "0.06628000005548529"
            ]
          },
          "metadata": {},
          "execution_count": 18
        }
      ]
    },
    {
      "cell_type": "code",
      "metadata": {
        "id": "pQ_G0_iKYN25",
        "colab": {
          "base_uri": "https://localhost:8080/"
        },
        "outputId": "3ee61a4d-5b7d-4fa0-d8b8-41d3d3454d45"
      },
      "source": [
        "st=tic()\n",
        "crypto.KeyGen(max_depth, scale_factor, batch_size)\n",
        "print_toc(st, \"Keys generated\")"
      ],
      "execution_count": 19,
      "outputs": [
        {
          "output_type": "stream",
          "text": [
            "Keys generated  95.919 ms\n"
          ],
          "name": "stdout"
        },
        {
          "output_type": "execute_result",
          "data": {
            "text/plain": [
              "95.91888800002835"
            ]
          },
          "metadata": {},
          "execution_count": 19
        }
      ]
    },
    {
      "cell_type": "code",
      "metadata": {
        "id": "FDU2rmUeYOMQ",
        "colab": {
          "base_uri": "https://localhost:8080/"
        },
        "outputId": "c2ed9161-74de-4943-acdb-2c781dca5f96"
      },
      "source": [
        "st=tic()\n",
        "enc_beta=crypto.Encrypt(beta)\n",
        "print_toc(st, \"Betas encrypted\")\n",
        "st=tic()\n",
        "enc_bias=crypto.Encrypt(bias)\n",
        "print_toc(st, \"Bias encrypted\")\n",
        "\n",
        "x, check=shuffle_data(x, check)\n",
        "print(\"input shuffled\")\n",
        "\n",
        "print_num=10\n",
        "\n",
        "\n",
        "\n",
        "print(\"-----START LSVM-----\")\n",
        "print(\"\\nPlaintext version\")\n",
        "st=tic()\n",
        "res_plain=lsvm_plain_beta_plain_input(beta, bias, x, num_test)\n",
        "plain_time = print_toc(st, \"Plaintext LSVM runtime\")\n",
        "if verbose:\n",
        "    print(\"result for plaintext case:      \",\n",
        "          [round(i,2) for i in res_plain[0:print_num]], \"...\"\n",
        "    )\n",
        "\n",
        "print(\"\\nEncrypted model, Plaintext input data\")\n",
        "st=tic()\n",
        "enc_res_plain_input=lsvm_enc_beta_plain_input(crypto,\n",
        "                                                enc_beta, enc_bias, x, num_test)\n",
        "res_plain_input=dec_output(crypto, enc_res_plain_input, num_test)\n",
        "plain_in_time = print_toc(st, \"Encrypted model plaintext input LSVM runtime\")\n",
        "slowdown = float(plain_in_time)/float(plain_time)\n",
        "print(\"{0:g} x plaintext runtime\".format(slowdown))\n",
        "if verbose:\n",
        "    print(\"result for plain input case:\",\n",
        "          [round(i,2) for i in res_plain[0:print_num]], \"...\"\n",
        "    )\n",
        "print(\"\\nEncrypted model, Encrypted input data\")\n",
        "st = tic()\n",
        "enc_x = enc_input(crypto, x, num_test)\n",
        "enc_res_enc_input = lsvm_enc_beta_enc_input(crypto,\n",
        "                                            enc_beta, enc_bias, enc_x, num_test)\n",
        "res_enc_input = dec_output(crypto, enc_res_enc_input, num_test)\n",
        "enc_in_time = print_toc(st, \"Encrypted model encrypted input LSVM runtime\")\n",
        "slowdown = float(enc_in_time)/float(plain_time)\n",
        "print(\"{0:g} x plaintext runtime\".format(slowdown))\n",
        "if verbose:\n",
        "    print(\"result for enc input case:  \",\n",
        "          [round(i,2) for i in res_plain[0:print_num]], \"...\"\n",
        "    )\n"
      ],
      "execution_count": 20,
      "outputs": [
        {
          "output_type": "stream",
          "text": [
            "Betas encrypted  8.143 ms\n",
            "Bias encrypted  9.210 ms\n",
            "input shuffled\n",
            "-----START LSVM-----\n",
            "\n",
            "Plaintext version\n",
            "Plaintext LSVM runtime  0.079 ms\n",
            "result for plaintext case:       [-2.8] ...\n",
            "\n",
            "Encrypted model, Plaintext input data\n",
            "Encrypted model plaintext input LSVM runtime  60.898 ms\n",
            "770.652 x plaintext runtime\n",
            "result for plain input case: [-2.8] ...\n",
            "\n",
            "Encrypted model, Encrypted input data\n",
            "Encrypted model encrypted input LSVM runtime  73.027 ms\n",
            "924.135 x plaintext runtime\n",
            "result for enc input case:   [-2.8] ...\n"
          ],
          "name": "stdout"
        }
      ]
    },
    {
      "cell_type": "markdown",
      "metadata": {
        "id": "-DdL1fa4NXxq"
      },
      "source": [
        "# Playground"
      ]
    },
    {
      "cell_type": "code",
      "metadata": {
        "id": "MgvyH79Q0OZW"
      },
      "source": [
        "crypto.KeyGen(2, 50, 1)"
      ],
      "execution_count": 21,
      "outputs": []
    },
    {
      "cell_type": "code",
      "metadata": {
        "id": "Zmi4xMPL0XlH"
      },
      "source": [
        "e1 = crypto.Encrypt( [ 0.0 ])"
      ],
      "execution_count": 22,
      "outputs": []
    },
    {
      "cell_type": "code",
      "metadata": {
        "id": "x-RA_qQO0qaf"
      },
      "source": [
        "e2 = crypto.Encrypt( [ 1.1 ] )"
      ],
      "execution_count": 23,
      "outputs": []
    },
    {
      "cell_type": "code",
      "metadata": {
        "id": "YGHdlQlS0tU9"
      },
      "source": [
        "e3 = crypto.EvalAdd(e1,e2)"
      ],
      "execution_count": 24,
      "outputs": []
    },
    {
      "cell_type": "code",
      "metadata": {
        "colab": {
          "base_uri": "https://localhost:8080/"
        },
        "id": "2aqWp0qX0xLk",
        "outputId": "cb0cb8fe-98be-4204-ca76-aab069a48903"
      },
      "source": [
        "crypto.Decrypt(e3)[0]"
      ],
      "execution_count": 25,
      "outputs": [
        {
          "output_type": "execute_result",
          "data": {
            "text/plain": [
              "1.0999999999490266"
            ]
          },
          "metadata": {},
          "execution_count": 25
        }
      ]
    },
    {
      "cell_type": "code",
      "metadata": {
        "id": "EB_x9ruG0y_O"
      },
      "source": [
        "m1 = crypto.EvalMult(e2,e3)"
      ],
      "execution_count": 26,
      "outputs": []
    },
    {
      "cell_type": "code",
      "metadata": {
        "colab": {
          "base_uri": "https://localhost:8080/",
          "height": 164
        },
        "id": "quSBpSJd1IJ-",
        "outputId": "c9da8777-d663-4a94-9fb0-7f0cf0b78e9f"
      },
      "source": [
        "m2 = crypto.EvalMult(m1,e3)"
      ],
      "execution_count": 27,
      "outputs": [
        {
          "output_type": "error",
          "ename": "RuntimeError",
          "evalue": "ignored",
          "traceback": [
            "\u001b[0;31m---------------------------------------------------------------------------\u001b[0m",
            "\u001b[0;31mRuntimeError\u001b[0m                              Traceback (most recent call last)",
            "\u001b[0;32m<ipython-input-27-1fefbaddaa70>\u001b[0m in \u001b[0;36m<module>\u001b[0;34m()\u001b[0m\n\u001b[0;32m----> 1\u001b[0;31m \u001b[0mm2\u001b[0m \u001b[0;34m=\u001b[0m \u001b[0mcrypto\u001b[0m\u001b[0;34m.\u001b[0m\u001b[0mEvalMult\u001b[0m\u001b[0;34m(\u001b[0m\u001b[0mm1\u001b[0m\u001b[0;34m,\u001b[0m\u001b[0me3\u001b[0m\u001b[0;34m)\u001b[0m\u001b[0;34m\u001b[0m\u001b[0;34m\u001b[0m\u001b[0m\n\u001b[0m",
            "\u001b[0;31mRuntimeError\u001b[0m: /content/palisade-release/src/pke/include/pubkeylp.h:4539 ModReduceInternalInPlace has not been enabled for this scheme."
          ]
        }
      ]
    },
    {
      "cell_type": "code",
      "metadata": {
        "id": "Buq02wiN1Ldx"
      },
      "source": [
        ""
      ],
      "execution_count": null,
      "outputs": []
    }
  ]
}